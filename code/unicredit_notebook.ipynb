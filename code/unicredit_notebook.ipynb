{
 "cells": [
  {
   "cell_type": "markdown",
   "id": "190a2b8a",
   "metadata": {},
   "source": [
    "# Unicredit training camp\n",
    "\n",
    "---"
   ]
  },
  {
   "cell_type": "markdown",
   "id": "fa332d6f",
   "metadata": {},
   "source": [
    "## Imports"
   ]
  },
  {
   "cell_type": "code",
   "execution_count": 1,
   "id": "b7167252",
   "metadata": {
    "ExecuteTime": {
     "end_time": "2021-06-30T11:13:10.282413Z",
     "start_time": "2021-06-30T11:13:10.030252Z"
    }
   },
   "outputs": [],
   "source": [
    "import pandas as pd"
   ]
  },
  {
   "cell_type": "markdown",
   "id": "8eea12f4",
   "metadata": {},
   "source": [
    "## Data loading"
   ]
  },
  {
   "cell_type": "code",
   "execution_count": 13,
   "id": "54d366ed",
   "metadata": {
    "ExecuteTime": {
     "end_time": "2021-06-30T11:23:35.657606Z",
     "start_time": "2021-06-30T11:23:35.547670Z"
    }
   },
   "outputs": [],
   "source": [
    "train_set = pd.read_csv('../data/kg_train.csv')\n",
    "val_set = pd.read_csv('../data/kg_validation.csv')\n",
    "test_set = pd.read_csv('../data/kg_test_nolabel.csv')"
   ]
  },
  {
   "cell_type": "code",
   "execution_count": 4,
   "id": "1dc46ddc",
   "metadata": {
    "ExecuteTime": {
     "end_time": "2021-06-30T11:16:50.421881Z",
     "start_time": "2021-06-30T11:16:50.389526Z"
    }
   },
   "outputs": [
    {
     "data": {
      "text/html": [
       "<div>\n",
       "<style scoped>\n",
       "    .dataframe tbody tr th:only-of-type {\n",
       "        vertical-align: middle;\n",
       "    }\n",
       "\n",
       "    .dataframe tbody tr th {\n",
       "        vertical-align: top;\n",
       "    }\n",
       "\n",
       "    .dataframe thead th {\n",
       "        text-align: right;\n",
       "    }\n",
       "</style>\n",
       "<table border=\"1\" class=\"dataframe\">\n",
       "  <thead>\n",
       "    <tr style=\"text-align: right;\">\n",
       "      <th></th>\n",
       "      <th>Id</th>\n",
       "      <th>Triple</th>\n",
       "      <th>Label</th>\n",
       "    </tr>\n",
       "  </thead>\n",
       "  <tbody>\n",
       "    <tr>\n",
       "      <th>0</th>\n",
       "      <td>0</td>\n",
       "      <td>34881 intercommunality 14230</td>\n",
       "      <td>0</td>\n",
       "    </tr>\n",
       "    <tr>\n",
       "      <th>1</th>\n",
       "      <td>1</td>\n",
       "      <td>9387 ownerOper 39573</td>\n",
       "      <td>0</td>\n",
       "    </tr>\n",
       "    <tr>\n",
       "      <th>2</th>\n",
       "      <td>2</td>\n",
       "      <td>12480 coach 24064</td>\n",
       "      <td>0</td>\n",
       "    </tr>\n",
       "    <tr>\n",
       "      <th>3</th>\n",
       "      <td>3</td>\n",
       "      <td>6871 branches 22010</td>\n",
       "      <td>0</td>\n",
       "    </tr>\n",
       "    <tr>\n",
       "      <th>4</th>\n",
       "      <td>4</td>\n",
       "      <td>13789 damsire 33095</td>\n",
       "      <td>0</td>\n",
       "    </tr>\n",
       "  </tbody>\n",
       "</table>\n",
       "</div>"
      ],
      "text/plain": [
       "   Id                        Triple  Label\n",
       "0   0  34881 intercommunality 14230      0\n",
       "1   1          9387 ownerOper 39573      0\n",
       "2   2             12480 coach 24064      0\n",
       "3   3           6871 branches 22010      0\n",
       "4   4           13789 damsire 33095      0"
      ]
     },
     "execution_count": 4,
     "metadata": {},
     "output_type": "execute_result"
    }
   ],
   "source": [
    "train_set.head()"
   ]
  },
  {
   "cell_type": "code",
   "execution_count": 14,
   "id": "1ff7df9b",
   "metadata": {
    "ExecuteTime": {
     "end_time": "2021-06-30T11:24:07.263109Z",
     "start_time": "2021-06-30T11:24:06.829270Z"
    }
   },
   "outputs": [],
   "source": [
    "train_set[['head', 'relation', 'tail']] = train_set['Triple'].str.split(' ', 2, expand=True)\n",
    "val_set[['head', 'relation', 'tail']] = val_set['Triple'].str.split(' ', 2, expand=True)\n",
    "test_set[['head', 'relation', 'tail']] = test_set['Triple'].str.split(' ', 2, expand=True)"
   ]
  },
  {
   "cell_type": "code",
   "execution_count": 15,
   "id": "8da28fca",
   "metadata": {
    "ExecuteTime": {
     "end_time": "2021-06-30T11:24:08.600064Z",
     "start_time": "2021-06-30T11:24:08.589782Z"
    }
   },
   "outputs": [
    {
     "data": {
      "text/html": [
       "<div>\n",
       "<style scoped>\n",
       "    .dataframe tbody tr th:only-of-type {\n",
       "        vertical-align: middle;\n",
       "    }\n",
       "\n",
       "    .dataframe tbody tr th {\n",
       "        vertical-align: top;\n",
       "    }\n",
       "\n",
       "    .dataframe thead th {\n",
       "        text-align: right;\n",
       "    }\n",
       "</style>\n",
       "<table border=\"1\" class=\"dataframe\">\n",
       "  <thead>\n",
       "    <tr style=\"text-align: right;\">\n",
       "      <th></th>\n",
       "      <th>Id</th>\n",
       "      <th>Triple</th>\n",
       "      <th>Label</th>\n",
       "      <th>head</th>\n",
       "      <th>relation</th>\n",
       "      <th>tail</th>\n",
       "    </tr>\n",
       "  </thead>\n",
       "  <tbody>\n",
       "    <tr>\n",
       "      <th>0</th>\n",
       "      <td>0</td>\n",
       "      <td>34881 intercommunality 14230</td>\n",
       "      <td>0</td>\n",
       "      <td>34881</td>\n",
       "      <td>intercommunality</td>\n",
       "      <td>14230</td>\n",
       "    </tr>\n",
       "    <tr>\n",
       "      <th>1</th>\n",
       "      <td>1</td>\n",
       "      <td>9387 ownerOper 39573</td>\n",
       "      <td>0</td>\n",
       "      <td>9387</td>\n",
       "      <td>ownerOper</td>\n",
       "      <td>39573</td>\n",
       "    </tr>\n",
       "    <tr>\n",
       "      <th>2</th>\n",
       "      <td>2</td>\n",
       "      <td>12480 coach 24064</td>\n",
       "      <td>0</td>\n",
       "      <td>12480</td>\n",
       "      <td>coach</td>\n",
       "      <td>24064</td>\n",
       "    </tr>\n",
       "    <tr>\n",
       "      <th>3</th>\n",
       "      <td>3</td>\n",
       "      <td>6871 branches 22010</td>\n",
       "      <td>0</td>\n",
       "      <td>6871</td>\n",
       "      <td>branches</td>\n",
       "      <td>22010</td>\n",
       "    </tr>\n",
       "    <tr>\n",
       "      <th>4</th>\n",
       "      <td>4</td>\n",
       "      <td>13789 damsire 33095</td>\n",
       "      <td>0</td>\n",
       "      <td>13789</td>\n",
       "      <td>damsire</td>\n",
       "      <td>33095</td>\n",
       "    </tr>\n",
       "  </tbody>\n",
       "</table>\n",
       "</div>"
      ],
      "text/plain": [
       "   Id                        Triple  Label   head          relation   tail\n",
       "0   0  34881 intercommunality 14230      0  34881  intercommunality  14230\n",
       "1   1          9387 ownerOper 39573      0   9387         ownerOper  39573\n",
       "2   2             12480 coach 24064      0  12480             coach  24064\n",
       "3   3           6871 branches 22010      0   6871          branches  22010\n",
       "4   4           13789 damsire 33095      0  13789           damsire  33095"
      ]
     },
     "execution_count": 15,
     "metadata": {},
     "output_type": "execute_result"
    }
   ],
   "source": [
    "train_set.head()"
   ]
  },
  {
   "cell_type": "code",
   "execution_count": 16,
   "id": "0c5dd7a6",
   "metadata": {
    "ExecuteTime": {
     "end_time": "2021-06-30T11:24:27.218518Z",
     "start_time": "2021-06-30T11:24:27.210808Z"
    },
    "run_control": {
     "marked": false
    }
   },
   "outputs": [
    {
     "data": {
      "text/html": [
       "<div>\n",
       "<style scoped>\n",
       "    .dataframe tbody tr th:only-of-type {\n",
       "        vertical-align: middle;\n",
       "    }\n",
       "\n",
       "    .dataframe tbody tr th {\n",
       "        vertical-align: top;\n",
       "    }\n",
       "\n",
       "    .dataframe thead th {\n",
       "        text-align: right;\n",
       "    }\n",
       "</style>\n",
       "<table border=\"1\" class=\"dataframe\">\n",
       "  <thead>\n",
       "    <tr style=\"text-align: right;\">\n",
       "      <th></th>\n",
       "      <th>Id</th>\n",
       "      <th>Triple</th>\n",
       "      <th>Label</th>\n",
       "      <th>head</th>\n",
       "      <th>relation</th>\n",
       "      <th>tail</th>\n",
       "    </tr>\n",
       "  </thead>\n",
       "  <tbody>\n",
       "    <tr>\n",
       "      <th>0</th>\n",
       "      <td>91802</td>\n",
       "      <td>41074 host 9832</td>\n",
       "      <td>0</td>\n",
       "      <td>41074</td>\n",
       "      <td>host</td>\n",
       "      <td>9832</td>\n",
       "    </tr>\n",
       "    <tr>\n",
       "      <th>1</th>\n",
       "      <td>91803</td>\n",
       "      <td>12583 primaryLanguages 388</td>\n",
       "      <td>0</td>\n",
       "      <td>12583</td>\n",
       "      <td>primaryLanguages</td>\n",
       "      <td>388</td>\n",
       "    </tr>\n",
       "    <tr>\n",
       "      <th>2</th>\n",
       "      <td>91804</td>\n",
       "      <td>22259 seasonTopscorer 22261</td>\n",
       "      <td>1</td>\n",
       "      <td>22259</td>\n",
       "      <td>seasonTopscorer</td>\n",
       "      <td>22261</td>\n",
       "    </tr>\n",
       "    <tr>\n",
       "      <th>3</th>\n",
       "      <td>91805</td>\n",
       "      <td>8408 jurisdiction 646</td>\n",
       "      <td>0</td>\n",
       "      <td>8408</td>\n",
       "      <td>jurisdiction</td>\n",
       "      <td>646</td>\n",
       "    </tr>\n",
       "    <tr>\n",
       "      <th>4</th>\n",
       "      <td>91806</td>\n",
       "      <td>32 combatant 20690</td>\n",
       "      <td>0</td>\n",
       "      <td>32</td>\n",
       "      <td>combatant</td>\n",
       "      <td>20690</td>\n",
       "    </tr>\n",
       "  </tbody>\n",
       "</table>\n",
       "</div>"
      ],
      "text/plain": [
       "      Id                       Triple  Label   head          relation   tail\n",
       "0  91802              41074 host 9832      0  41074              host   9832\n",
       "1  91803   12583 primaryLanguages 388      0  12583  primaryLanguages    388\n",
       "2  91804  22259 seasonTopscorer 22261      1  22259   seasonTopscorer  22261\n",
       "3  91805        8408 jurisdiction 646      0   8408      jurisdiction    646\n",
       "4  91806           32 combatant 20690      0     32         combatant  20690"
      ]
     },
     "execution_count": 16,
     "metadata": {},
     "output_type": "execute_result"
    }
   ],
   "source": [
    "val_set.head()"
   ]
  },
  {
   "cell_type": "code",
   "execution_count": 17,
   "id": "dde99979",
   "metadata": {
    "ExecuteTime": {
     "end_time": "2021-06-30T11:24:40.150270Z",
     "start_time": "2021-06-30T11:24:40.138124Z"
    }
   },
   "outputs": [
    {
     "data": {
      "text/html": [
       "<div>\n",
       "<style scoped>\n",
       "    .dataframe tbody tr th:only-of-type {\n",
       "        vertical-align: middle;\n",
       "    }\n",
       "\n",
       "    .dataframe tbody tr th {\n",
       "        vertical-align: top;\n",
       "    }\n",
       "\n",
       "    .dataframe thead th {\n",
       "        text-align: right;\n",
       "    }\n",
       "</style>\n",
       "<table border=\"1\" class=\"dataframe\">\n",
       "  <thead>\n",
       "    <tr style=\"text-align: right;\">\n",
       "      <th></th>\n",
       "      <th>Id</th>\n",
       "      <th>Triple</th>\n",
       "      <th>head</th>\n",
       "      <th>relation</th>\n",
       "      <th>tail</th>\n",
       "    </tr>\n",
       "  </thead>\n",
       "  <tbody>\n",
       "    <tr>\n",
       "      <th>0</th>\n",
       "      <td>114754</td>\n",
       "      <td>1322 operatingSystem 14477</td>\n",
       "      <td>1322</td>\n",
       "      <td>operatingSystem</td>\n",
       "      <td>14477</td>\n",
       "    </tr>\n",
       "    <tr>\n",
       "      <th>1</th>\n",
       "      <td>114755</td>\n",
       "      <td>5210 parent 11412</td>\n",
       "      <td>5210</td>\n",
       "      <td>parent</td>\n",
       "      <td>11412</td>\n",
       "    </tr>\n",
       "    <tr>\n",
       "      <th>2</th>\n",
       "      <td>114756</td>\n",
       "      <td>38658 leadersSeat 35321</td>\n",
       "      <td>38658</td>\n",
       "      <td>leadersSeat</td>\n",
       "      <td>35321</td>\n",
       "    </tr>\n",
       "    <tr>\n",
       "      <th>3</th>\n",
       "      <td>114757</td>\n",
       "      <td>41457 cableServ 4591</td>\n",
       "      <td>41457</td>\n",
       "      <td>cableServ</td>\n",
       "      <td>4591</td>\n",
       "    </tr>\n",
       "    <tr>\n",
       "      <th>4</th>\n",
       "      <td>114758</td>\n",
       "      <td>21579 visitorConference 214</td>\n",
       "      <td>21579</td>\n",
       "      <td>visitorConference</td>\n",
       "      <td>214</td>\n",
       "    </tr>\n",
       "  </tbody>\n",
       "</table>\n",
       "</div>"
      ],
      "text/plain": [
       "       Id                       Triple   head           relation   tail\n",
       "0  114754   1322 operatingSystem 14477   1322    operatingSystem  14477\n",
       "1  114755            5210 parent 11412   5210             parent  11412\n",
       "2  114756      38658 leadersSeat 35321  38658        leadersSeat  35321\n",
       "3  114757         41457 cableServ 4591  41457          cableServ   4591\n",
       "4  114758  21579 visitorConference 214  21579  visitorConference    214"
      ]
     },
     "execution_count": 17,
     "metadata": {},
     "output_type": "execute_result"
    }
   ],
   "source": [
    "test_set.head()"
   ]
  }
 ],
 "metadata": {
  "hide_input": false,
  "kernelspec": {
   "display_name": "Python 3 (ipykernel)",
   "language": "python",
   "name": "python3"
  },
  "language_info": {
   "codemirror_mode": {
    "name": "ipython",
    "version": 3
   },
   "file_extension": ".py",
   "mimetype": "text/x-python",
   "name": "python",
   "nbconvert_exporter": "python",
   "pygments_lexer": "ipython3",
   "version": "3.9.5"
  },
  "latex_envs": {
   "LaTeX_envs_menu_present": true,
   "autoclose": true,
   "autocomplete": true,
   "bibliofile": "biblio.bib",
   "cite_by": "apalike",
   "current_citInitial": 1,
   "eqLabelWithNumbers": true,
   "eqNumInitial": 1,
   "hotkeys": {
    "equation": "Ctrl-E",
    "itemize": "Ctrl-I"
   },
   "labels_anchors": false,
   "latex_user_defs": false,
   "report_style_numbering": false,
   "user_envs_cfg": false
  },
  "toc": {
   "base_numbering": 1,
   "nav_menu": {},
   "number_sections": true,
   "sideBar": true,
   "skip_h1_title": false,
   "title_cell": "Table of Contents",
   "title_sidebar": "Contents",
   "toc_cell": false,
   "toc_position": {},
   "toc_section_display": true,
   "toc_window_display": false
  },
  "varInspector": {
   "cols": {
    "lenName": 16,
    "lenType": 16,
    "lenVar": 40
   },
   "kernels_config": {
    "python": {
     "delete_cmd_postfix": "",
     "delete_cmd_prefix": "del ",
     "library": "var_list.py",
     "varRefreshCmd": "print(var_dic_list())"
    },
    "r": {
     "delete_cmd_postfix": ") ",
     "delete_cmd_prefix": "rm(",
     "library": "var_list.r",
     "varRefreshCmd": "cat(var_dic_list()) "
    }
   },
   "types_to_exclude": [
    "module",
    "function",
    "builtin_function_or_method",
    "instance",
    "_Feature"
   ],
   "window_display": false
  }
 },
 "nbformat": 4,
 "nbformat_minor": 5
}
