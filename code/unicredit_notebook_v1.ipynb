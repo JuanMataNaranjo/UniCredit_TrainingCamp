{
 "cells": [
  {
   "cell_type": "markdown",
   "id": "6ad2b517",
   "metadata": {},
   "source": [
    "# Unicredit training camp\n",
    "\n",
    "---"
   ]
  },
  {
   "cell_type": "markdown",
   "id": "885b15bf",
   "metadata": {},
   "source": [
    "## Imports"
   ]
  },
  {
   "cell_type": "code",
   "execution_count": 3,
   "id": "ad07ba2e",
   "metadata": {
    "ExecuteTime": {
     "end_time": "2021-06-30T16:38:55.486990Z",
     "start_time": "2021-06-30T16:38:55.482702Z"
    }
   },
   "outputs": [],
   "source": [
    "import pandas as pd\n",
    "import node2vec\n",
    "import networkx as nx"
   ]
  },
  {
   "cell_type": "markdown",
   "id": "f4182e5b",
   "metadata": {},
   "source": [
    "## Data loading"
   ]
  },
  {
   "cell_type": "code",
   "execution_count": 4,
   "id": "624a8de2",
   "metadata": {
    "ExecuteTime": {
     "end_time": "2021-06-30T16:39:08.981752Z",
     "start_time": "2021-06-30T16:39:08.817036Z"
    }
   },
   "outputs": [],
   "source": [
    "train_set = pd.read_csv('../data/kg_train.csv')\n",
    "val_set = pd.read_csv('../data/kg_validation.csv')\n",
    "test_set = pd.read_csv('../data/kg_test_nolabel.csv')\n",
    "train_val_set = pd.read_csv('../data/kg_pykeen_trainvalidation.tsv', sep='\\t', names=['source', 'relation', 'tail'])"
   ]
  },
  {
   "cell_type": "code",
   "execution_count": 5,
   "id": "6d36fb99",
   "metadata": {
    "ExecuteTime": {
     "end_time": "2021-06-30T16:39:09.008226Z",
     "start_time": "2021-06-30T16:39:08.984544Z"
    }
   },
   "outputs": [
    {
     "data": {
      "text/html": [
       "<div>\n",
       "<style scoped>\n",
       "    .dataframe tbody tr th:only-of-type {\n",
       "        vertical-align: middle;\n",
       "    }\n",
       "\n",
       "    .dataframe tbody tr th {\n",
       "        vertical-align: top;\n",
       "    }\n",
       "\n",
       "    .dataframe thead th {\n",
       "        text-align: right;\n",
       "    }\n",
       "</style>\n",
       "<table border=\"1\" class=\"dataframe\">\n",
       "  <thead>\n",
       "    <tr style=\"text-align: right;\">\n",
       "      <th></th>\n",
       "      <th>Id</th>\n",
       "      <th>Triple</th>\n",
       "      <th>Label</th>\n",
       "    </tr>\n",
       "  </thead>\n",
       "  <tbody>\n",
       "    <tr>\n",
       "      <th>0</th>\n",
       "      <td>0</td>\n",
       "      <td>34881 intercommunality 14230</td>\n",
       "      <td>0</td>\n",
       "    </tr>\n",
       "    <tr>\n",
       "      <th>1</th>\n",
       "      <td>1</td>\n",
       "      <td>9387 ownerOper 39573</td>\n",
       "      <td>0</td>\n",
       "    </tr>\n",
       "    <tr>\n",
       "      <th>2</th>\n",
       "      <td>2</td>\n",
       "      <td>12480 coach 24064</td>\n",
       "      <td>0</td>\n",
       "    </tr>\n",
       "    <tr>\n",
       "      <th>3</th>\n",
       "      <td>3</td>\n",
       "      <td>6871 branches 22010</td>\n",
       "      <td>0</td>\n",
       "    </tr>\n",
       "    <tr>\n",
       "      <th>4</th>\n",
       "      <td>4</td>\n",
       "      <td>13789 damsire 33095</td>\n",
       "      <td>0</td>\n",
       "    </tr>\n",
       "  </tbody>\n",
       "</table>\n",
       "</div>"
      ],
      "text/plain": [
       "   Id                        Triple  Label\n",
       "0   0  34881 intercommunality 14230      0\n",
       "1   1          9387 ownerOper 39573      0\n",
       "2   2             12480 coach 24064      0\n",
       "3   3           6871 branches 22010      0\n",
       "4   4           13789 damsire 33095      0"
      ]
     },
     "execution_count": 5,
     "metadata": {},
     "output_type": "execute_result"
    }
   ],
   "source": [
    "train_set.head()"
   ]
  },
  {
   "cell_type": "code",
   "execution_count": 6,
   "id": "66ec0264",
   "metadata": {
    "ExecuteTime": {
     "end_time": "2021-06-30T16:39:09.694906Z",
     "start_time": "2021-06-30T16:39:09.010267Z"
    }
   },
   "outputs": [],
   "source": [
    "train_set[['head', 'relation', 'tail']] = train_set['Triple'].str.split(' ', 2, expand=True)\n",
    "val_set[['head', 'relation', 'tail']] = val_set['Triple'].str.split(' ', 2, expand=True)\n",
    "test_set[['head', 'relation', 'tail']] = test_set['Triple'].str.split(' ', 2, expand=True)"
   ]
  },
  {
   "cell_type": "code",
   "execution_count": 7,
   "id": "72083d7f",
   "metadata": {
    "ExecuteTime": {
     "end_time": "2021-06-30T16:39:09.712766Z",
     "start_time": "2021-06-30T16:39:09.696903Z"
    }
   },
   "outputs": [
    {
     "data": {
      "text/html": [
       "<div>\n",
       "<style scoped>\n",
       "    .dataframe tbody tr th:only-of-type {\n",
       "        vertical-align: middle;\n",
       "    }\n",
       "\n",
       "    .dataframe tbody tr th {\n",
       "        vertical-align: top;\n",
       "    }\n",
       "\n",
       "    .dataframe thead th {\n",
       "        text-align: right;\n",
       "    }\n",
       "</style>\n",
       "<table border=\"1\" class=\"dataframe\">\n",
       "  <thead>\n",
       "    <tr style=\"text-align: right;\">\n",
       "      <th></th>\n",
       "      <th>Id</th>\n",
       "      <th>Triple</th>\n",
       "      <th>Label</th>\n",
       "      <th>head</th>\n",
       "      <th>relation</th>\n",
       "      <th>tail</th>\n",
       "    </tr>\n",
       "  </thead>\n",
       "  <tbody>\n",
       "    <tr>\n",
       "      <th>0</th>\n",
       "      <td>0</td>\n",
       "      <td>34881 intercommunality 14230</td>\n",
       "      <td>0</td>\n",
       "      <td>34881</td>\n",
       "      <td>intercommunality</td>\n",
       "      <td>14230</td>\n",
       "    </tr>\n",
       "    <tr>\n",
       "      <th>1</th>\n",
       "      <td>1</td>\n",
       "      <td>9387 ownerOper 39573</td>\n",
       "      <td>0</td>\n",
       "      <td>9387</td>\n",
       "      <td>ownerOper</td>\n",
       "      <td>39573</td>\n",
       "    </tr>\n",
       "    <tr>\n",
       "      <th>2</th>\n",
       "      <td>2</td>\n",
       "      <td>12480 coach 24064</td>\n",
       "      <td>0</td>\n",
       "      <td>12480</td>\n",
       "      <td>coach</td>\n",
       "      <td>24064</td>\n",
       "    </tr>\n",
       "    <tr>\n",
       "      <th>3</th>\n",
       "      <td>3</td>\n",
       "      <td>6871 branches 22010</td>\n",
       "      <td>0</td>\n",
       "      <td>6871</td>\n",
       "      <td>branches</td>\n",
       "      <td>22010</td>\n",
       "    </tr>\n",
       "    <tr>\n",
       "      <th>4</th>\n",
       "      <td>4</td>\n",
       "      <td>13789 damsire 33095</td>\n",
       "      <td>0</td>\n",
       "      <td>13789</td>\n",
       "      <td>damsire</td>\n",
       "      <td>33095</td>\n",
       "    </tr>\n",
       "  </tbody>\n",
       "</table>\n",
       "</div>"
      ],
      "text/plain": [
       "   Id                        Triple  Label   head          relation   tail\n",
       "0   0  34881 intercommunality 14230      0  34881  intercommunality  14230\n",
       "1   1          9387 ownerOper 39573      0   9387         ownerOper  39573\n",
       "2   2             12480 coach 24064      0  12480             coach  24064\n",
       "3   3           6871 branches 22010      0   6871          branches  22010\n",
       "4   4           13789 damsire 33095      0  13789           damsire  33095"
      ]
     },
     "execution_count": 7,
     "metadata": {},
     "output_type": "execute_result"
    }
   ],
   "source": [
    "train_set.head()"
   ]
  },
  {
   "cell_type": "code",
   "execution_count": 8,
   "id": "3313b61b",
   "metadata": {
    "ExecuteTime": {
     "end_time": "2021-06-30T16:39:09.732939Z",
     "start_time": "2021-06-30T16:39:09.714600Z"
    },
    "run_control": {
     "marked": false
    }
   },
   "outputs": [
    {
     "data": {
      "text/html": [
       "<div>\n",
       "<style scoped>\n",
       "    .dataframe tbody tr th:only-of-type {\n",
       "        vertical-align: middle;\n",
       "    }\n",
       "\n",
       "    .dataframe tbody tr th {\n",
       "        vertical-align: top;\n",
       "    }\n",
       "\n",
       "    .dataframe thead th {\n",
       "        text-align: right;\n",
       "    }\n",
       "</style>\n",
       "<table border=\"1\" class=\"dataframe\">\n",
       "  <thead>\n",
       "    <tr style=\"text-align: right;\">\n",
       "      <th></th>\n",
       "      <th>Id</th>\n",
       "      <th>Triple</th>\n",
       "      <th>Label</th>\n",
       "      <th>head</th>\n",
       "      <th>relation</th>\n",
       "      <th>tail</th>\n",
       "    </tr>\n",
       "  </thead>\n",
       "  <tbody>\n",
       "    <tr>\n",
       "      <th>0</th>\n",
       "      <td>91802</td>\n",
       "      <td>41074 host 9832</td>\n",
       "      <td>0</td>\n",
       "      <td>41074</td>\n",
       "      <td>host</td>\n",
       "      <td>9832</td>\n",
       "    </tr>\n",
       "    <tr>\n",
       "      <th>1</th>\n",
       "      <td>91803</td>\n",
       "      <td>12583 primaryLanguages 388</td>\n",
       "      <td>0</td>\n",
       "      <td>12583</td>\n",
       "      <td>primaryLanguages</td>\n",
       "      <td>388</td>\n",
       "    </tr>\n",
       "    <tr>\n",
       "      <th>2</th>\n",
       "      <td>91804</td>\n",
       "      <td>22259 seasonTopscorer 22261</td>\n",
       "      <td>1</td>\n",
       "      <td>22259</td>\n",
       "      <td>seasonTopscorer</td>\n",
       "      <td>22261</td>\n",
       "    </tr>\n",
       "    <tr>\n",
       "      <th>3</th>\n",
       "      <td>91805</td>\n",
       "      <td>8408 jurisdiction 646</td>\n",
       "      <td>0</td>\n",
       "      <td>8408</td>\n",
       "      <td>jurisdiction</td>\n",
       "      <td>646</td>\n",
       "    </tr>\n",
       "    <tr>\n",
       "      <th>4</th>\n",
       "      <td>91806</td>\n",
       "      <td>32 combatant 20690</td>\n",
       "      <td>0</td>\n",
       "      <td>32</td>\n",
       "      <td>combatant</td>\n",
       "      <td>20690</td>\n",
       "    </tr>\n",
       "  </tbody>\n",
       "</table>\n",
       "</div>"
      ],
      "text/plain": [
       "      Id                       Triple  Label   head          relation   tail\n",
       "0  91802              41074 host 9832      0  41074              host   9832\n",
       "1  91803   12583 primaryLanguages 388      0  12583  primaryLanguages    388\n",
       "2  91804  22259 seasonTopscorer 22261      1  22259   seasonTopscorer  22261\n",
       "3  91805        8408 jurisdiction 646      0   8408      jurisdiction    646\n",
       "4  91806           32 combatant 20690      0     32         combatant  20690"
      ]
     },
     "execution_count": 8,
     "metadata": {},
     "output_type": "execute_result"
    }
   ],
   "source": [
    "val_set.head()"
   ]
  },
  {
   "cell_type": "code",
   "execution_count": 9,
   "id": "fa7f4c34",
   "metadata": {
    "ExecuteTime": {
     "end_time": "2021-06-30T16:39:09.747194Z",
     "start_time": "2021-06-30T16:39:09.734788Z"
    }
   },
   "outputs": [
    {
     "data": {
      "text/html": [
       "<div>\n",
       "<style scoped>\n",
       "    .dataframe tbody tr th:only-of-type {\n",
       "        vertical-align: middle;\n",
       "    }\n",
       "\n",
       "    .dataframe tbody tr th {\n",
       "        vertical-align: top;\n",
       "    }\n",
       "\n",
       "    .dataframe thead th {\n",
       "        text-align: right;\n",
       "    }\n",
       "</style>\n",
       "<table border=\"1\" class=\"dataframe\">\n",
       "  <thead>\n",
       "    <tr style=\"text-align: right;\">\n",
       "      <th></th>\n",
       "      <th>Id</th>\n",
       "      <th>Triple</th>\n",
       "      <th>head</th>\n",
       "      <th>relation</th>\n",
       "      <th>tail</th>\n",
       "    </tr>\n",
       "  </thead>\n",
       "  <tbody>\n",
       "    <tr>\n",
       "      <th>0</th>\n",
       "      <td>114754</td>\n",
       "      <td>1322 operatingSystem 14477</td>\n",
       "      <td>1322</td>\n",
       "      <td>operatingSystem</td>\n",
       "      <td>14477</td>\n",
       "    </tr>\n",
       "    <tr>\n",
       "      <th>1</th>\n",
       "      <td>114755</td>\n",
       "      <td>5210 parent 11412</td>\n",
       "      <td>5210</td>\n",
       "      <td>parent</td>\n",
       "      <td>11412</td>\n",
       "    </tr>\n",
       "    <tr>\n",
       "      <th>2</th>\n",
       "      <td>114756</td>\n",
       "      <td>38658 leadersSeat 35321</td>\n",
       "      <td>38658</td>\n",
       "      <td>leadersSeat</td>\n",
       "      <td>35321</td>\n",
       "    </tr>\n",
       "    <tr>\n",
       "      <th>3</th>\n",
       "      <td>114757</td>\n",
       "      <td>41457 cableServ 4591</td>\n",
       "      <td>41457</td>\n",
       "      <td>cableServ</td>\n",
       "      <td>4591</td>\n",
       "    </tr>\n",
       "    <tr>\n",
       "      <th>4</th>\n",
       "      <td>114758</td>\n",
       "      <td>21579 visitorConference 214</td>\n",
       "      <td>21579</td>\n",
       "      <td>visitorConference</td>\n",
       "      <td>214</td>\n",
       "    </tr>\n",
       "  </tbody>\n",
       "</table>\n",
       "</div>"
      ],
      "text/plain": [
       "       Id                       Triple   head           relation   tail\n",
       "0  114754   1322 operatingSystem 14477   1322    operatingSystem  14477\n",
       "1  114755            5210 parent 11412   5210             parent  11412\n",
       "2  114756      38658 leadersSeat 35321  38658        leadersSeat  35321\n",
       "3  114757         41457 cableServ 4591  41457          cableServ   4591\n",
       "4  114758  21579 visitorConference 214  21579  visitorConference    214"
      ]
     },
     "execution_count": 9,
     "metadata": {},
     "output_type": "execute_result"
    }
   ],
   "source": [
    "test_set.head()"
   ]
  },
  {
   "cell_type": "code",
   "execution_count": 10,
   "id": "74693c1e",
   "metadata": {
    "ExecuteTime": {
     "end_time": "2021-06-30T16:39:09.762058Z",
     "start_time": "2021-06-30T16:39:09.749717Z"
    }
   },
   "outputs": [
    {
     "data": {
      "text/html": [
       "<div>\n",
       "<style scoped>\n",
       "    .dataframe tbody tr th:only-of-type {\n",
       "        vertical-align: middle;\n",
       "    }\n",
       "\n",
       "    .dataframe tbody tr th {\n",
       "        vertical-align: top;\n",
       "    }\n",
       "\n",
       "    .dataframe thead th {\n",
       "        text-align: right;\n",
       "    }\n",
       "</style>\n",
       "<table border=\"1\" class=\"dataframe\">\n",
       "  <thead>\n",
       "    <tr style=\"text-align: right;\">\n",
       "      <th></th>\n",
       "      <th>source</th>\n",
       "      <th>relation</th>\n",
       "      <th>tail</th>\n",
       "    </tr>\n",
       "  </thead>\n",
       "  <tbody>\n",
       "    <tr>\n",
       "      <th>0</th>\n",
       "      <td>10001</td>\n",
       "      <td>champions</td>\n",
       "      <td>9985</td>\n",
       "    </tr>\n",
       "    <tr>\n",
       "      <th>1</th>\n",
       "      <td>10005</td>\n",
       "      <td>tributariesLeft</td>\n",
       "      <td>10008</td>\n",
       "    </tr>\n",
       "    <tr>\n",
       "      <th>2</th>\n",
       "      <td>10005</td>\n",
       "      <td>tributariesLeft</td>\n",
       "      <td>10014</td>\n",
       "    </tr>\n",
       "    <tr>\n",
       "      <th>3</th>\n",
       "      <td>10005</td>\n",
       "      <td>tributariesLeft</td>\n",
       "      <td>10015</td>\n",
       "    </tr>\n",
       "    <tr>\n",
       "      <th>4</th>\n",
       "      <td>10005</td>\n",
       "      <td>tributariesLeft</td>\n",
       "      <td>10016</td>\n",
       "    </tr>\n",
       "  </tbody>\n",
       "</table>\n",
       "</div>"
      ],
      "text/plain": [
       "   source         relation   tail\n",
       "0   10001        champions   9985\n",
       "1   10005  tributariesLeft  10008\n",
       "2   10005  tributariesLeft  10014\n",
       "3   10005  tributariesLeft  10015\n",
       "4   10005  tributariesLeft  10016"
      ]
     },
     "execution_count": 10,
     "metadata": {},
     "output_type": "execute_result"
    }
   ],
   "source": [
    "train_val_set.head()"
   ]
  },
  {
   "cell_type": "markdown",
   "id": "49bccde2",
   "metadata": {},
   "source": [
    "### Compute embeddings"
   ]
  },
  {
   "cell_type": "code",
   "execution_count": 11,
   "id": "ead11865",
   "metadata": {
    "ExecuteTime": {
     "end_time": "2021-06-30T16:39:10.488699Z",
     "start_time": "2021-06-30T16:39:09.764170Z"
    }
   },
   "outputs": [],
   "source": [
    "graph = nx.from_pandas_edgelist(train_val_set, source='source', target='tail', edge_attr='relation', create_using=nx.MultiDiGraph)"
   ]
  },
  {
   "cell_type": "code",
   "execution_count": 12,
   "id": "cec5232b",
   "metadata": {
    "ExecuteTime": {
     "end_time": "2021-06-30T16:39:24.785699Z",
     "start_time": "2021-06-30T16:39:10.490815Z"
    }
   },
   "outputs": [
    {
     "data": {
      "application/vnd.jupyter.widget-view+json": {
       "model_id": "331c5f180bb8436ca4b49917634294a9",
       "version_major": 2,
       "version_minor": 0
      },
      "text/plain": [
       "Computing transition probabilities:   0%|          | 0/43990 [00:00<?, ?it/s]"
      ]
     },
     "metadata": {},
     "output_type": "display_data"
    },
    {
     "name": "stderr",
     "output_type": "stream",
     "text": [
      "Generating walks (CPU: 1): 100%|██████████████████████████████████████████████████████████████████████████████████████████████████████████████████████████████████████████████████| 10/10 [00:12<00:00,  1.21s/it]\n"
     ]
    }
   ],
   "source": [
    "embedding = node2vec.Node2Vec(graph, dimensions=64)"
   ]
  },
  {
   "cell_type": "code",
   "execution_count": 17,
   "id": "72d18d2c",
   "metadata": {
    "ExecuteTime": {
     "end_time": "2021-06-30T16:48:41.354210Z",
     "start_time": "2021-06-30T16:47:26.716510Z"
    }
   },
   "outputs": [],
   "source": [
    "model = embedding.fit(window=10, min_count=1, batch_words=4) "
   ]
  },
  {
   "cell_type": "code",
   "execution_count": 18,
   "id": "137edd43",
   "metadata": {
    "ExecuteTime": {
     "end_time": "2021-06-30T16:49:59.998173Z",
     "start_time": "2021-06-30T16:49:59.974326Z"
    }
   },
   "outputs": [
    {
     "data": {
      "text/plain": [
       "[('6314', 0.9881356358528137),\n",
       " ('24630', 0.9874294996261597),\n",
       " ('31025', 0.9869814515113831),\n",
       " ('27075', 0.9868086576461792),\n",
       " ('19860', 0.9866402745246887),\n",
       " ('16863', 0.9865047335624695),\n",
       " ('38446', 0.9864374399185181),\n",
       " ('10983', 0.9863516688346863),\n",
       " ('22769', 0.9862580895423889),\n",
       " ('15338', 0.9861183166503906)]"
      ]
     },
     "execution_count": 18,
     "metadata": {},
     "output_type": "execute_result"
    }
   ],
   "source": [
    "model.wv.most_similar('10001')"
   ]
  },
  {
   "cell_type": "markdown",
   "id": "73196720",
   "metadata": {},
   "source": [
    "Edge embeddings"
   ]
  },
  {
   "cell_type": "code",
   "execution_count": 19,
   "id": "d317f3a9",
   "metadata": {
    "ExecuteTime": {
     "end_time": "2021-06-30T16:50:32.857475Z",
     "start_time": "2021-06-30T16:50:32.851832Z"
    }
   },
   "outputs": [],
   "source": [
    "from node2vec.edges import HadamardEmbedder, AverageEmbedder, WeightedL1Embedder, WeightedL2Embedder"
   ]
  },
  {
   "cell_type": "code",
   "execution_count": 20,
   "id": "13db7540",
   "metadata": {
    "ExecuteTime": {
     "end_time": "2021-06-30T16:51:22.527484Z",
     "start_time": "2021-06-30T16:51:22.523896Z"
    }
   },
   "outputs": [],
   "source": [
    "edges_embs = HadamardEmbedder(keyed_vectors=model.wv)"
   ]
  },
  {
   "cell_type": "code",
   "execution_count": 30,
   "id": "a0285ab5",
   "metadata": {
    "ExecuteTime": {
     "end_time": "2021-06-30T17:18:58.341216Z",
     "start_time": "2021-06-30T17:18:58.315790Z"
    }
   },
   "outputs": [
    {
     "data": {
      "text/plain": [
       "array([ 0.0624701 ,  0.03421304,  0.01889687,  0.0360032 ,  0.02340166,\n",
       "        0.01081064,  0.00539609, -0.10514799,  0.0099972 , -0.08288552,\n",
       "       -0.13095427, -0.03101761, -0.17819105, -0.00924894,  0.04178149,\n",
       "        0.11270613, -0.09185932, -0.0489062 , -0.04081935,  0.1034681 ,\n",
       "        0.06663747,  0.10671864,  0.07600545, -0.02598541, -0.09982543,\n",
       "        0.14421503, -0.0334549 ,  0.06526703, -0.08632009, -0.03830667,\n",
       "        0.00988579, -0.1199495 , -0.03753826,  0.0596816 ,  0.0090041 ,\n",
       "       -0.02315225,  0.00169792,  0.00049679,  0.09358896, -0.06502618,\n",
       "       -0.10051589,  0.03809523,  0.02182027,  0.00799868, -0.02158404,\n",
       "        0.01745255,  0.02430105, -0.02636931, -0.03013489, -0.09939053,\n",
       "        0.02390336, -0.04540624,  0.02313965,  0.09056495,  0.0515229 ,\n",
       "        0.00967712, -0.09068506, -0.01114145, -0.1428173 , -0.03895466,\n",
       "        0.00368675, -0.10857921,  0.12659143,  0.12857458], dtype=float32)"
      ]
     },
     "execution_count": 30,
     "metadata": {},
     "output_type": "execute_result"
    }
   ],
   "source": [
    "for head, rel, tail in train_val_set.itertuples():\n",
    "    "
   ]
  },
  {
   "cell_type": "code",
   "execution_count": 28,
   "id": "b8c62abe",
   "metadata": {
    "ExecuteTime": {
     "end_time": "2021-06-30T17:12:45.088547Z",
     "start_time": "2021-06-30T17:12:45.085370Z"
    }
   },
   "outputs": [
    {
     "data": {
      "text/plain": [
       "node2vec.edges.HadamardEmbedder"
      ]
     },
     "execution_count": 28,
     "metadata": {},
     "output_type": "execute_result"
    }
   ],
   "source": [
    "type(edges_embs)"
   ]
  }
 ],
 "metadata": {
  "hide_input": false,
  "kernelspec": {
   "display_name": "Python 3 (ipykernel)",
   "language": "python",
   "name": "python3"
  },
  "language_info": {
   "codemirror_mode": {
    "name": "ipython",
    "version": 3
   },
   "file_extension": ".py",
   "mimetype": "text/x-python",
   "name": "python",
   "nbconvert_exporter": "python",
   "pygments_lexer": "ipython3",
   "version": "3.9.5"
  },
  "latex_envs": {
   "LaTeX_envs_menu_present": true,
   "autoclose": true,
   "autocomplete": true,
   "bibliofile": "biblio.bib",
   "cite_by": "apalike",
   "current_citInitial": 1,
   "eqLabelWithNumbers": true,
   "eqNumInitial": 1,
   "hotkeys": {
    "equation": "Ctrl-E",
    "itemize": "Ctrl-I"
   },
   "labels_anchors": false,
   "latex_user_defs": false,
   "report_style_numbering": false,
   "user_envs_cfg": false
  },
  "toc": {
   "base_numbering": 1,
   "nav_menu": {},
   "number_sections": true,
   "sideBar": true,
   "skip_h1_title": false,
   "title_cell": "Table of Contents",
   "title_sidebar": "Contents",
   "toc_cell": false,
   "toc_position": {},
   "toc_section_display": true,
   "toc_window_display": false
  },
  "varInspector": {
   "cols": {
    "lenName": 16,
    "lenType": 16,
    "lenVar": 40
   },
   "kernels_config": {
    "python": {
     "delete_cmd_postfix": "",
     "delete_cmd_prefix": "del ",
     "library": "var_list.py",
     "varRefreshCmd": "print(var_dic_list())"
    },
    "r": {
     "delete_cmd_postfix": ") ",
     "delete_cmd_prefix": "rm(",
     "library": "var_list.r",
     "varRefreshCmd": "cat(var_dic_list()) "
    }
   },
   "types_to_exclude": [
    "module",
    "function",
    "builtin_function_or_method",
    "instance",
    "_Feature"
   ],
   "window_display": false
  }
 },
 "nbformat": 4,
 "nbformat_minor": 5
}
