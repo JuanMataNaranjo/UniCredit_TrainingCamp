{
 "cells": [
  {
   "cell_type": "markdown",
<<<<<<< HEAD:code/unicredit_notebook_v1.ipynb
   "id": "6ad2b517",
=======
>>>>>>> 27a69c4d99b35e4a5c519fa3720109d7ff99e0a8:code/unicredit_notebook.ipynb
   "metadata": {},
   "source": [
    "# Unicredit training camp\n",
    "\n",
    "---"
   ]
  },
  {
   "cell_type": "markdown",
<<<<<<< HEAD:code/unicredit_notebook_v1.ipynb
   "id": "885b15bf",
=======
>>>>>>> 27a69c4d99b35e4a5c519fa3720109d7ff99e0a8:code/unicredit_notebook.ipynb
   "metadata": {},
   "source": [
    "## Imports"
   ]
  },
  {
   "cell_type": "code",
<<<<<<< HEAD:code/unicredit_notebook_v1.ipynb
   "execution_count": 3,
   "id": "ad07ba2e",
=======
   "execution_count": 209,
>>>>>>> 27a69c4d99b35e4a5c519fa3720109d7ff99e0a8:code/unicredit_notebook.ipynb
   "metadata": {
    "ExecuteTime": {
     "end_time": "2021-06-30T16:38:55.486990Z",
     "start_time": "2021-06-30T16:38:55.482702Z"
    }
   },
   "outputs": [],
   "source": [
    "import pandas as pd\n",
<<<<<<< HEAD:code/unicredit_notebook_v1.ipynb
    "import node2vec\n",
    "import networkx as nx"
=======
    "import numpy as np\n",
    "import networkx as nx\n",
    "from collections import defaultdict\n",
    "import random\n",
    "from xgboost import XGBClassifier\n",
    "from sklearn.model_selection import GridSearchCV, RandomizedSearchCV\n",
    "from sklearn.metrics import accuracy_score, precision_score, recall_score, f1_score, roc_auc_score, roc_curve\n",
    "from sklearn.inspection import permutation_importance\n",
    "# Define seed for replicability\n",
    "seed = 0"
   ]
  },
  {
   "cell_type": "markdown",
   "metadata": {},
   "source": [
    "# Define functions"
   ]
  },
  {
   "cell_type": "code",
   "execution_count": 112,
   "metadata": {},
   "outputs": [],
   "source": [
    "#Given a dataframe, generate a list with all the triples and another list with the \"negative\" relations\n",
    "def generate_pos_neg_relations(df, number_neg_rel_triple=1):\n",
    "    pairs=defaultdict(list)\n",
    "    relations=defaultdict(list)\n",
    "    for i in df.iterrows():\n",
    "        s = i[1]['source']\n",
    "        t = i[1]['tail']\n",
    "        r = i[1]['relation']\n",
    "      #  print(s,t,r)\n",
    "        pairs[(s,t)].append(r)\n",
    "        relations[r].append((s,t))\n",
    "    \n",
    "    sourceList=set()\n",
    "    targetList=set()\n",
    "    for i in list(pairs.keys()):\n",
    "        if type(i)==int:\n",
    "            break\n",
    "        sourceList.add(i[0])\n",
    "        targetList.add(i[1])\n",
    "    \n",
    "    negative_relations = defaultdict(list)\n",
    "    for rel, p in relations.items():\n",
    "        rel_targets = set()\n",
    "        for i in p:\n",
    "            rel_targets.add(i[1])\n",
    "        candidate_targets = targetList.difference(rel_targets)\n",
    "        \n",
    "        for i,j in p:\n",
    "            negative_targets = random.choices(list(candidate_targets),\n",
    "                                          k=(min(len(candidate_targets),number_neg_rel_triple)))\n",
    "            for t in negative_targets:\n",
    "                negative_relations[rel].append((i,t))\n",
    "    return relations,negative_relations"
   ]
  },
  {
   "cell_type": "code",
   "execution_count": 111,
   "metadata": {},
   "outputs": [],
   "source": [
    "def compute_features(G,GUnd,GUndSimple,i,j,rel=None):\n",
    "    cn=aa=jc=ind_i = outd_i = ind_j = outd_j =0\n",
    "    \n",
    "    if ((i in GUnd) and (j in GUnd)):\n",
    "        cn = len(list(nx.common_neighbors(GUnd, i,j)))\n",
    "   # if ((i in GUndSimple) and (j in GUndSimple)):\n",
    "   #     aa =[aa for u,v,aa in nx.adamic_adar_index(GUndSimple, [(i,j)])][0]\n",
    "    if ((i in GUndSimple) and (j in GUndSimple)):\n",
    "        jc = [jc for u,v,jc in nx.jaccard_coefficient(GUndSimple, [(i,j)])][0]\n",
    "    if (i in G):\n",
    "        ind_i = G.in_degree(i)\n",
    "        outd_i = G.out_degree(i)\n",
    "    if (j in G):\n",
    "        ind_j = G.in_degree(j)\n",
    "        outd_j = G.out_degree(j)\n",
    "    '''\n",
    "    if rel:\n",
    "        rel_s=len(reachable_from_rel(i,rel))\n",
    "        rel_t=len(reachable_from_rel(j,rel))\n",
    "        common_rel_s_t=len(reachable_from_rel(i,rel).intersection(reachable_from_rel(j,rel)))\n",
    "        union_rel_s_t=len(reachable_from_rel(i,rel).union(reachable_from_rel(j,rel)))\n",
    "        jaccard_rel_s_t=0\n",
    "        if union_rel_s_t>0:\n",
    "            jaccard_rel_s_t=(union_rel_s_t-common_rel_s_t)/union_rel_s_t\n",
    "    '''   \n",
    "    #print(i,j,cn,aa,jc,ind_i,ind_j,outd_i,outd_j)\n",
    "    return cn,jc,ind_i,ind_j,outd_i,outd_j"
   ]
  },
  {
   "cell_type": "code",
   "execution_count": 110,
   "metadata": {},
   "outputs": [],
   "source": [
    "#Given a triple, compute some node features\n",
    "def compute_triples_features(G,GUnd,GUndSimple,rel,triple,label):\n",
    "    curr_triples_feature={}\n",
    "    curr_triples_feature['relation'] = rel\n",
    "    curr_triples_feature['label'] = label\n",
    "    curr_triples_feature['source'] = triple[0]\n",
    "    curr_triples_feature['target'] = triple[1]\n",
    "    for ix,feature in enumerate(compute_features(G,GUnd,GUndSimple,triple[0],triple[1],rel)):\n",
    "        curr_triples_feature['f'+str(ix)] = feature\n",
    "    return curr_triples_feature"
   ]
  },
  {
   "cell_type": "code",
   "execution_count": 109,
   "metadata": {},
   "outputs": [],
   "source": [
    "#Compute featurees for each positive and negative relation\n",
    "def generate_df_features(G,relations,negative_relations=None):\n",
    "    triples=[]\n",
    "    GUnd = G.to_undirected()\n",
    "    GUndSimple = nx.Graph(GUnd)\n",
    "    for rel in relations.keys():\n",
    "        for posTriple in relations[rel]:\n",
    "            triples.append(compute_triples_features(G,GUnd,GUndSimple,rel,posTriple,1))\n",
    "        if negative_relations:\n",
    "            for negTriple in negative_relations[rel]:\n",
    "                triples.append(compute_triples_features(G,GUnd,GUndSimple,rel,negTriple,0))\n",
    "    df_rel = pd.DataFrame(triples)\n",
    "    return df_rel"
>>>>>>> 27a69c4d99b35e4a5c519fa3720109d7ff99e0a8:code/unicredit_notebook.ipynb
   ]
  },
  {
   "cell_type": "markdown",
<<<<<<< HEAD:code/unicredit_notebook_v1.ipynb
   "id": "f4182e5b",
=======
>>>>>>> 27a69c4d99b35e4a5c519fa3720109d7ff99e0a8:code/unicredit_notebook.ipynb
   "metadata": {},
   "source": [
    "## Data loading"
   ]
  },
  {
   "cell_type": "code",
<<<<<<< HEAD:code/unicredit_notebook_v1.ipynb
   "execution_count": 4,
   "id": "624a8de2",
=======
   "execution_count": 97,
>>>>>>> 27a69c4d99b35e4a5c519fa3720109d7ff99e0a8:code/unicredit_notebook.ipynb
   "metadata": {
    "ExecuteTime": {
     "end_time": "2021-06-30T16:39:08.981752Z",
     "start_time": "2021-06-30T16:39:08.817036Z"
    }
   },
   "outputs": [],
   "source": [
<<<<<<< HEAD:code/unicredit_notebook_v1.ipynb
    "train_set = pd.read_csv('../data/kg_train.csv')\n",
    "val_set = pd.read_csv('../data/kg_validation.csv')\n",
    "test_set = pd.read_csv('../data/kg_test_nolabel.csv')\n",
    "train_val_set = pd.read_csv('../data/kg_pykeen_trainvalidation.tsv', sep='\\t', names=['source', 'relation', 'tail'])"
=======
    "train_set = pd.read_csv('./data/kg_train.csv')\n",
    "val_set = pd.read_csv('./data/kg_validation.csv')\n",
    "test_set = pd.read_csv('./data/kg_test_nolabel.csv')"
   ]
  },
  {
   "cell_type": "code",
   "execution_count": 138,
   "metadata": {},
   "outputs": [
    {
     "name": "stdout",
     "output_type": "stream",
     "text": [
      "======================================================================================\n",
      "Train shape: (91802, 6)\n",
      "Validation shape: (22952, 6)\n",
      "Test shape: (28690, 5)\n"
     ]
    }
   ],
   "source": [
    "print(\"======================================================================================\")\n",
    "print(\"Train shape:\",train_set.shape)\n",
    "print(\"Validation shape:\",val_set.shape)\n",
    "print(\"Test shape:\",test_set.shape)"
>>>>>>> 27a69c4d99b35e4a5c519fa3720109d7ff99e0a8:code/unicredit_notebook.ipynb
   ]
  },
  {
   "cell_type": "code",
<<<<<<< HEAD:code/unicredit_notebook_v1.ipynb
   "execution_count": 5,
   "id": "6d36fb99",
=======
   "execution_count": 98,
>>>>>>> 27a69c4d99b35e4a5c519fa3720109d7ff99e0a8:code/unicredit_notebook.ipynb
   "metadata": {
    "ExecuteTime": {
     "end_time": "2021-06-30T16:39:09.008226Z",
     "start_time": "2021-06-30T16:39:08.984544Z"
    }
   },
   "outputs": [
    {
     "data": {
      "text/html": [
       "<div>\n",
       "<style scoped>\n",
       "    .dataframe tbody tr th:only-of-type {\n",
       "        vertical-align: middle;\n",
       "    }\n",
       "\n",
       "    .dataframe tbody tr th {\n",
       "        vertical-align: top;\n",
       "    }\n",
       "\n",
       "    .dataframe thead th {\n",
       "        text-align: right;\n",
       "    }\n",
       "</style>\n",
       "<table border=\"1\" class=\"dataframe\">\n",
       "  <thead>\n",
       "    <tr style=\"text-align: right;\">\n",
       "      <th></th>\n",
       "      <th>Id</th>\n",
       "      <th>Triple</th>\n",
       "      <th>Label</th>\n",
       "    </tr>\n",
       "  </thead>\n",
       "  <tbody>\n",
       "    <tr>\n",
       "      <th>0</th>\n",
       "      <td>0</td>\n",
       "      <td>34881 intercommunality 14230</td>\n",
       "      <td>0</td>\n",
       "    </tr>\n",
       "    <tr>\n",
       "      <th>1</th>\n",
       "      <td>1</td>\n",
       "      <td>9387 ownerOper 39573</td>\n",
       "      <td>0</td>\n",
       "    </tr>\n",
       "    <tr>\n",
       "      <th>2</th>\n",
       "      <td>2</td>\n",
       "      <td>12480 coach 24064</td>\n",
       "      <td>0</td>\n",
       "    </tr>\n",
       "    <tr>\n",
       "      <th>3</th>\n",
       "      <td>3</td>\n",
       "      <td>6871 branches 22010</td>\n",
       "      <td>0</td>\n",
       "    </tr>\n",
       "    <tr>\n",
       "      <th>4</th>\n",
       "      <td>4</td>\n",
       "      <td>13789 damsire 33095</td>\n",
       "      <td>0</td>\n",
       "    </tr>\n",
       "  </tbody>\n",
       "</table>\n",
       "</div>"
      ],
      "text/plain": [
       "   Id                        Triple  Label\n",
       "0   0  34881 intercommunality 14230      0\n",
       "1   1          9387 ownerOper 39573      0\n",
       "2   2             12480 coach 24064      0\n",
       "3   3           6871 branches 22010      0\n",
       "4   4           13789 damsire 33095      0"
      ]
     },
<<<<<<< HEAD:code/unicredit_notebook_v1.ipynb
     "execution_count": 5,
=======
     "execution_count": 98,
>>>>>>> 27a69c4d99b35e4a5c519fa3720109d7ff99e0a8:code/unicredit_notebook.ipynb
     "metadata": {},
     "output_type": "execute_result"
    }
   ],
   "source": [
    "train_set.head()"
   ]
  },
  {
   "cell_type": "code",
<<<<<<< HEAD:code/unicredit_notebook_v1.ipynb
   "execution_count": 6,
   "id": "66ec0264",
=======
   "execution_count": 99,
>>>>>>> 27a69c4d99b35e4a5c519fa3720109d7ff99e0a8:code/unicredit_notebook.ipynb
   "metadata": {
    "ExecuteTime": {
     "end_time": "2021-06-30T16:39:09.694906Z",
     "start_time": "2021-06-30T16:39:09.010267Z"
    }
   },
   "outputs": [],
   "source": [
    "# Split source, relation and tail from the Triple\n",
    "train_set[['source', 'relation', 'tail']] = train_set['Triple'].str.split(' ', 2, expand=True)\n",
    "val_set[['source', 'relation', 'tail']] = val_set['Triple'].str.split(' ', 2, expand=True)\n",
    "test_set[['source', 'relation', 'tail']] = test_set['Triple'].str.split(' ', 2, expand=True)"
   ]
  },
  {
   "cell_type": "code",
<<<<<<< HEAD:code/unicredit_notebook_v1.ipynb
   "execution_count": 7,
   "id": "72083d7f",
=======
   "execution_count": 100,
>>>>>>> 27a69c4d99b35e4a5c519fa3720109d7ff99e0a8:code/unicredit_notebook.ipynb
   "metadata": {
    "ExecuteTime": {
     "end_time": "2021-06-30T16:39:09.712766Z",
     "start_time": "2021-06-30T16:39:09.696903Z"
    }
   },
   "outputs": [
    {
     "data": {
      "text/html": [
       "<div>\n",
       "<style scoped>\n",
       "    .dataframe tbody tr th:only-of-type {\n",
       "        vertical-align: middle;\n",
       "    }\n",
       "\n",
       "    .dataframe tbody tr th {\n",
       "        vertical-align: top;\n",
       "    }\n",
       "\n",
       "    .dataframe thead th {\n",
       "        text-align: right;\n",
       "    }\n",
       "</style>\n",
       "<table border=\"1\" class=\"dataframe\">\n",
       "  <thead>\n",
       "    <tr style=\"text-align: right;\">\n",
       "      <th></th>\n",
       "      <th>Id</th>\n",
       "      <th>Triple</th>\n",
       "      <th>Label</th>\n",
       "      <th>source</th>\n",
       "      <th>relation</th>\n",
       "      <th>tail</th>\n",
       "    </tr>\n",
       "  </thead>\n",
       "  <tbody>\n",
       "    <tr>\n",
       "      <th>0</th>\n",
       "      <td>0</td>\n",
       "      <td>34881 intercommunality 14230</td>\n",
       "      <td>0</td>\n",
       "      <td>34881</td>\n",
       "      <td>intercommunality</td>\n",
       "      <td>14230</td>\n",
       "    </tr>\n",
       "    <tr>\n",
       "      <th>1</th>\n",
       "      <td>1</td>\n",
       "      <td>9387 ownerOper 39573</td>\n",
       "      <td>0</td>\n",
       "      <td>9387</td>\n",
       "      <td>ownerOper</td>\n",
       "      <td>39573</td>\n",
       "    </tr>\n",
       "    <tr>\n",
       "      <th>2</th>\n",
       "      <td>2</td>\n",
       "      <td>12480 coach 24064</td>\n",
       "      <td>0</td>\n",
       "      <td>12480</td>\n",
       "      <td>coach</td>\n",
       "      <td>24064</td>\n",
       "    </tr>\n",
       "    <tr>\n",
       "      <th>3</th>\n",
       "      <td>3</td>\n",
       "      <td>6871 branches 22010</td>\n",
       "      <td>0</td>\n",
       "      <td>6871</td>\n",
       "      <td>branches</td>\n",
       "      <td>22010</td>\n",
       "    </tr>\n",
       "    <tr>\n",
       "      <th>4</th>\n",
       "      <td>4</td>\n",
       "      <td>13789 damsire 33095</td>\n",
       "      <td>0</td>\n",
       "      <td>13789</td>\n",
       "      <td>damsire</td>\n",
       "      <td>33095</td>\n",
       "    </tr>\n",
       "  </tbody>\n",
       "</table>\n",
       "</div>"
      ],
      "text/plain": [
       "   Id                        Triple  Label source          relation   tail\n",
       "0   0  34881 intercommunality 14230      0  34881  intercommunality  14230\n",
       "1   1          9387 ownerOper 39573      0   9387         ownerOper  39573\n",
       "2   2             12480 coach 24064      0  12480             coach  24064\n",
       "3   3           6871 branches 22010      0   6871          branches  22010\n",
       "4   4           13789 damsire 33095      0  13789           damsire  33095"
      ]
     },
<<<<<<< HEAD:code/unicredit_notebook_v1.ipynb
     "execution_count": 7,
=======
     "execution_count": 100,
>>>>>>> 27a69c4d99b35e4a5c519fa3720109d7ff99e0a8:code/unicredit_notebook.ipynb
     "metadata": {},
     "output_type": "execute_result"
    }
   ],
   "source": [
    "train_set.head()"
   ]
  },
  {
   "cell_type": "code",
<<<<<<< HEAD:code/unicredit_notebook_v1.ipynb
   "execution_count": 8,
   "id": "3313b61b",
=======
   "execution_count": 101,
>>>>>>> 27a69c4d99b35e4a5c519fa3720109d7ff99e0a8:code/unicredit_notebook.ipynb
   "metadata": {
    "ExecuteTime": {
     "end_time": "2021-06-30T16:39:09.732939Z",
     "start_time": "2021-06-30T16:39:09.714600Z"
    },
    "run_control": {
     "marked": false
    }
   },
   "outputs": [
    {
     "data": {
      "text/html": [
       "<div>\n",
       "<style scoped>\n",
       "    .dataframe tbody tr th:only-of-type {\n",
       "        vertical-align: middle;\n",
       "    }\n",
       "\n",
       "    .dataframe tbody tr th {\n",
       "        vertical-align: top;\n",
       "    }\n",
       "\n",
       "    .dataframe thead th {\n",
       "        text-align: right;\n",
       "    }\n",
       "</style>\n",
       "<table border=\"1\" class=\"dataframe\">\n",
       "  <thead>\n",
       "    <tr style=\"text-align: right;\">\n",
       "      <th></th>\n",
       "      <th>Id</th>\n",
       "      <th>Triple</th>\n",
       "      <th>Label</th>\n",
       "      <th>source</th>\n",
       "      <th>relation</th>\n",
       "      <th>tail</th>\n",
       "    </tr>\n",
       "  </thead>\n",
       "  <tbody>\n",
       "    <tr>\n",
       "      <th>0</th>\n",
       "      <td>91802</td>\n",
       "      <td>41074 host 9832</td>\n",
       "      <td>0</td>\n",
       "      <td>41074</td>\n",
       "      <td>host</td>\n",
       "      <td>9832</td>\n",
       "    </tr>\n",
       "    <tr>\n",
       "      <th>1</th>\n",
       "      <td>91803</td>\n",
       "      <td>12583 primaryLanguages 388</td>\n",
       "      <td>0</td>\n",
       "      <td>12583</td>\n",
       "      <td>primaryLanguages</td>\n",
       "      <td>388</td>\n",
       "    </tr>\n",
       "    <tr>\n",
       "      <th>2</th>\n",
       "      <td>91804</td>\n",
       "      <td>22259 seasonTopscorer 22261</td>\n",
       "      <td>1</td>\n",
       "      <td>22259</td>\n",
       "      <td>seasonTopscorer</td>\n",
       "      <td>22261</td>\n",
       "    </tr>\n",
       "    <tr>\n",
       "      <th>3</th>\n",
       "      <td>91805</td>\n",
       "      <td>8408 jurisdiction 646</td>\n",
       "      <td>0</td>\n",
       "      <td>8408</td>\n",
       "      <td>jurisdiction</td>\n",
       "      <td>646</td>\n",
       "    </tr>\n",
       "    <tr>\n",
       "      <th>4</th>\n",
       "      <td>91806</td>\n",
       "      <td>32 combatant 20690</td>\n",
       "      <td>0</td>\n",
       "      <td>32</td>\n",
       "      <td>combatant</td>\n",
       "      <td>20690</td>\n",
       "    </tr>\n",
       "  </tbody>\n",
       "</table>\n",
       "</div>"
      ],
      "text/plain": [
       "      Id                       Triple  Label source          relation   tail\n",
       "0  91802              41074 host 9832      0  41074              host   9832\n",
       "1  91803   12583 primaryLanguages 388      0  12583  primaryLanguages    388\n",
       "2  91804  22259 seasonTopscorer 22261      1  22259   seasonTopscorer  22261\n",
       "3  91805        8408 jurisdiction 646      0   8408      jurisdiction    646\n",
       "4  91806           32 combatant 20690      0     32         combatant  20690"
      ]
     },
<<<<<<< HEAD:code/unicredit_notebook_v1.ipynb
     "execution_count": 8,
=======
     "execution_count": 101,
>>>>>>> 27a69c4d99b35e4a5c519fa3720109d7ff99e0a8:code/unicredit_notebook.ipynb
     "metadata": {},
     "output_type": "execute_result"
    }
   ],
   "source": [
    "val_set.head()"
   ]
  },
  {
   "cell_type": "code",
<<<<<<< HEAD:code/unicredit_notebook_v1.ipynb
   "execution_count": 9,
   "id": "fa7f4c34",
=======
   "execution_count": 102,
>>>>>>> 27a69c4d99b35e4a5c519fa3720109d7ff99e0a8:code/unicredit_notebook.ipynb
   "metadata": {
    "ExecuteTime": {
     "end_time": "2021-06-30T16:39:09.747194Z",
     "start_time": "2021-06-30T16:39:09.734788Z"
    }
   },
   "outputs": [
    {
     "data": {
      "text/html": [
       "<div>\n",
       "<style scoped>\n",
       "    .dataframe tbody tr th:only-of-type {\n",
       "        vertical-align: middle;\n",
       "    }\n",
       "\n",
       "    .dataframe tbody tr th {\n",
       "        vertical-align: top;\n",
       "    }\n",
       "\n",
       "    .dataframe thead th {\n",
       "        text-align: right;\n",
       "    }\n",
       "</style>\n",
       "<table border=\"1\" class=\"dataframe\">\n",
       "  <thead>\n",
       "    <tr style=\"text-align: right;\">\n",
       "      <th></th>\n",
       "      <th>Id</th>\n",
       "      <th>Triple</th>\n",
       "      <th>source</th>\n",
       "      <th>relation</th>\n",
       "      <th>tail</th>\n",
       "    </tr>\n",
       "  </thead>\n",
       "  <tbody>\n",
       "    <tr>\n",
       "      <th>0</th>\n",
       "      <td>114754</td>\n",
       "      <td>1322 operatingSystem 14477</td>\n",
       "      <td>1322</td>\n",
       "      <td>operatingSystem</td>\n",
       "      <td>14477</td>\n",
       "    </tr>\n",
       "    <tr>\n",
       "      <th>1</th>\n",
       "      <td>114755</td>\n",
       "      <td>5210 parent 11412</td>\n",
       "      <td>5210</td>\n",
       "      <td>parent</td>\n",
       "      <td>11412</td>\n",
       "    </tr>\n",
       "    <tr>\n",
       "      <th>2</th>\n",
       "      <td>114756</td>\n",
       "      <td>38658 leadersSeat 35321</td>\n",
       "      <td>38658</td>\n",
       "      <td>leadersSeat</td>\n",
       "      <td>35321</td>\n",
       "    </tr>\n",
       "    <tr>\n",
       "      <th>3</th>\n",
       "      <td>114757</td>\n",
       "      <td>41457 cableServ 4591</td>\n",
       "      <td>41457</td>\n",
       "      <td>cableServ</td>\n",
       "      <td>4591</td>\n",
       "    </tr>\n",
       "    <tr>\n",
       "      <th>4</th>\n",
       "      <td>114758</td>\n",
       "      <td>21579 visitorConference 214</td>\n",
       "      <td>21579</td>\n",
       "      <td>visitorConference</td>\n",
       "      <td>214</td>\n",
       "    </tr>\n",
       "  </tbody>\n",
       "</table>\n",
       "</div>"
      ],
      "text/plain": [
       "       Id                       Triple source           relation   tail\n",
       "0  114754   1322 operatingSystem 14477   1322    operatingSystem  14477\n",
       "1  114755            5210 parent 11412   5210             parent  11412\n",
       "2  114756      38658 leadersSeat 35321  38658        leadersSeat  35321\n",
       "3  114757         41457 cableServ 4591  41457          cableServ   4591\n",
       "4  114758  21579 visitorConference 214  21579  visitorConference    214"
      ]
     },
<<<<<<< HEAD:code/unicredit_notebook_v1.ipynb
     "execution_count": 9,
=======
     "execution_count": 102,
>>>>>>> 27a69c4d99b35e4a5c519fa3720109d7ff99e0a8:code/unicredit_notebook.ipynb
     "metadata": {},
     "output_type": "execute_result"
    }
   ],
   "source": [
    "test_set.head()"
   ]
  },
  {
   "cell_type": "code",
<<<<<<< HEAD:code/unicredit_notebook_v1.ipynb
   "execution_count": 10,
   "id": "74693c1e",
   "metadata": {
    "ExecuteTime": {
     "end_time": "2021-06-30T16:39:09.762058Z",
     "start_time": "2021-06-30T16:39:09.749717Z"
    }
   },
   "outputs": [
    {
=======
   "execution_count": 103,
   "metadata": {},
   "outputs": [
    {
     "name": "stdout",
     "output_type": "stream",
     "text": [
      "2533\n",
      "1174\n",
      "1222\n",
      "(91802, 6)\n",
      "(22952, 6)\n",
      "(28690, 5)\n"
     ]
    }
   ],
   "source": [
    "# Get number of different values for the relation field\n",
    "print(len(train_set.relation.value_counts()))\n",
    "print(len(val_set.relation.value_counts()))\n",
    "print(len(test_set.relation.value_counts()))\n",
    "\n",
    "# Get sizes for the datasets\n",
    "print(train_set.shape)\n",
    "print(val_set.shape)\n",
    "print(test_set.shape)"
   ]
  },
  {
   "cell_type": "code",
   "execution_count": 104,
   "metadata": {},
   "outputs": [
    {
     "name": "stdout",
     "output_type": "stream",
     "text": [
      "1    45901\n",
      "0    45901\n",
      "Name: Label, dtype: int64\n",
      "1    0.5\n",
      "0    0.5\n",
      "Name: Label, dtype: float64\n"
     ]
    }
   ],
   "source": [
    "# Get the number and percentage of values in the response variable\n",
    "print(train_set.Label.value_counts())\n",
    "print(train_set.Label.value_counts()/train_set.shape[0])"
   ]
  },
  {
   "cell_type": "markdown",
   "metadata": {},
   "source": [
    "## Feature engineering"
   ]
  },
  {
   "cell_type": "code",
   "execution_count": 37,
   "metadata": {},
   "outputs": [],
   "source": [
    "# generate graph from list of edges\n",
    "Gtrain=nx.from_pandas_edgelist(train_set, source='head', target='tail', edge_attr='relation', create_using=nx.MultiDiGraph)"
   ]
  },
  {
   "cell_type": "code",
   "execution_count": 38,
   "metadata": {},
   "outputs": [
    {
     "name": "stdout",
     "output_type": "stream",
     "text": [
      "Train-> Nodes:43990 Edges:91802\n"
     ]
    }
   ],
   "source": [
    "# Show number of nodes and edges of the graph\n",
    "print('Train-> Nodes:{} Edges:{}'.format(Gtrain.number_of_nodes(),Gtrain.number_of_edges()))"
   ]
  },
  {
   "cell_type": "code",
   "execution_count": 39,
   "metadata": {},
   "outputs": [],
   "source": [
    "GtrainUnd = Gtrain.to_undirected()\n",
    "GtrainSimple = nx.DiGraph(Gtrain)\n",
    "GtrainUndSimple = nx.Graph(GtrainUnd)"
   ]
  },
  {
   "cell_type": "code",
   "execution_count": 105,
   "metadata": {},
   "outputs": [
    {
     "name": "stdout",
     "output_type": "stream",
     "text": [
      "Generate list of positive and negative relations in the training set..\n",
      "Generate list of positive and negative relations in the validation set..\n",
      "Generate list of positive and negative relations in the test set..\n"
     ]
    }
   ],
   "source": [
    "# Set number of negative relations to 0 for being able to replicate the code presented in the training session\n",
    "number_neg_rel_triple = 0\n",
    "\n",
    "print(\"Generate list of positive and negative relations in the training set..\")\n",
    "rel_train,negrel_train = generate_pos_neg_relations(train_set,number_neg_rel_triple)\n",
    "print(\"Generate list of positive and negative relations in the validation set..\")\n",
    "rel_validation,negrel_validation = generate_pos_neg_relations(val_set,number_neg_rel_triple)\n",
    "print(\"Generate list of positive and negative relations in the test set..\")\n",
    "rel_test,negrel_test = generate_pos_neg_relations(test_set,number_neg_rel_triple)\n"
   ]
  },
  {
   "cell_type": "code",
   "execution_count": 151,
   "metadata": {},
   "outputs": [
    {
     "name": "stdout",
     "output_type": "stream",
     "text": [
      "Generate edge fetures..\n"
     ]
    },
    {
>>>>>>> 27a69c4d99b35e4a5c519fa3720109d7ff99e0a8:code/unicredit_notebook.ipynb
     "data": {
      "text/html": [
       "<div>\n",
       "<style scoped>\n",
       "    .dataframe tbody tr th:only-of-type {\n",
       "        vertical-align: middle;\n",
       "    }\n",
       "\n",
       "    .dataframe tbody tr th {\n",
       "        vertical-align: top;\n",
       "    }\n",
       "\n",
       "    .dataframe thead th {\n",
       "        text-align: right;\n",
       "    }\n",
       "</style>\n",
       "<table border=\"1\" class=\"dataframe\">\n",
       "  <thead>\n",
       "    <tr style=\"text-align: right;\">\n",
       "      <th></th>\n",
<<<<<<< HEAD:code/unicredit_notebook_v1.ipynb
       "      <th>source</th>\n",
       "      <th>relation</th>\n",
       "      <th>tail</th>\n",
=======
       "      <th>Id</th>\n",
       "      <th>Triple</th>\n",
       "      <th>Label</th>\n",
       "      <th>source</th>\n",
       "      <th>relation</th>\n",
       "      <th>tail</th>\n",
       "      <th>label</th>\n",
       "      <th>target</th>\n",
       "      <th>f0</th>\n",
       "      <th>f1</th>\n",
       "      <th>f2</th>\n",
       "      <th>f3</th>\n",
       "      <th>f4</th>\n",
       "      <th>f5</th>\n",
>>>>>>> 27a69c4d99b35e4a5c519fa3720109d7ff99e0a8:code/unicredit_notebook.ipynb
       "    </tr>\n",
       "  </thead>\n",
       "  <tbody>\n",
       "    <tr>\n",
       "      <th>0</th>\n",
<<<<<<< HEAD:code/unicredit_notebook_v1.ipynb
       "      <td>10001</td>\n",
       "      <td>champions</td>\n",
       "      <td>9985</td>\n",
       "    </tr>\n",
       "    <tr>\n",
       "      <th>1</th>\n",
       "      <td>10005</td>\n",
       "      <td>tributariesLeft</td>\n",
       "      <td>10008</td>\n",
       "    </tr>\n",
       "    <tr>\n",
       "      <th>2</th>\n",
       "      <td>10005</td>\n",
       "      <td>tributariesLeft</td>\n",
       "      <td>10014</td>\n",
       "    </tr>\n",
       "    <tr>\n",
       "      <th>3</th>\n",
       "      <td>10005</td>\n",
       "      <td>tributariesLeft</td>\n",
       "      <td>10015</td>\n",
       "    </tr>\n",
       "    <tr>\n",
       "      <th>4</th>\n",
       "      <td>10005</td>\n",
       "      <td>tributariesLeft</td>\n",
       "      <td>10016</td>\n",
=======
       "      <td>0</td>\n",
       "      <td>34881 intercommunality 14230</td>\n",
       "      <td>0</td>\n",
       "      <td>34881</td>\n",
       "      <td>intercommunality</td>\n",
       "      <td>14230</td>\n",
       "      <td>1</td>\n",
       "      <td>14230</td>\n",
       "      <td>0</td>\n",
       "      <td>0.0</td>\n",
       "      <td>2</td>\n",
       "      <td>2</td>\n",
       "      <td>2</td>\n",
       "      <td>1</td>\n",
       "    </tr>\n",
       "    <tr>\n",
       "      <th>1</th>\n",
       "      <td>1</td>\n",
       "      <td>9387 ownerOper 39573</td>\n",
       "      <td>0</td>\n",
       "      <td>9387</td>\n",
       "      <td>ownerOper</td>\n",
       "      <td>39573</td>\n",
       "      <td>1</td>\n",
       "      <td>39573</td>\n",
       "      <td>0</td>\n",
       "      <td>0.0</td>\n",
       "      <td>2</td>\n",
       "      <td>2</td>\n",
       "      <td>2</td>\n",
       "      <td>0</td>\n",
       "    </tr>\n",
       "    <tr>\n",
       "      <th>2</th>\n",
       "      <td>2</td>\n",
       "      <td>12480 coach 24064</td>\n",
       "      <td>0</td>\n",
       "      <td>12480</td>\n",
       "      <td>coach</td>\n",
       "      <td>24064</td>\n",
       "      <td>1</td>\n",
       "      <td>24064</td>\n",
       "      <td>0</td>\n",
       "      <td>0.0</td>\n",
       "      <td>4</td>\n",
       "      <td>4</td>\n",
       "      <td>1</td>\n",
       "      <td>3</td>\n",
       "    </tr>\n",
       "    <tr>\n",
       "      <th>3</th>\n",
       "      <td>3</td>\n",
       "      <td>6871 branches 22010</td>\n",
       "      <td>0</td>\n",
       "      <td>6871</td>\n",
       "      <td>branches</td>\n",
       "      <td>22010</td>\n",
       "      <td>1</td>\n",
       "      <td>22010</td>\n",
       "      <td>0</td>\n",
       "      <td>0.0</td>\n",
       "      <td>4</td>\n",
       "      <td>3</td>\n",
       "      <td>21</td>\n",
       "      <td>1</td>\n",
       "    </tr>\n",
       "    <tr>\n",
       "      <th>4</th>\n",
       "      <td>4</td>\n",
       "      <td>13789 damsire 33095</td>\n",
       "      <td>0</td>\n",
       "      <td>13789</td>\n",
       "      <td>damsire</td>\n",
       "      <td>33095</td>\n",
       "      <td>1</td>\n",
       "      <td>33095</td>\n",
       "      <td>0</td>\n",
       "      <td>0.0</td>\n",
       "      <td>0</td>\n",
       "      <td>3</td>\n",
       "      <td>17</td>\n",
       "      <td>0</td>\n",
>>>>>>> 27a69c4d99b35e4a5c519fa3720109d7ff99e0a8:code/unicredit_notebook.ipynb
       "    </tr>\n",
       "  </tbody>\n",
       "</table>\n",
       "</div>"
      ],
      "text/plain": [
<<<<<<< HEAD:code/unicredit_notebook_v1.ipynb
       "   source         relation   tail\n",
       "0   10001        champions   9985\n",
       "1   10005  tributariesLeft  10008\n",
       "2   10005  tributariesLeft  10014\n",
       "3   10005  tributariesLeft  10015\n",
       "4   10005  tributariesLeft  10016"
      ]
     },
     "execution_count": 10,
=======
       "   Id                        Triple  Label source          relation   tail  \\\n",
       "0   0  34881 intercommunality 14230      0  34881  intercommunality  14230   \n",
       "1   1          9387 ownerOper 39573      0   9387         ownerOper  39573   \n",
       "2   2             12480 coach 24064      0  12480             coach  24064   \n",
       "3   3           6871 branches 22010      0   6871          branches  22010   \n",
       "4   4           13789 damsire 33095      0  13789           damsire  33095   \n",
       "\n",
       "   label target  f0   f1  f2  f3  f4  f5  \n",
       "0      1  14230   0  0.0   2   2   2   1  \n",
       "1      1  39573   0  0.0   2   2   2   0  \n",
       "2      1  24064   0  0.0   4   4   1   3  \n",
       "3      1  22010   0  0.0   4   3  21   1  \n",
       "4      1  33095   0  0.0   0   3  17   0  "
      ]
     },
     "execution_count": 151,
>>>>>>> 27a69c4d99b35e4a5c519fa3720109d7ff99e0a8:code/unicredit_notebook.ipynb
     "metadata": {},
     "output_type": "execute_result"
    }
   ],
   "source": [
<<<<<<< HEAD:code/unicredit_notebook_v1.ipynb
    "train_val_set.head()"
   ]
  },
  {
   "cell_type": "markdown",
   "id": "49bccde2",
   "metadata": {},
   "source": [
    "### Compute embeddings"
=======
    "print(\"Generate edge fetures..\")\n",
    "df_train = generate_df_features(Gtrain,rel_train)\n",
    "# Retrieve the Id and Label from the initial data\n",
    "df_train = pd.merge(train_set,df_train,how='inner',left_on=['source','relation','tail'],right_on=['source','relation','target']).drop_duplicates()\n",
    "df_train.head(5)"
>>>>>>> 27a69c4d99b35e4a5c519fa3720109d7ff99e0a8:code/unicredit_notebook.ipynb
   ]
  },
  {
   "cell_type": "code",
<<<<<<< HEAD:code/unicredit_notebook_v1.ipynb
   "execution_count": 11,
   "id": "ead11865",
   "metadata": {
    "ExecuteTime": {
     "end_time": "2021-06-30T16:39:10.488699Z",
     "start_time": "2021-06-30T16:39:09.764170Z"
    }
   },
   "outputs": [],
   "source": [
    "graph = nx.from_pandas_edgelist(train_val_set, source='source', target='tail', edge_attr='relation', create_using=nx.MultiDiGraph)"
=======
   "execution_count": 152,
   "metadata": {},
   "outputs": [
    {
     "name": "stdout",
     "output_type": "stream",
     "text": [
      "Generate edge fetures..\n"
     ]
    },
    {
     "data": {
      "text/html": [
       "<div>\n",
       "<style scoped>\n",
       "    .dataframe tbody tr th:only-of-type {\n",
       "        vertical-align: middle;\n",
       "    }\n",
       "\n",
       "    .dataframe tbody tr th {\n",
       "        vertical-align: top;\n",
       "    }\n",
       "\n",
       "    .dataframe thead th {\n",
       "        text-align: right;\n",
       "    }\n",
       "</style>\n",
       "<table border=\"1\" class=\"dataframe\">\n",
       "  <thead>\n",
       "    <tr style=\"text-align: right;\">\n",
       "      <th></th>\n",
       "      <th>Id</th>\n",
       "      <th>Triple</th>\n",
       "      <th>Label</th>\n",
       "      <th>source</th>\n",
       "      <th>relation</th>\n",
       "      <th>tail</th>\n",
       "      <th>label</th>\n",
       "      <th>target</th>\n",
       "      <th>f0</th>\n",
       "      <th>f1</th>\n",
       "      <th>f2</th>\n",
       "      <th>f3</th>\n",
       "      <th>f4</th>\n",
       "      <th>f5</th>\n",
       "    </tr>\n",
       "  </thead>\n",
       "  <tbody>\n",
       "    <tr>\n",
       "      <th>0</th>\n",
       "      <td>91802</td>\n",
       "      <td>41074 host 9832</td>\n",
       "      <td>0</td>\n",
       "      <td>41074</td>\n",
       "      <td>host</td>\n",
       "      <td>9832</td>\n",
       "      <td>1</td>\n",
       "      <td>9832</td>\n",
       "      <td>0</td>\n",
       "      <td>0.0</td>\n",
       "      <td>3</td>\n",
       "      <td>1</td>\n",
       "      <td>1</td>\n",
       "      <td>1</td>\n",
       "    </tr>\n",
       "    <tr>\n",
       "      <th>1</th>\n",
       "      <td>91803</td>\n",
       "      <td>12583 primaryLanguages 388</td>\n",
       "      <td>0</td>\n",
       "      <td>12583</td>\n",
       "      <td>primaryLanguages</td>\n",
       "      <td>388</td>\n",
       "      <td>1</td>\n",
       "      <td>388</td>\n",
       "      <td>0</td>\n",
       "      <td>0.0</td>\n",
       "      <td>2</td>\n",
       "      <td>2</td>\n",
       "      <td>0</td>\n",
       "      <td>9</td>\n",
       "    </tr>\n",
       "    <tr>\n",
       "      <th>2</th>\n",
       "      <td>91804</td>\n",
       "      <td>22259 seasonTopscorer 22261</td>\n",
       "      <td>1</td>\n",
       "      <td>22259</td>\n",
       "      <td>seasonTopscorer</td>\n",
       "      <td>22261</td>\n",
       "      <td>1</td>\n",
       "      <td>22261</td>\n",
       "      <td>0</td>\n",
       "      <td>0.0</td>\n",
       "      <td>0</td>\n",
       "      <td>3</td>\n",
       "      <td>3</td>\n",
       "      <td>0</td>\n",
       "    </tr>\n",
       "    <tr>\n",
       "      <th>3</th>\n",
       "      <td>91805</td>\n",
       "      <td>8408 jurisdiction 646</td>\n",
       "      <td>0</td>\n",
       "      <td>8408</td>\n",
       "      <td>jurisdiction</td>\n",
       "      <td>646</td>\n",
       "      <td>1</td>\n",
       "      <td>646</td>\n",
       "      <td>0</td>\n",
       "      <td>0.0</td>\n",
       "      <td>3</td>\n",
       "      <td>1</td>\n",
       "      <td>3</td>\n",
       "      <td>2</td>\n",
       "    </tr>\n",
       "    <tr>\n",
       "      <th>4</th>\n",
       "      <td>91806</td>\n",
       "      <td>32 combatant 20690</td>\n",
       "      <td>0</td>\n",
       "      <td>32</td>\n",
       "      <td>combatant</td>\n",
       "      <td>20690</td>\n",
       "      <td>1</td>\n",
       "      <td>20690</td>\n",
       "      <td>0</td>\n",
       "      <td>0.0</td>\n",
       "      <td>2</td>\n",
       "      <td>2</td>\n",
       "      <td>1</td>\n",
       "      <td>0</td>\n",
       "    </tr>\n",
       "  </tbody>\n",
       "</table>\n",
       "</div>"
      ],
      "text/plain": [
       "      Id                       Triple  Label source          relation   tail  \\\n",
       "0  91802              41074 host 9832      0  41074              host   9832   \n",
       "1  91803   12583 primaryLanguages 388      0  12583  primaryLanguages    388   \n",
       "2  91804  22259 seasonTopscorer 22261      1  22259   seasonTopscorer  22261   \n",
       "3  91805        8408 jurisdiction 646      0   8408      jurisdiction    646   \n",
       "4  91806           32 combatant 20690      0     32         combatant  20690   \n",
       "\n",
       "   label target  f0   f1  f2  f3  f4  f5  \n",
       "0      1   9832   0  0.0   3   1   1   1  \n",
       "1      1    388   0  0.0   2   2   0   9  \n",
       "2      1  22261   0  0.0   0   3   3   0  \n",
       "3      1    646   0  0.0   3   1   3   2  \n",
       "4      1  20690   0  0.0   2   2   1   0  "
      ]
     },
     "execution_count": 152,
     "metadata": {},
     "output_type": "execute_result"
    }
   ],
   "source": [
    "print(\"Generate edge fetures..\")\n",
    "df_validation = generate_df_features(Gtrain,rel_validation)\n",
    "# Retrieve the Id and Label from the initial data\n",
    "df_validation = pd.merge(val_set,df_validation,how='inner',left_on=['source','relation','tail'],right_on=['source','relation','target']).drop_duplicates()\n",
    "df_validation.head(5)"
>>>>>>> 27a69c4d99b35e4a5c519fa3720109d7ff99e0a8:code/unicredit_notebook.ipynb
   ]
  },
  {
   "cell_type": "code",
<<<<<<< HEAD:code/unicredit_notebook_v1.ipynb
   "execution_count": 12,
   "id": "cec5232b",
   "metadata": {
    "ExecuteTime": {
     "end_time": "2021-06-30T16:39:24.785699Z",
     "start_time": "2021-06-30T16:39:10.490815Z"
    }
   },
   "outputs": [
    {
     "data": {
      "application/vnd.jupyter.widget-view+json": {
       "model_id": "331c5f180bb8436ca4b49917634294a9",
       "version_major": 2,
       "version_minor": 0
      },
      "text/plain": [
       "Computing transition probabilities:   0%|          | 0/43990 [00:00<?, ?it/s]"
      ]
     },
     "metadata": {},
     "output_type": "display_data"
    },
    {
     "name": "stderr",
     "output_type": "stream",
     "text": [
      "Generating walks (CPU: 1): 100%|██████████████████████████████████████████████████████████████████████████████████████████████████████████████████████████████████████████████████| 10/10 [00:12<00:00,  1.21s/it]\n"
     ]
    }
   ],
   "source": [
    "embedding = node2vec.Node2Vec(graph, dimensions=64)"
=======
   "execution_count": 153,
   "metadata": {},
   "outputs": [
    {
     "name": "stdout",
     "output_type": "stream",
     "text": [
      "Generate edge fetures..\n"
     ]
    },
    {
     "data": {
      "text/html": [
       "<div>\n",
       "<style scoped>\n",
       "    .dataframe tbody tr th:only-of-type {\n",
       "        vertical-align: middle;\n",
       "    }\n",
       "\n",
       "    .dataframe tbody tr th {\n",
       "        vertical-align: top;\n",
       "    }\n",
       "\n",
       "    .dataframe thead th {\n",
       "        text-align: right;\n",
       "    }\n",
       "</style>\n",
       "<table border=\"1\" class=\"dataframe\">\n",
       "  <thead>\n",
       "    <tr style=\"text-align: right;\">\n",
       "      <th></th>\n",
       "      <th>Id</th>\n",
       "      <th>Triple</th>\n",
       "      <th>source</th>\n",
       "      <th>relation</th>\n",
       "      <th>tail</th>\n",
       "      <th>label</th>\n",
       "      <th>target</th>\n",
       "      <th>f0</th>\n",
       "      <th>f1</th>\n",
       "      <th>f2</th>\n",
       "      <th>f3</th>\n",
       "      <th>f4</th>\n",
       "      <th>f5</th>\n",
       "    </tr>\n",
       "  </thead>\n",
       "  <tbody>\n",
       "    <tr>\n",
       "      <th>0</th>\n",
       "      <td>114754</td>\n",
       "      <td>1322 operatingSystem 14477</td>\n",
       "      <td>1322</td>\n",
       "      <td>operatingSystem</td>\n",
       "      <td>14477</td>\n",
       "      <td>1</td>\n",
       "      <td>14477</td>\n",
       "      <td>0</td>\n",
       "      <td>0.0</td>\n",
       "      <td>1</td>\n",
       "      <td>6</td>\n",
       "      <td>3</td>\n",
       "      <td>0</td>\n",
       "    </tr>\n",
       "    <tr>\n",
       "      <th>1</th>\n",
       "      <td>114755</td>\n",
       "      <td>5210 parent 11412</td>\n",
       "      <td>5210</td>\n",
       "      <td>parent</td>\n",
       "      <td>11412</td>\n",
       "      <td>1</td>\n",
       "      <td>11412</td>\n",
       "      <td>0</td>\n",
       "      <td>0.0</td>\n",
       "      <td>2</td>\n",
       "      <td>3</td>\n",
       "      <td>0</td>\n",
       "      <td>1</td>\n",
       "    </tr>\n",
       "    <tr>\n",
       "      <th>2</th>\n",
       "      <td>114756</td>\n",
       "      <td>38658 leadersSeat 35321</td>\n",
       "      <td>38658</td>\n",
       "      <td>leadersSeat</td>\n",
       "      <td>35321</td>\n",
       "      <td>1</td>\n",
       "      <td>35321</td>\n",
       "      <td>0</td>\n",
       "      <td>0.0</td>\n",
       "      <td>0</td>\n",
       "      <td>1</td>\n",
       "      <td>4</td>\n",
       "      <td>4</td>\n",
       "    </tr>\n",
       "    <tr>\n",
       "      <th>3</th>\n",
       "      <td>114757</td>\n",
       "      <td>41457 cableServ 4591</td>\n",
       "      <td>41457</td>\n",
       "      <td>cableServ</td>\n",
       "      <td>4591</td>\n",
       "      <td>1</td>\n",
       "      <td>4591</td>\n",
       "      <td>0</td>\n",
       "      <td>0.0</td>\n",
       "      <td>0</td>\n",
       "      <td>4</td>\n",
       "      <td>5</td>\n",
       "      <td>2</td>\n",
       "    </tr>\n",
       "    <tr>\n",
       "      <th>4</th>\n",
       "      <td>114758</td>\n",
       "      <td>21579 visitorConference 214</td>\n",
       "      <td>21579</td>\n",
       "      <td>visitorConference</td>\n",
       "      <td>214</td>\n",
       "      <td>1</td>\n",
       "      <td>214</td>\n",
       "      <td>0</td>\n",
       "      <td>0.0</td>\n",
       "      <td>2</td>\n",
       "      <td>24</td>\n",
       "      <td>7</td>\n",
       "      <td>1</td>\n",
       "    </tr>\n",
       "  </tbody>\n",
       "</table>\n",
       "</div>"
      ],
      "text/plain": [
       "       Id                       Triple source           relation   tail  \\\n",
       "0  114754   1322 operatingSystem 14477   1322    operatingSystem  14477   \n",
       "1  114755            5210 parent 11412   5210             parent  11412   \n",
       "2  114756      38658 leadersSeat 35321  38658        leadersSeat  35321   \n",
       "3  114757         41457 cableServ 4591  41457          cableServ   4591   \n",
       "4  114758  21579 visitorConference 214  21579  visitorConference    214   \n",
       "\n",
       "   label target  f0   f1  f2  f3  f4  f5  \n",
       "0      1  14477   0  0.0   1   6   3   0  \n",
       "1      1  11412   0  0.0   2   3   0   1  \n",
       "2      1  35321   0  0.0   0   1   4   4  \n",
       "3      1   4591   0  0.0   0   4   5   2  \n",
       "4      1    214   0  0.0   2  24   7   1  "
      ]
     },
     "execution_count": 153,
     "metadata": {},
     "output_type": "execute_result"
    }
   ],
   "source": [
    "print(\"Generate edge fetures..\")\n",
    "df_test = generate_df_features(Gtrain,rel_test)\n",
    "# Retrieve the Id and Label from the initial data\n",
    "df_test = pd.merge(test_set,df_test,how='inner',left_on=['source','relation','tail'],right_on=['source','relation','target']).drop_duplicates()\n",
    "df_test.head(5)"
   ]
  },
  {
   "cell_type": "markdown",
   "metadata": {},
   "source": [
    "## Modeling with XG-Boost classifier"
>>>>>>> 27a69c4d99b35e4a5c519fa3720109d7ff99e0a8:code/unicredit_notebook.ipynb
   ]
  },
  {
   "cell_type": "code",
<<<<<<< HEAD:code/unicredit_notebook_v1.ipynb
   "execution_count": 17,
   "id": "72d18d2c",
   "metadata": {
    "ExecuteTime": {
     "end_time": "2021-06-30T16:48:41.354210Z",
     "start_time": "2021-06-30T16:47:26.716510Z"
    }
   },
   "outputs": [],
   "source": [
    "model = embedding.fit(window=10, min_count=1, batch_words=4) "
=======
   "execution_count": 210,
   "metadata": {},
   "outputs": [
    {
     "name": "stdout",
     "output_type": "stream",
     "text": [
      "======================================================================================\n",
      "X Train shape: (91802, 6)\n",
      "Y Train shape: (91802, 1)\n",
      "X Validation shape: (22952, 6)\n",
      "Y Validation shape: (22952, 1)\n",
      "X Test shape: (28690, 6)\n"
     ]
    }
   ],
   "source": [
    "# Define features to be used\n",
    "vars_select = ['f0','f1','f2','f3','f4','f5']\n",
    "# vars_select = ['f1','f2','f3','f4','f5']\n",
    "\n",
    "x_train = df_train.loc[:, df_train.columns.isin(vars_select)].copy()\n",
    "y_train = df_train.loc[:, df_train.columns == \"Label\"].copy()\n",
    "\n",
    "x_val = df_validation.loc[:, df_validation.columns.isin(vars_select)].copy()\n",
    "y_val = df_validation.loc[:, df_validation.columns == \"Label\"].copy()\n",
    "\n",
    "x_test = df_test.loc[:, df_test.columns.isin(vars_select)].copy()\n",
    "\n",
    "print(\"======================================================================================\")\n",
    "print(\"X Train shape:\",x_train.shape)\n",
    "print(\"Y Train shape:\",y_train.shape)\n",
    "print(\"X Validation shape:\",x_val.shape)\n",
    "print(\"Y Validation shape:\",y_val.shape)\n",
    "print(\"X Test shape:\",x_test.shape)\n"
>>>>>>> 27a69c4d99b35e4a5c519fa3720109d7ff99e0a8:code/unicredit_notebook.ipynb
   ]
  },
  {
   "cell_type": "code",
<<<<<<< HEAD:code/unicredit_notebook_v1.ipynb
   "execution_count": 18,
   "id": "137edd43",
   "metadata": {
    "ExecuteTime": {
     "end_time": "2021-06-30T16:49:59.998173Z",
     "start_time": "2021-06-30T16:49:59.974326Z"
    }
   },
   "outputs": [
    {
     "data": {
      "text/plain": [
       "[('6314', 0.9881356358528137),\n",
       " ('24630', 0.9874294996261597),\n",
       " ('31025', 0.9869814515113831),\n",
       " ('27075', 0.9868086576461792),\n",
       " ('19860', 0.9866402745246887),\n",
       " ('16863', 0.9865047335624695),\n",
       " ('38446', 0.9864374399185181),\n",
       " ('10983', 0.9863516688346863),\n",
       " ('22769', 0.9862580895423889),\n",
       " ('15338', 0.9861183166503906)]"
      ]
     },
     "execution_count": 18,
=======
   "execution_count": 211,
   "metadata": {},
   "outputs": [
    {
     "name": "stderr",
     "output_type": "stream",
     "text": [
      "C:\\Users\\Daniel_Jimenez\\anaconda3\\envs\\ADM\\lib\\site-packages\\xgboost\\sklearn.py:892: UserWarning: The use of label encoder in XGBClassifier is deprecated and will be removed in a future release. To remove this warning, do the following: 1) Pass option use_label_encoder=False when constructing XGBClassifier object; and 2) Encode your labels (y) as integers starting with 0, i.e. 0, 1, 2, ..., [num_class - 1].\n",
      "  warnings.warn(label_encoder_deprecation_msg, UserWarning)\n",
      "C:\\Users\\Daniel_Jimenez\\anaconda3\\envs\\ADM\\lib\\site-packages\\sklearn\\utils\\validation.py:72: DataConversionWarning: A column-vector y was passed when a 1d array was expected. Please change the shape of y to (n_samples, ), for example using ravel().\n",
      "  return f(**kwargs)\n"
     ]
    },
    {
     "name": "stdout",
     "output_type": "stream",
     "text": [
      "[02:35:53] WARNING: C:/Users/Administrator/workspace/xgboost-win64_release_1.3.0/src/learner.cc:1061: Starting in XGBoost 1.3.0, the default evaluation metric used with the objective 'binary:logistic' was changed from 'error' to 'logloss'. Explicitly set eval_metric if you'd like to restore the old behavior.\n"
     ]
    },
    {
     "data": {
      "text/plain": [
       "RandomizedSearchCV(cv=5,\n",
       "                   estimator=XGBClassifier(base_score=None, booster=None,\n",
       "                                           colsample_bylevel=None,\n",
       "                                           colsample_bynode=None,\n",
       "                                           colsample_bytree=None, gamma=None,\n",
       "                                           gpu_id=None, importance_type='gain',\n",
       "                                           interaction_constraints=None,\n",
       "                                           learning_rate=None,\n",
       "                                           max_delta_step=None, max_depth=None,\n",
       "                                           min_child_weight=None, missing=nan,\n",
       "                                           monotone_constraints=None,\n",
       "                                           n_estimators=100, n_jobs=None,\n",
       "                                           num_parallel_tree=None,\n",
       "                                           random_state=0, reg_alpha=None,\n",
       "                                           reg_lambda=None,\n",
       "                                           scale_pos_weight=None,\n",
       "                                           subsample=None, tree_method=None,\n",
       "                                           validate_parameters=None,\n",
       "                                           verbosity=None),\n",
       "                   n_jobs=-1,\n",
       "                   param_distributions={'learning_rate': [0.0001, 0.001, 0.01,\n",
       "                                                          0.1],\n",
       "                                        'max_depth': range(3, 10, 3),\n",
       "                                        'min_child_weight': range(1, 6, 3)},\n",
       "                   random_state=0, verbose=False)"
      ]
     },
     "execution_count": 211,
>>>>>>> 27a69c4d99b35e4a5c519fa3720109d7ff99e0a8:code/unicredit_notebook.ipynb
     "metadata": {},
     "output_type": "execute_result"
    }
   ],
   "source": [
<<<<<<< HEAD:code/unicredit_notebook_v1.ipynb
    "model.wv.most_similar('10001')"
   ]
  },
  {
   "cell_type": "markdown",
   "id": "73196720",
   "metadata": {},
   "source": [
    "Edge embeddings"
=======
    "#Define the grid to be searched in\n",
    "xgb1 = XGBClassifier(random_state = seed)\n",
    "parameters = {'max_depth':range(3,10,3),\n",
    "              'min_child_weight':range(1,6,3),\n",
    "              'learning_rate': [0.0001, 0.001, 0.01, 0.1]}\n",
    "\n",
    "#Execute cross-validated random grid search\n",
    "xgb_grid = RandomizedSearchCV(xgb1, parameters, cv = 5, n_jobs = -1, verbose=False, random_state = seed)\n",
    "# Train Model\n",
    "xgb_grid.fit(x_train,y_train)"
   ]
  },
  {
   "cell_type": "code",
   "execution_count": 212,
   "metadata": {},
   "outputs": [
    {
     "name": "stdout",
     "output_type": "stream",
     "text": [
      "======================================================================================\n",
      "Best parameters found: \n",
      "{'min_child_weight': 4, 'max_depth': 9, 'learning_rate': 0.1}\n",
      "======================================================================================\n"
     ]
    }
   ],
   "source": [
    "print(\"======================================================================================\")\n",
    "print(\"Best parameters found: \")\n",
    "print(xgb_grid.best_params_)\n",
    "\n",
    "print(\"======================================================================================\")\n",
    "# Predict values of regression with train\n",
    "ypred_train = pd.DataFrame(xgb_grid.best_estimator_.predict(x_train))"
>>>>>>> 27a69c4d99b35e4a5c519fa3720109d7ff99e0a8:code/unicredit_notebook.ipynb
   ]
  },
  {
   "cell_type": "code",
<<<<<<< HEAD:code/unicredit_notebook_v1.ipynb
   "execution_count": 19,
   "id": "d317f3a9",
   "metadata": {
    "ExecuteTime": {
     "end_time": "2021-06-30T16:50:32.857475Z",
     "start_time": "2021-06-30T16:50:32.851832Z"
    }
   },
   "outputs": [],
   "source": [
    "from node2vec.edges import HadamardEmbedder, AverageEmbedder, WeightedL1Embedder, WeightedL2Embedder"
   ]
  },
  {
   "cell_type": "code",
   "execution_count": 20,
   "id": "13db7540",
   "metadata": {
    "ExecuteTime": {
     "end_time": "2021-06-30T16:51:22.527484Z",
     "start_time": "2021-06-30T16:51:22.523896Z"
    }
   },
   "outputs": [],
   "source": [
    "edges_embs = HadamardEmbedder(keyed_vectors=model.wv)"
=======
   "execution_count": 213,
   "metadata": {},
   "outputs": [
    {
     "name": "stdout",
     "output_type": "stream",
     "text": [
      "F1 Score for train, validation: 0.42670083024141886, 0.5608134102775488\n",
      "Accuracy Score for train, validation: 0.6246595934729091, 0.6518386197281283\n",
      "Precision Score for train, validation: 0.9029009998591747, 0.7593391873790742\n",
      "Recall Score for train, validation: 0.2793621054007538, 0.4445799930289299\n",
      "AUROC for train, validation: 0.7867568128772034, 0.7306815564961007\n",
      "GINI for train, validation: 0.5735136257544069, 0.46136311299220134\n"
     ]
    }
   ],
   "source": [
    "# Define the optimal cutoff (using validation set)\n",
    "predicted_prob_val = xgb_grid.best_estimator_.predict_proba(x_val)[:, 1]\n",
    "false_pos_rate, true_pos_rate, proba = roc_curve(y_val, predicted_prob_val)\n",
    "\n",
    "# To define the cut off it's used the maximum difference btw true positive rate and false positive rate\n",
    "optimal_proba_cutoff = sorted(list(zip(np.abs(true_pos_rate - false_pos_rate), proba)), key=lambda i: i[0], reverse=True)[0][1]\n",
    "\n",
    "# Predict in train\n",
    "predicted_prob_train = xgb_grid.best_estimator_.predict_proba(x_train)[:, 1]\n",
    "y_train_predicted = [1 if i >= optimal_proba_cutoff else 0 for i in predicted_prob_train]\n",
    "\n",
    "# Predict in validation\n",
    "predicted_prob_val = xgb_grid.best_estimator_.predict_proba(x_val)[:, 1]\n",
    "y_val_predicted = [1 if i >= optimal_proba_cutoff else 0 for i in predicted_prob_val]\n",
    "\n",
    "# Predict in test\n",
    "predicted_prob_test = xgb_grid.best_estimator_.predict_proba(x_test)[:, 1]\n",
    "y_test_predicted = [1 if i >= optimal_proba_cutoff else 0 for i in predicted_prob_test]\n",
    "\n",
    "print(\"F1 Score for train, validation: {}, {}\".format(f1_score(y_train, y_train_predicted), f1_score(y_val, y_val_predicted)))\n",
    "print(\"Accuracy Score for train, validation: {}, {}\".format(accuracy_score(y_train, y_train_predicted), accuracy_score(y_val, y_val_predicted)))\n",
    "print(\"Precision Score for train, validation: {}, {}\".format(precision_score(y_train, y_train_predicted), precision_score(y_val, y_val_predicted)))\n",
    "print(\"Recall Score for train, validation: {}, {}\".format(recall_score(y_train, y_train_predicted), recall_score(y_val, y_val_predicted)))\n",
    "print(\"AUROC for train, validation: {}, {}\".format(roc_auc_score(y_train, predicted_prob_train), roc_auc_score(y_val, predicted_prob_val)))\n",
    "print(\"GINI for train, validation: {}, {}\".format(roc_auc_score(y_train, predicted_prob_train) * 2 -1, roc_auc_score(y_val, predicted_prob_val) * 2 -1))"
   ]
  },
  {
   "cell_type": "markdown",
   "metadata": {},
   "source": [
    "## Feature importance"
>>>>>>> 27a69c4d99b35e4a5c519fa3720109d7ff99e0a8:code/unicredit_notebook.ipynb
   ]
  },
  {
   "cell_type": "code",
<<<<<<< HEAD:code/unicredit_notebook_v1.ipynb
   "execution_count": 30,
   "id": "a0285ab5",
   "metadata": {
    "ExecuteTime": {
     "end_time": "2021-06-30T17:18:58.341216Z",
     "start_time": "2021-06-30T17:18:58.315790Z"
    }
   },
   "outputs": [
    {
     "data": {
      "text/plain": [
       "array([ 0.0624701 ,  0.03421304,  0.01889687,  0.0360032 ,  0.02340166,\n",
       "        0.01081064,  0.00539609, -0.10514799,  0.0099972 , -0.08288552,\n",
       "       -0.13095427, -0.03101761, -0.17819105, -0.00924894,  0.04178149,\n",
       "        0.11270613, -0.09185932, -0.0489062 , -0.04081935,  0.1034681 ,\n",
       "        0.06663747,  0.10671864,  0.07600545, -0.02598541, -0.09982543,\n",
       "        0.14421503, -0.0334549 ,  0.06526703, -0.08632009, -0.03830667,\n",
       "        0.00988579, -0.1199495 , -0.03753826,  0.0596816 ,  0.0090041 ,\n",
       "       -0.02315225,  0.00169792,  0.00049679,  0.09358896, -0.06502618,\n",
       "       -0.10051589,  0.03809523,  0.02182027,  0.00799868, -0.02158404,\n",
       "        0.01745255,  0.02430105, -0.02636931, -0.03013489, -0.09939053,\n",
       "        0.02390336, -0.04540624,  0.02313965,  0.09056495,  0.0515229 ,\n",
       "        0.00967712, -0.09068506, -0.01114145, -0.1428173 , -0.03895466,\n",
       "        0.00368675, -0.10857921,  0.12659143,  0.12857458], dtype=float32)"
      ]
     },
     "execution_count": 30,
=======
   "execution_count": 214,
   "metadata": {},
   "outputs": [
    {
     "data": {
      "text/html": [
       "<div>\n",
       "<style scoped>\n",
       "    .dataframe tbody tr th:only-of-type {\n",
       "        vertical-align: middle;\n",
       "    }\n",
       "\n",
       "    .dataframe tbody tr th {\n",
       "        vertical-align: top;\n",
       "    }\n",
       "\n",
       "    .dataframe thead th {\n",
       "        text-align: right;\n",
       "    }\n",
       "</style>\n",
       "<table border=\"1\" class=\"dataframe\">\n",
       "  <thead>\n",
       "    <tr style=\"text-align: right;\">\n",
       "      <th></th>\n",
       "      <th>variable</th>\n",
       "      <th>importance</th>\n",
       "    </tr>\n",
       "  </thead>\n",
       "  <tbody>\n",
       "    <tr>\n",
       "      <th>3</th>\n",
       "      <td>f3</td>\n",
       "      <td>0.106202</td>\n",
       "    </tr>\n",
       "    <tr>\n",
       "      <th>4</th>\n",
       "      <td>f4</td>\n",
       "      <td>0.094957</td>\n",
       "    </tr>\n",
       "    <tr>\n",
       "      <th>2</th>\n",
       "      <td>f2</td>\n",
       "      <td>0.050291</td>\n",
       "    </tr>\n",
       "    <tr>\n",
       "      <th>5</th>\n",
       "      <td>f5</td>\n",
       "      <td>0.022071</td>\n",
       "    </tr>\n",
       "    <tr>\n",
       "      <th>1</th>\n",
       "      <td>f1</td>\n",
       "      <td>0.019311</td>\n",
       "    </tr>\n",
       "    <tr>\n",
       "      <th>0</th>\n",
       "      <td>f0</td>\n",
       "      <td>0.001532</td>\n",
       "    </tr>\n",
       "  </tbody>\n",
       "</table>\n",
       "</div>"
      ],
      "text/plain": [
       "  variable  importance\n",
       "3       f3    0.106202\n",
       "4       f4    0.094957\n",
       "2       f2    0.050291\n",
       "5       f5    0.022071\n",
       "1       f1    0.019311\n",
       "0       f0    0.001532"
      ]
     },
     "execution_count": 214,
>>>>>>> 27a69c4d99b35e4a5c519fa3720109d7ff99e0a8:code/unicredit_notebook.ipynb
     "metadata": {},
     "output_type": "execute_result"
    }
   ],
   "source": [
<<<<<<< HEAD:code/unicredit_notebook_v1.ipynb
    "for head, rel, tail in train_val_set.itertuples():\n",
    "    "
=======
    "# Feature importance calculation\n",
    "imps = permutation_importance(xgb_grid.best_estimator_, x_train, y_train)\n",
    "\n",
    "# Create dummie variables and stack them with the previous dataframe\n",
    "importance = pd.concat([pd.DataFrame(x_train.columns), pd.DataFrame(imps.importances_mean)], axis=1)\n",
    "importance.columns = [\"variable\",\"importance\"]\n",
    "\n",
    "importance = importance.sort_values(by='importance', ascending=False)\n",
    "importance"
   ]
  },
  {
   "cell_type": "markdown",
   "metadata": {},
   "source": [
    "## Prepare final result (scoring of test) to export"
>>>>>>> 27a69c4d99b35e4a5c519fa3720109d7ff99e0a8:code/unicredit_notebook.ipynb
   ]
  },
  {
   "cell_type": "code",
<<<<<<< HEAD:code/unicredit_notebook_v1.ipynb
   "execution_count": 28,
   "id": "b8c62abe",
   "metadata": {
    "ExecuteTime": {
     "end_time": "2021-06-30T17:12:45.088547Z",
     "start_time": "2021-06-30T17:12:45.085370Z"
    }
   },
   "outputs": [
    {
     "data": {
      "text/plain": [
       "node2vec.edges.HadamardEmbedder"
      ]
     },
     "execution_count": 28,
     "metadata": {},
     "output_type": "execute_result"
    }
   ],
   "source": [
    "type(edges_embs)"
=======
   "execution_count": 215,
   "metadata": {},
   "outputs": [],
   "source": [
    "export_result = df_test.copy()\n",
    "export_result['Expected'] = y_test_predicted\n",
    "export_result = export_result[['Id','Expected']]\n",
    "export_result.to_csv('JeDiS_xgboost.csv', index=False)"
>>>>>>> 27a69c4d99b35e4a5c519fa3720109d7ff99e0a8:code/unicredit_notebook.ipynb
   ]
  }
 ],
 "metadata": {
  "hide_input": false,
  "kernelspec": {
   "display_name": "Python 3",
   "language": "python",
   "name": "python3"
  },
  "language_info": {
   "codemirror_mode": {
    "name": "ipython",
    "version": 3
   },
   "file_extension": ".py",
   "mimetype": "text/x-python",
   "name": "python",
   "nbconvert_exporter": "python",
   "pygments_lexer": "ipython3",
   "version": "3.7.9"
  },
  "latex_envs": {
   "LaTeX_envs_menu_present": true,
   "autoclose": true,
   "autocomplete": true,
   "bibliofile": "biblio.bib",
   "cite_by": "apalike",
   "current_citInitial": 1,
   "eqLabelWithNumbers": true,
   "eqNumInitial": 1,
   "hotkeys": {
    "equation": "Ctrl-E",
    "itemize": "Ctrl-I"
   },
   "labels_anchors": false,
   "latex_user_defs": false,
   "report_style_numbering": false,
   "user_envs_cfg": false
  },
  "toc": {
   "base_numbering": 1,
   "nav_menu": {},
   "number_sections": true,
   "sideBar": true,
   "skip_h1_title": false,
   "title_cell": "Table of Contents",
   "title_sidebar": "Contents",
   "toc_cell": false,
   "toc_position": {},
   "toc_section_display": true,
   "toc_window_display": false
  },
  "varInspector": {
   "cols": {
    "lenName": 16,
    "lenType": 16,
    "lenVar": 40
   },
   "kernels_config": {
    "python": {
     "delete_cmd_postfix": "",
     "delete_cmd_prefix": "del ",
     "library": "var_list.py",
     "varRefreshCmd": "print(var_dic_list())"
    },
    "r": {
     "delete_cmd_postfix": ") ",
     "delete_cmd_prefix": "rm(",
     "library": "var_list.r",
     "varRefreshCmd": "cat(var_dic_list()) "
    }
   },
   "types_to_exclude": [
    "module",
    "function",
    "builtin_function_or_method",
    "instance",
    "_Feature"
   ],
   "window_display": false
  }
 },
 "nbformat": 4,
 "nbformat_minor": 5
}
