{
  "nbformat": 4,
  "nbformat_minor": 0,
  "metadata": {
    "colab": {
      "name": "JeDiS.ipynb",
      "provenance": [],
      "collapsed_sections": []
    },
    "kernelspec": {
      "name": "python3",
      "display_name": "Python 3"
    },
    "language_info": {
      "name": "python"
    },
    "widgets": {
      "application/vnd.jupyter.widget-state+json": {
        "be26282fcfb94e5da54447ec86ffe761": {
          "model_module": "@jupyter-widgets/controls",
          "model_name": "HBoxModel",
          "state": {
            "_view_name": "HBoxView",
            "_dom_classes": [],
            "_model_name": "HBoxModel",
            "_view_module": "@jupyter-widgets/controls",
            "_model_module_version": "1.5.0",
            "_view_count": null,
            "_view_module_version": "1.5.0",
            "box_style": "",
            "layout": "IPY_MODEL_da7c7efea71244c5a938fde64829ffd2",
            "_model_module": "@jupyter-widgets/controls",
            "children": [
              "IPY_MODEL_86e216d8526d4c2e8a98d5a512769652",
              "IPY_MODEL_ef3a5ef7eff8479c93d08cfd4dbfe5d6"
            ]
          }
        },
        "da7c7efea71244c5a938fde64829ffd2": {
          "model_module": "@jupyter-widgets/base",
          "model_name": "LayoutModel",
          "state": {
            "_view_name": "LayoutView",
            "grid_template_rows": null,
            "right": null,
            "justify_content": null,
            "_view_module": "@jupyter-widgets/base",
            "overflow": null,
            "_model_module_version": "1.2.0",
            "_view_count": null,
            "flex_flow": null,
            "width": null,
            "min_width": null,
            "border": null,
            "align_items": null,
            "bottom": null,
            "_model_module": "@jupyter-widgets/base",
            "top": null,
            "grid_column": null,
            "overflow_y": null,
            "overflow_x": null,
            "grid_auto_flow": null,
            "grid_area": null,
            "grid_template_columns": null,
            "flex": null,
            "_model_name": "LayoutModel",
            "justify_items": null,
            "grid_row": null,
            "max_height": null,
            "align_content": null,
            "visibility": null,
            "align_self": null,
            "height": null,
            "min_height": null,
            "padding": null,
            "grid_auto_rows": null,
            "grid_gap": null,
            "max_width": null,
            "order": null,
            "_view_module_version": "1.2.0",
            "grid_template_areas": null,
            "object_position": null,
            "object_fit": null,
            "grid_auto_columns": null,
            "margin": null,
            "display": null,
            "left": null
          }
        },
        "86e216d8526d4c2e8a98d5a512769652": {
          "model_module": "@jupyter-widgets/controls",
          "model_name": "FloatProgressModel",
          "state": {
            "_view_name": "ProgressView",
            "style": "IPY_MODEL_faf6d95ff48c4439a835f3a129e84fbf",
            "_dom_classes": [],
            "description": "Computing transition probabilities: 100%",
            "_model_name": "FloatProgressModel",
            "bar_style": "success",
            "max": 43990,
            "_view_module": "@jupyter-widgets/controls",
            "_model_module_version": "1.5.0",
            "value": 43990,
            "_view_count": null,
            "_view_module_version": "1.5.0",
            "orientation": "horizontal",
            "min": 0,
            "description_tooltip": null,
            "_model_module": "@jupyter-widgets/controls",
            "layout": "IPY_MODEL_fce121e2aefb40dda7f2be4d2dabbc80"
          }
        },
        "ef3a5ef7eff8479c93d08cfd4dbfe5d6": {
          "model_module": "@jupyter-widgets/controls",
          "model_name": "HTMLModel",
          "state": {
            "_view_name": "HTMLView",
            "style": "IPY_MODEL_393281d7132a4049b34faa9a6ba6dd2b",
            "_dom_classes": [],
            "description": "",
            "_model_name": "HTMLModel",
            "placeholder": "​",
            "_view_module": "@jupyter-widgets/controls",
            "_model_module_version": "1.5.0",
            "value": " 43990/43990 [00:04&lt;00:00, 10568.22it/s]",
            "_view_count": null,
            "_view_module_version": "1.5.0",
            "description_tooltip": null,
            "_model_module": "@jupyter-widgets/controls",
            "layout": "IPY_MODEL_918fb63d92d54ff184927ee0e0e345b0"
          }
        },
        "faf6d95ff48c4439a835f3a129e84fbf": {
          "model_module": "@jupyter-widgets/controls",
          "model_name": "ProgressStyleModel",
          "state": {
            "_view_name": "StyleView",
            "_model_name": "ProgressStyleModel",
            "description_width": "initial",
            "_view_module": "@jupyter-widgets/base",
            "_model_module_version": "1.5.0",
            "_view_count": null,
            "_view_module_version": "1.2.0",
            "bar_color": null,
            "_model_module": "@jupyter-widgets/controls"
          }
        },
        "fce121e2aefb40dda7f2be4d2dabbc80": {
          "model_module": "@jupyter-widgets/base",
          "model_name": "LayoutModel",
          "state": {
            "_view_name": "LayoutView",
            "grid_template_rows": null,
            "right": null,
            "justify_content": null,
            "_view_module": "@jupyter-widgets/base",
            "overflow": null,
            "_model_module_version": "1.2.0",
            "_view_count": null,
            "flex_flow": null,
            "width": null,
            "min_width": null,
            "border": null,
            "align_items": null,
            "bottom": null,
            "_model_module": "@jupyter-widgets/base",
            "top": null,
            "grid_column": null,
            "overflow_y": null,
            "overflow_x": null,
            "grid_auto_flow": null,
            "grid_area": null,
            "grid_template_columns": null,
            "flex": null,
            "_model_name": "LayoutModel",
            "justify_items": null,
            "grid_row": null,
            "max_height": null,
            "align_content": null,
            "visibility": null,
            "align_self": null,
            "height": null,
            "min_height": null,
            "padding": null,
            "grid_auto_rows": null,
            "grid_gap": null,
            "max_width": null,
            "order": null,
            "_view_module_version": "1.2.0",
            "grid_template_areas": null,
            "object_position": null,
            "object_fit": null,
            "grid_auto_columns": null,
            "margin": null,
            "display": null,
            "left": null
          }
        },
        "393281d7132a4049b34faa9a6ba6dd2b": {
          "model_module": "@jupyter-widgets/controls",
          "model_name": "DescriptionStyleModel",
          "state": {
            "_view_name": "StyleView",
            "_model_name": "DescriptionStyleModel",
            "description_width": "",
            "_view_module": "@jupyter-widgets/base",
            "_model_module_version": "1.5.0",
            "_view_count": null,
            "_view_module_version": "1.2.0",
            "_model_module": "@jupyter-widgets/controls"
          }
        },
        "918fb63d92d54ff184927ee0e0e345b0": {
          "model_module": "@jupyter-widgets/base",
          "model_name": "LayoutModel",
          "state": {
            "_view_name": "LayoutView",
            "grid_template_rows": null,
            "right": null,
            "justify_content": null,
            "_view_module": "@jupyter-widgets/base",
            "overflow": null,
            "_model_module_version": "1.2.0",
            "_view_count": null,
            "flex_flow": null,
            "width": null,
            "min_width": null,
            "border": null,
            "align_items": null,
            "bottom": null,
            "_model_module": "@jupyter-widgets/base",
            "top": null,
            "grid_column": null,
            "overflow_y": null,
            "overflow_x": null,
            "grid_auto_flow": null,
            "grid_area": null,
            "grid_template_columns": null,
            "flex": null,
            "_model_name": "LayoutModel",
            "justify_items": null,
            "grid_row": null,
            "max_height": null,
            "align_content": null,
            "visibility": null,
            "align_self": null,
            "height": null,
            "min_height": null,
            "padding": null,
            "grid_auto_rows": null,
            "grid_gap": null,
            "max_width": null,
            "order": null,
            "_view_module_version": "1.2.0",
            "grid_template_areas": null,
            "object_position": null,
            "object_fit": null,
            "grid_auto_columns": null,
            "margin": null,
            "display": null,
            "left": null
          }
        }
      }
    }
  },
  "cells": [
    {
      "cell_type": "markdown",
      "metadata": {
        "id": "g9utl7YEgbUp"
      },
      "source": [
        "Juan Mata Naranjo 1939671\n",
        "\n",
        "Stefano D'Arrigo 1960500\n",
        "\n",
        "Daniel Jimenez Gutiérrez 1939216\n"
      ]
    },
    {
      "cell_type": "code",
      "metadata": {
        "colab": {
          "base_uri": "https://localhost:8080/"
        },
        "id": "OmwptjTNaFPR",
        "outputId": "912b0e8f-6c3e-4b7b-8f6c-3be471dc8dd2"
      },
      "source": [
        "#connect google drive to colab\n",
        "from google.colab import drive\n",
        "drive.mount('/content/gdrive/', force_remount = True)"
      ],
      "execution_count": 2,
      "outputs": [
        {
          "output_type": "stream",
          "text": [
            "Mounted at /content/gdrive/\n"
          ],
          "name": "stdout"
        }
      ]
    },
    {
      "cell_type": "markdown",
      "metadata": {
        "id": "To61B3uhafaA"
      },
      "source": [
        "## Install Packages"
      ]
    },
    {
      "cell_type": "code",
      "metadata": {
        "colab": {
          "base_uri": "https://localhost:8080/"
        },
        "id": "01f_PsAXch_F",
        "outputId": "52f993b1-6929-4e30-d7a4-4036b5ac0fcc"
      },
      "source": [
        "!pip install Node2Vec\n",
        "!pip install Word2Vec"
      ],
      "execution_count": 4,
      "outputs": [
        {
          "output_type": "stream",
          "text": [
            "Collecting Node2Vec\n",
            "  Downloading https://files.pythonhosted.org/packages/87/c4/8e859a1099d78dbb00b25c6832b8ee9fe11110cc7f2f3a6a4bd37ada3185/node2vec-0.4.3.tar.gz\n",
            "Requirement already satisfied: networkx in /usr/local/lib/python3.7/dist-packages (from Node2Vec) (2.5.1)\n",
            "Requirement already satisfied: gensim in /usr/local/lib/python3.7/dist-packages (from Node2Vec) (3.6.0)\n",
            "Requirement already satisfied: numpy in /usr/local/lib/python3.7/dist-packages (from Node2Vec) (1.19.5)\n",
            "Requirement already satisfied: tqdm in /usr/local/lib/python3.7/dist-packages (from Node2Vec) (4.41.1)\n",
            "Requirement already satisfied: joblib>=0.13.2 in /usr/local/lib/python3.7/dist-packages (from Node2Vec) (1.0.1)\n",
            "Requirement already satisfied: decorator<5,>=4.3 in /usr/local/lib/python3.7/dist-packages (from networkx->Node2Vec) (4.4.2)\n",
            "Requirement already satisfied: scipy>=0.18.1 in /usr/local/lib/python3.7/dist-packages (from gensim->Node2Vec) (1.4.1)\n",
            "Requirement already satisfied: smart-open>=1.2.1 in /usr/local/lib/python3.7/dist-packages (from gensim->Node2Vec) (5.1.0)\n",
            "Requirement already satisfied: six>=1.5.0 in /usr/local/lib/python3.7/dist-packages (from gensim->Node2Vec) (1.15.0)\n",
            "Building wheels for collected packages: Node2Vec\n",
            "  Building wheel for Node2Vec (setup.py) ... \u001b[?25l\u001b[?25hdone\n",
            "  Created wheel for Node2Vec: filename=node2vec-0.4.3-cp37-none-any.whl size=5982 sha256=cbcc61398763aabbb38d664d4a11f66e9cd5228c6ea1f3c64cdca4d1703d905c\n",
            "  Stored in directory: /root/.cache/pip/wheels/34/f4/60/55708b5e797260310451d919c8f898bbd4acd1901367001f20\n",
            "Successfully built Node2Vec\n",
            "Installing collected packages: Node2Vec\n",
            "Successfully installed Node2Vec-0.4.3\n",
            "Collecting Word2Vec\n",
            "\u001b[?25l  Downloading https://files.pythonhosted.org/packages/11/9e/dc6d96578191b6167cb1ea4a3fe3edeed0dce54d3db21ada013b2b407d65/word2vec-0.11.1.tar.gz (42kB)\n",
            "\u001b[K     |████████████████████████████████| 51kB 3.3MB/s \n",
            "\u001b[?25h  Installing build dependencies ... \u001b[?25l\u001b[?25hdone\n",
            "  Getting requirements to build wheel ... \u001b[?25l\u001b[?25hdone\n",
            "    Preparing wheel metadata ... \u001b[?25l\u001b[?25hdone\n",
            "Requirement already satisfied: joblib in /usr/local/lib/python3.7/dist-packages (from Word2Vec) (1.0.1)\n",
            "Requirement already satisfied: numpy>=1.9.2 in /usr/local/lib/python3.7/dist-packages (from Word2Vec) (1.19.5)\n",
            "Building wheels for collected packages: Word2Vec\n",
            "  Building wheel for Word2Vec (PEP 517) ... \u001b[?25l\u001b[?25hdone\n",
            "  Created wheel for Word2Vec: filename=word2vec-0.11.1-cp37-none-any.whl size=156422 sha256=8c2f86c09471b0254b2cced4e975bc4e7ec0d568d9260ddade804b36b08841d4\n",
            "  Stored in directory: /root/.cache/pip/wheels/f3/7c/ac/fcb6d867f806021c3730fd848970db988b1d0030b5d20c0e02\n",
            "Successfully built Word2Vec\n",
            "Installing collected packages: Word2Vec\n",
            "Successfully installed Word2Vec-0.11.1\n"
          ],
          "name": "stdout"
        }
      ]
    },
    {
      "cell_type": "markdown",
      "metadata": {
        "id": "QZAr2mDabeOt"
      },
      "source": [
        "## Import Libraries"
      ]
    },
    {
      "cell_type": "code",
      "metadata": {
        "id": "rvT_i1GWcK5T"
      },
      "source": [
        "import pandas as pd\n",
        "import networkx as nx\n",
        "from node2vec import Node2Vec\n",
        "from node2vec.edges import HadamardEmbedder\n",
        "import pickle\n",
        "import torch\n",
        "import gensim\n",
        "import numpy as np\n",
        "import keras\n",
        "from tensorflow import keras\n",
        "import tensorflow as tf\n",
        "from keras import backend as K\n",
        "import os\n",
        "from sklearn.decomposition import TruncatedSVD\n",
        "from collections import defaultdict\n",
        "from xgboost import XGBClassifier\n",
        "from sklearn.ensemble import RandomForestClassifier\n",
        "from sklearn.model_selection import GridSearchCV, RandomizedSearchCV\n",
        "from sklearn.metrics import accuracy_score, precision_score, recall_score, f1_score, roc_auc_score, roc_curve\n",
        "from sklearn.inspection import permutation_importance\n",
        "from sklearn.model_selection import ParameterGrid\n",
        "from sklearn.svm import SVC, LinearSVC\n",
        "from sklearn.model_selection import train_test_split\n",
        "from sklearn.linear_model import LogisticRegression\n",
        "import pandas as pd\n",
        "from sklearn import metrics"
      ],
      "execution_count": 5,
      "outputs": []
    },
    {
      "cell_type": "code",
      "metadata": {
        "id": "jlgch1BLbgvP"
      },
      "source": [
        ""
      ],
      "execution_count": null,
      "outputs": []
    },
    {
      "cell_type": "markdown",
      "metadata": {
        "id": "uedaiCBcbj8A"
      },
      "source": [
        "## Read Data and Process Tuples"
      ]
    },
    {
      "cell_type": "code",
      "metadata": {
        "id": "zgLwKR5Gcg2r"
      },
      "source": [
        "train_set = pd.read_csv('/content/gdrive/MyDrive/UniCredit/kg_train.csv')\n",
        "val_set = pd.read_csv('/content/gdrive/MyDrive/UniCredit/kg_validation.csv')\n",
        "test_set = pd.read_csv('/content/gdrive/MyDrive/UniCredit/kg_test_nolabel.csv')\n",
        "train_val_set = pd.read_csv('/content/gdrive/MyDrive/UniCredit/kg_pykeen_trainvalidation.tsv', \n",
        "                            sep='\\t', header=0, names=['source', 'relation', 'tail'])"
      ],
      "execution_count": 6,
      "outputs": []
    },
    {
      "cell_type": "code",
      "metadata": {
        "id": "KLGEREXJc6tF"
      },
      "source": [
        "train_set[['head', 'relation', 'tail']] = train_set['Triple'].str.split(' ', 2, expand=True)\n",
        "val_set[['head', 'relation', 'tail']] = val_set['Triple'].str.split(' ', 2, expand=True)\n",
        "test_set[['head', 'relation', 'tail']] = test_set['Triple'].str.split(' ', 2, expand=True)"
      ],
      "execution_count": 7,
      "outputs": []
    },
    {
      "cell_type": "code",
      "metadata": {
        "colab": {
          "base_uri": "https://localhost:8080/",
          "height": 204
        },
        "id": "8cp9UZIKdTKM",
        "outputId": "27fb57b5-e3b6-4058-fb6d-91baae133225"
      },
      "source": [
        "train_val_set.head()"
      ],
      "execution_count": null,
      "outputs": [
        {
          "output_type": "execute_result",
          "data": {
            "text/html": [
              "<div>\n",
              "<style scoped>\n",
              "    .dataframe tbody tr th:only-of-type {\n",
              "        vertical-align: middle;\n",
              "    }\n",
              "\n",
              "    .dataframe tbody tr th {\n",
              "        vertical-align: top;\n",
              "    }\n",
              "\n",
              "    .dataframe thead th {\n",
              "        text-align: right;\n",
              "    }\n",
              "</style>\n",
              "<table border=\"1\" class=\"dataframe\">\n",
              "  <thead>\n",
              "    <tr style=\"text-align: right;\">\n",
              "      <th></th>\n",
              "      <th>source</th>\n",
              "      <th>relation</th>\n",
              "      <th>tail</th>\n",
              "    </tr>\n",
              "  </thead>\n",
              "  <tbody>\n",
              "    <tr>\n",
              "      <th>0</th>\n",
              "      <td>10005</td>\n",
              "      <td>tributariesLeft</td>\n",
              "      <td>10008</td>\n",
              "    </tr>\n",
              "    <tr>\n",
              "      <th>1</th>\n",
              "      <td>10005</td>\n",
              "      <td>tributariesLeft</td>\n",
              "      <td>10014</td>\n",
              "    </tr>\n",
              "    <tr>\n",
              "      <th>2</th>\n",
              "      <td>10005</td>\n",
              "      <td>tributariesLeft</td>\n",
              "      <td>10015</td>\n",
              "    </tr>\n",
              "    <tr>\n",
              "      <th>3</th>\n",
              "      <td>10005</td>\n",
              "      <td>tributariesLeft</td>\n",
              "      <td>10016</td>\n",
              "    </tr>\n",
              "    <tr>\n",
              "      <th>4</th>\n",
              "      <td>10005</td>\n",
              "      <td>tributariesRight</td>\n",
              "      <td>10007</td>\n",
              "    </tr>\n",
              "  </tbody>\n",
              "</table>\n",
              "</div>"
            ],
            "text/plain": [
              "   source          relation   tail\n",
              "0   10005   tributariesLeft  10008\n",
              "1   10005   tributariesLeft  10014\n",
              "2   10005   tributariesLeft  10015\n",
              "3   10005   tributariesLeft  10016\n",
              "4   10005  tributariesRight  10007"
            ]
          },
          "metadata": {
            "tags": []
          },
          "execution_count": 11
        }
      ]
    },
    {
      "cell_type": "markdown",
      "metadata": {
        "id": "IOg135XNbqT9"
      },
      "source": [
        "## Generate Node Embeddings\n",
        "\n",
        "Based on the paper: https://arxiv.org/abs/1607.00653\n",
        " the best feature embedding model for link prediction is Node2vec using HadamardEmbedder edge embedder."
      ]
    },
    {
      "cell_type": "code",
      "metadata": {
        "id": "eVnFcAPRdDlk"
      },
      "source": [
        "# Generate graph from dataframe\n",
        "graph = nx.from_pandas_edgelist(train_val_set, source='source', \n",
        "                                target='tail', edge_attr='relation', \n",
        "                                create_using=nx.MultiDiGraph)"
      ],
      "execution_count": null,
      "outputs": []
    },
    {
      "cell_type": "code",
      "metadata": {
        "colab": {
          "base_uri": "https://localhost:8080/",
          "height": 66,
          "referenced_widgets": [
            "be26282fcfb94e5da54447ec86ffe761",
            "da7c7efea71244c5a938fde64829ffd2",
            "86e216d8526d4c2e8a98d5a512769652",
            "ef3a5ef7eff8479c93d08cfd4dbfe5d6",
            "faf6d95ff48c4439a835f3a129e84fbf",
            "fce121e2aefb40dda7f2be4d2dabbc80",
            "393281d7132a4049b34faa9a6ba6dd2b",
            "918fb63d92d54ff184927ee0e0e345b0"
          ]
        },
        "id": "qGRHiNXjdKIa",
        "outputId": "ae35b427-83f6-452c-c8c5-46ab5478959b"
      },
      "source": [
        "# Initialize object for Node2Vec generation\n",
        "node2vec = Node2Vec(graph, dimensions=200, \n",
        "                    walk_length=30, num_walks=100, workers=4)"
      ],
      "execution_count": null,
      "outputs": [
        {
          "output_type": "display_data",
          "data": {
            "application/vnd.jupyter.widget-view+json": {
              "model_id": "be26282fcfb94e5da54447ec86ffe761",
              "version_minor": 0,
              "version_major": 2
            },
            "text/plain": [
              "HBox(children=(FloatProgress(value=0.0, description='Computing transition probabilities', max=43990.0, style=P…"
            ]
          },
          "metadata": {
            "tags": []
          }
        },
        {
          "output_type": "stream",
          "text": [
            "\n"
          ],
          "name": "stdout"
        }
      ]
    },
    {
      "cell_type": "code",
      "metadata": {
        "id": "l-ot5MfxcPGw"
      },
      "source": [
        "# Fit embedding model\n",
        "embedding = node2vec.fit(window=10, min_count=1, batch_words=4)"
      ],
      "execution_count": null,
      "outputs": []
    },
    {
      "cell_type": "code",
      "metadata": {
        "id": "HOHQoIyOd8zC"
      },
      "source": [
        "embedding = gensim.models.KeyedVectors.load_word2vec_format('/content/gdrive/MyDrive/UniCredit/Copia di embedding_720_25')"
      ],
      "execution_count": 10,
      "outputs": []
    },
    {
      "cell_type": "code",
      "metadata": {
        "colab": {
          "base_uri": "https://localhost:8080/"
        },
        "id": "YaazdaK9eUtf",
        "outputId": "b33b45dd-bff5-4ff7-b0fc-abe5b5a3dfaf"
      },
      "source": [
        "# Object to generate relational edge embedding\n",
        "edges_embs = HadamardEmbedder(keyed_vectors=embedding.wv)"
      ],
      "execution_count": 11,
      "outputs": [
        {
          "output_type": "stream",
          "text": [
            "/usr/local/lib/python3.7/dist-packages/ipykernel_launcher.py:1: DeprecationWarning: Call to deprecated `wv` (Attribute will be removed in 4.0.0, use self instead).\n",
            "  \"\"\"Entry point for launching an IPython kernel.\n"
          ],
          "name": "stderr"
        }
      ]
    },
    {
      "cell_type": "markdown",
      "metadata": {
        "id": "oaGjW5AAcdza"
      },
      "source": [
        "### Create triple tensor of dimensions (len(df), dim(emb), 3)"
      ]
    },
    {
      "cell_type": "code",
      "metadata": {
        "id": "CryLqK9KeUoM"
      },
      "source": [
        "A_list_train_val = []\n",
        "for row in train_val_set.iterrows():\n",
        "    source_emb = embedding[str(row[1][0])]\n",
        "    tail_emb = embedding[str(row[1][2])]\n",
        "    edge_emb = edges_embs[(str(row[1][0]), str(row[1][2]))]\n",
        "    matrix_ = np.vstack((source_emb, edge_emb, tail_emb)).T\n",
        "    A_list_train_val.append(matrix_)\n",
        "A_train_val = np.stack(A_list_train_val)"
      ],
      "execution_count": null,
      "outputs": []
    },
    {
      "cell_type": "code",
      "metadata": {
        "id": "AiIXApWZeUk3"
      },
      "source": [
        "A_list_train = []\n",
        "for row in train_set.iterrows():\n",
        "    string = row[1][1].split()\n",
        "    source_emb = embedding[string[0]]\n",
        "    tail_emb = embedding[string[2]]\n",
        "    edge_emb = edges_embs[(string[0], string[2])]\n",
        "    matrix_ = np.vstack((source_emb, edge_emb, tail_emb)).T\n",
        "    A_list_train.append(matrix_)\n",
        "A_train = np.stack(A_list_train)"
      ],
      "execution_count": 12,
      "outputs": []
    },
    {
      "cell_type": "code",
      "metadata": {
        "id": "s77G4PI8eUij"
      },
      "source": [
        "A_list_test = []\n",
        "for row in test_set.iterrows():\n",
        "    string = row[1][1].split()\n",
        "    source_emb = embedding[string[0]]\n",
        "    tail_emb = embedding[string[2]]\n",
        "    edge_emb = edges_embs[(string[0], string[2])]\n",
        "    matrix_ = np.vstack((source_emb, edge_emb, tail_emb)).T\n",
        "    A_list_test.append(matrix_)\n",
        "A_test = np.stack(A_list_test)"
      ],
      "execution_count": 13,
      "outputs": []
    },
    {
      "cell_type": "code",
      "metadata": {
        "id": "UONDfo8reUgL"
      },
      "source": [
        "A_list_val = []\n",
        "for row in val_set.iterrows():\n",
        "    string = row[1][1].split()\n",
        "    source_emb = embedding[string[0]]\n",
        "    tail_emb = embedding[string[2]]\n",
        "    edge_emb = edges_embs[(string[0], string[2])]\n",
        "    matrix_ = np.vstack((source_emb, edge_emb, tail_emb)).T\n",
        "    A_list_val.append(matrix_)\n",
        "A_val = np.stack(A_list_val)"
      ],
      "execution_count": 14,
      "outputs": []
    },
    {
      "cell_type": "markdown",
      "metadata": {
        "id": "F5akHhy7c0gz"
      },
      "source": [
        "### Store results into pickle file"
      ]
    },
    {
      "cell_type": "code",
      "metadata": {
        "id": "cEuxvheQeUc-"
      },
      "source": [
        "#with open(\"/content/gdrive/MyDrive/UniCredit/A_train_val.txt\", \n",
        "#          \"wb\") as fp:   #Pickling\n",
        "#    pickle.dump(A_train_val, fp)\n",
        "\n",
        "with open(\"/content/gdrive/MyDrive/UniCredit/A_test_700.txt\", \n",
        "          \"wb\") as fp:   #Pickling\n",
        "    pickle.dump(A_test, fp)\n",
        "\n",
        "with open(\"/content/gdrive/MyDrive/UniCredit/A_train_700.txt\", \n",
        "          \"wb\") as fp:   #Pickling\n",
        "    pickle.dump(A_train, fp)\n",
        "\n",
        "with open(\"/content/gdrive/MyDrive/UniCredit/A_val_700.txt\", \n",
        "          \"wb\") as fp:   #Pickling\n",
        "    pickle.dump(A_val, fp)"
      ],
      "execution_count": 15,
      "outputs": []
    },
    {
      "cell_type": "markdown",
      "metadata": {
        "id": "LJOmGFvdc4SE"
      },
      "source": [
        "### Load Pickle files"
      ]
    },
    {
      "cell_type": "code",
      "metadata": {
        "id": "gUkZagWJGTLP"
      },
      "source": [
        "#with open(\"/content/gdrive/MyDrive/UniCredit/A_train_val.txt\", \"rb\") as fp:   # Unpickling\n",
        "#    A_train_val = pickle.load(fp)\n",
        "\n",
        "with open(\"/content/gdrive/MyDrive/UniCredit/A_test_700.txt\", \"rb\") as fp:   # Unpickling\n",
        "    A_test = pickle.load(fp)\n",
        "\n",
        "with open(\"/content/gdrive/MyDrive/UniCredit/A_train_700.txt\", \"rb\") as fp:   # Unpickling\n",
        "    A_train = pickle.load(fp)\n",
        "\n",
        "with open(\"/content/gdrive/MyDrive/UniCredit/A_val_700.txt\", \"rb\") as fp:   # Unpickling\n",
        "    A_val = pickle.load(fp)"
      ],
      "execution_count": 16,
      "outputs": []
    },
    {
      "cell_type": "markdown",
      "metadata": {
        "id": "QymlrcPQc-Q5"
      },
      "source": [
        "### Melt tensor into a matrix of dimension (len(df), dim(emb)*3). Will then be used as features in the Embedders Model later on"
      ]
    },
    {
      "cell_type": "code",
      "metadata": {
        "id": "I0EW_8a6eUaf"
      },
      "source": [
        "A_train_melt = A_train.reshape(A_train.shape[0], A_train.shape[1]*3, order='F')\n",
        "A_val_melt = A_val.reshape(A_val.shape[0], A_val.shape[1]*3, order='F')\n",
        "A_test_melt = A_test.reshape(A_test.shape[0], A_test.shape[1]*3, order='F')"
      ],
      "execution_count": 17,
      "outputs": []
    },
    {
      "cell_type": "markdown",
      "metadata": {
        "id": "8dqs8xWVdVNF"
      },
      "source": [
        "## CNN Model\n",
        "\n",
        "Based on the paper: https://aclanthology.org/N18-2053.pdf\n",
        "using a Convolutional Neural Network seems like a good idea for link prediction"
      ]
    },
    {
      "cell_type": "code",
      "metadata": {
        "id": "Ffm4c_6X9wos"
      },
      "source": [
        "emb_dimension = A_test.shape[1]\n",
        "\n",
        "class JSCNN_Factory:\n",
        "\n",
        "  def __init__(self, emb_dimension, path='/content/gdrive/MyDrive/UniCredit'):\n",
        "    self.inputs = keras.Input(shape=(emb_dimension, 3, 1)) # Embedding dimension, len((h,r,t))=3, 1 channel\n",
        "    self.outputs = keras.layers.Dense(units=2, activation='softmax')\n",
        "    self.config_file = open(os.path.join(path, 'conf_CNN.csv'), 'a')\n",
        "    self.config_file.write('Id,number_conv_layers,number_dense_layers,number_channels_conv,number_channels_dense\\n')\n",
        "    self.model_id = 0\n",
        "\n",
        "\n",
        "  def _clean(self):\n",
        "    self.inputs = keras.Input(shape=(emb_dimension, 3, 1))\n",
        "    self.outputs = keras.layers.Dense(units=2, activation='softmax')\n",
        "\n",
        "  \n",
        "  def _add_conv_module(self, number_channels_conv):\n",
        "    self.hidden_layers = keras.layers.BatchNormalization()(self.hidden_layers)\n",
        "    self.hidden_layers = keras.layers.Conv2D(filters=number_channels_conv, kernel_size=(1,3), padding='same', activation='elu')(self.hidden_layers)\n",
        "\n",
        "\n",
        "  def _add_dense_module(self, number_channels_dense):\n",
        "    self.hidden_layers = keras.layers.BatchNormalization()(self.hidden_layers)\n",
        "    self.hidden_layers = keras.layers.Dense(units=number_channels_dense, activation='elu')(self.hidden_layers)\n",
        "\n",
        "  \n",
        "  def get_CNN(self, number_conv_layers, number_dense_layers, number_channels_conv, number_channels_dense):\n",
        "    self.hidden_layers = self.inputs\n",
        "\n",
        "    for _ in range(0, number_conv_layers):\n",
        "      self._add_conv_module(number_channels_conv)\n",
        "    \n",
        "    self.hidden_layers = keras.layers.Flatten()(self.hidden_layers)\n",
        "    self.hidden_layers = keras.layers.BatchNormalization()(self.hidden_layers)\n",
        "    self.hidden_layers = keras.layers.Dropout(rate=0.2)(self.hidden_layers)\n",
        "\n",
        "    for _ in range(0, number_dense_layers):\n",
        "      self._add_dense_module(number_channels_dense)\n",
        "\n",
        "    self.outputs = self.outputs(self.hidden_layers)\n",
        "\n",
        "    self.model = keras.Model(inputs=self.inputs, outputs=self.outputs, name='JSCNN')\n",
        "\n",
        "    self._save_model_conf(number_conv_layers, number_dense_layers, number_channels_conv, number_channels_dense)\n",
        "\n",
        "    self._clean()\n",
        "    \n",
        "    return self.model\n",
        "\n",
        "\n",
        "  def _save_model_conf(self, number_conv_layers, number_dense_layers, number_channels_conv, number_channels_dense):\n",
        "    self.config_file.write(f'{self.model_id},{number_conv_layers},{number_dense_layers},{number_channels_conv},{number_channels_dense}\\n')\n",
        "    self.model_id += 1"
      ],
      "execution_count": null,
      "outputs": []
    },
    {
      "cell_type": "code",
      "metadata": {
        "id": "LcQOmkC-26G-"
      },
      "source": [
        "# Create object to build CNN\n",
        "CNN_factory = JSCNN_Factory(emb_dimension)"
      ],
      "execution_count": null,
      "outputs": []
    },
    {
      "cell_type": "code",
      "metadata": {
        "id": "A_0sLfq6257f"
      },
      "source": [
        "# Parametrize the CNN\n",
        "model = CNN_factory.get_CNN(number_conv_layers=2, number_dense_layers=1, number_channels_conv=8, number_channels_dense=32)"
      ],
      "execution_count": null,
      "outputs": []
    },
    {
      "cell_type": "code",
      "metadata": {
        "colab": {
          "base_uri": "https://localhost:8080/"
        },
        "id": "-9r_jgW725q8",
        "outputId": "17ae51f0-a60e-401f-b511-9ba520a5c28f"
      },
      "source": [
        "# CNN summary\n",
        "model.summary()"
      ],
      "execution_count": null,
      "outputs": [
        {
          "output_type": "stream",
          "text": [
            "Model: \"JSCNN\"\n",
            "_________________________________________________________________\n",
            "Layer (type)                 Output Shape              Param #   \n",
            "=================================================================\n",
            "input_10 (InputLayer)        [(None, 700, 3, 1)]       0         \n",
            "_________________________________________________________________\n",
            "batch_normalization_24 (Batc (None, 700, 3, 1)         4         \n",
            "_________________________________________________________________\n",
            "conv2d_11 (Conv2D)           (None, 700, 3, 8)         32        \n",
            "_________________________________________________________________\n",
            "batch_normalization_25 (Batc (None, 700, 3, 8)         32        \n",
            "_________________________________________________________________\n",
            "conv2d_12 (Conv2D)           (None, 700, 3, 8)         200       \n",
            "_________________________________________________________________\n",
            "flatten_6 (Flatten)          (None, 16800)             0         \n",
            "_________________________________________________________________\n",
            "batch_normalization_26 (Batc (None, 16800)             67200     \n",
            "_________________________________________________________________\n",
            "dropout_6 (Dropout)          (None, 16800)             0         \n",
            "_________________________________________________________________\n",
            "batch_normalization_27 (Batc (None, 16800)             67200     \n",
            "_________________________________________________________________\n",
            "dense_17 (Dense)             (None, 32)                537632    \n",
            "_________________________________________________________________\n",
            "dense_16 (Dense)             (None, 2)                 66        \n",
            "=================================================================\n",
            "Total params: 672,366\n",
            "Trainable params: 605,148\n",
            "Non-trainable params: 67,218\n",
            "_________________________________________________________________\n"
          ],
          "name": "stdout"
        }
      ]
    },
    {
      "cell_type": "code",
      "metadata": {
        "id": "ps_BUma925Iq"
      },
      "source": [
        "# Generate evaluation metrics for CNN\n",
        "from keras import backend as K\n",
        "import time\n",
        "\n",
        "def recall_m(y_true, y_pred):\n",
        "    true_positives = K.sum(K.round(K.clip(y_true * y_pred, 0, 1)))\n",
        "    possible_positives = K.sum(K.round(K.clip(y_true, 0, 1)))\n",
        "    recall = true_positives / (possible_positives + K.epsilon())\n",
        "    return recall\n",
        "\n",
        "def precision_m(y_true, y_pred):\n",
        "    true_positives = K.sum(K.round(K.clip(y_true * y_pred, 0, 1)))\n",
        "    predicted_positives = K.sum(K.round(K.clip(y_pred, 0, 1)))\n",
        "    precision = true_positives / (predicted_positives + K.epsilon())\n",
        "    return precision\n",
        "\n",
        "def f1_m(y_true, y_pred):\n",
        "    precision = precision_m(y_true, y_pred)\n",
        "    recall = recall_m(y_true, y_pred)\n",
        "    return 2*((precision*recall)/(precision+recall+K.epsilon()))"
      ],
      "execution_count": 19,
      "outputs": []
    },
    {
      "cell_type": "code",
      "metadata": {
        "id": "ex0fGVa_4Xgn"
      },
      "source": [
        "my_callbacks = [\n",
        "    tf.keras.callbacks.ModelCheckpoint(filepath='model.{epoch:02d}-{val_loss:.2f}.h5'),\n",
        "    tf.keras.callbacks.TensorBoard(log_dir='./logs'),\n",
        "]"
      ],
      "execution_count": null,
      "outputs": []
    },
    {
      "cell_type": "code",
      "metadata": {
        "id": "4a4zzaOv4XS0"
      },
      "source": [
        "# Compile CNN\n",
        "model.compile(optimizer='adam', loss='binary_crossentropy', metrics=['accuracy', f1_m])"
      ],
      "execution_count": null,
      "outputs": []
    },
    {
      "cell_type": "code",
      "metadata": {
        "id": "r7yBv3TbCA71"
      },
      "source": [
        "# Fit Model\n",
        "model.fit(A_train, keras.utils.to_categorical(np.array(train_set.Label)), \n",
        "          validation_data=(A_val, keras.utils.to_categorical(np.array(val_set.Label))),\n",
        "          epochs=50, batch_size=100, callbacks=my_callbacks)"
      ],
      "execution_count": null,
      "outputs": []
    },
    {
      "cell_type": "code",
      "metadata": {
        "id": "TVeQbABX479V"
      },
      "source": [
        "# Select best epoch\n",
        "model = tf.keras.models.load_model('/content/gdrive/MyDrive/UniCredit/Copia di model.89-0.27.h5', \n",
        "                                   custom_objects={'f1_m':f1_m})"
      ],
      "execution_count": 20,
      "outputs": []
    },
    {
      "cell_type": "code",
      "metadata": {
        "id": "UYAeHy01CAuF"
      },
      "source": [
        "# Get CNN predictions\n",
        "ynew_CNN = model.predict(A_test)"
      ],
      "execution_count": null,
      "outputs": []
    },
    {
      "cell_type": "code",
      "metadata": {
        "id": "mHxkXXl9kiBJ"
      },
      "source": [
        ""
      ],
      "execution_count": null,
      "outputs": []
    },
    {
      "cell_type": "markdown",
      "metadata": {
        "id": "3Kqa0AMWVWSP"
      },
      "source": [
        "## Feature Reduction\n",
        "\n",
        "We will also used the embeddings to train other classifiers such as Random Forest, Logisitic Regression, etc. but before that we will reduce the dimensionality"
      ]
    },
    {
      "cell_type": "code",
      "metadata": {
        "id": "ytEcD4EnV7VS"
      },
      "source": [
        "# SVD function\n",
        "def apply_svd(data, n_components):\n",
        "    \n",
        "    svd = TruncatedSVD(n_components=n_components)\n",
        "    svd.fit(data)\n",
        "    transformed = svd.transform(data)\n",
        "\n",
        "    return transformed"
      ],
      "execution_count": 22,
      "outputs": []
    },
    {
      "cell_type": "code",
      "metadata": {
        "id": "VWX_XCSNVaeO"
      },
      "source": [
        "# Apply SVD on test, val and train data reducing to 15 components\n",
        "n_components=15\n",
        "\n",
        "list_feat = ['f_red'+ str(i) for i in range(15*3)]\n",
        "\n",
        "red_val_e1 = pd.DataFrame(apply_svd(A_val_melt[:,:700], n_components), columns=list_feat[0:15])\n",
        "red_val_r = pd.DataFrame(apply_svd(A_val_melt[:,700:1400], n_components), columns=list_feat[15:30])\n",
        "red_val_e2 = pd.DataFrame(apply_svd(A_val_melt[:,1400:2100], n_components), columns=list_feat[30:45])\n",
        "\n",
        "red_train_e1 = pd.DataFrame(apply_svd(A_train_melt[:,:700], n_components), columns=list_feat[0:15])\n",
        "red_train_r = pd.DataFrame(apply_svd(A_train_melt[:,700:1400], n_components), columns=list_feat[15:30])\n",
        "red_train_e2 = pd.DataFrame(apply_svd(A_train_melt[:,1400:2100], n_components), columns=list_feat[30:45])\n",
        "\n",
        "red_test_e1 = pd.DataFrame(apply_svd(A_test_melt[:,:700], n_components), columns=list_feat[0:15])\n",
        "red_test_r = pd.DataFrame(apply_svd(A_test_melt[:,700:1400], n_components), columns=list_feat[15:30])\n",
        "red_test_e2 = pd.DataFrame(apply_svd(A_test_melt[:,1400:2100], n_components), columns=list_feat[30:45])"
      ],
      "execution_count": 23,
      "outputs": []
    },
    {
      "cell_type": "markdown",
      "metadata": {
        "id": "ALe4B6zkepz0"
      },
      "source": [
        "## Feature Generation\n",
        "\n",
        "We will generate the following features:\n",
        "- 6 features presented in the lab by UniCredit Lecturers\n",
        "- CNN Prediction (0 or 1)\n",
        "- CNN Prediction Probability [0, 1]\n",
        "- 15*3 features from the original embeddings"
      ]
    },
    {
      "cell_type": "code",
      "metadata": {
        "id": "94gZnlyl6T8D"
      },
      "source": [
        "def get_relations(df):\n",
        "  \"\"\"\n",
        "  Get the relations in the graph as a dictionary of {'relation':[(head, tail), ...]}.\n",
        "\n",
        "  :param df: pd.DataFrame containing the graph\n",
        "\n",
        "  :return dictionary\n",
        "  \"\"\"\n",
        "  pairs=defaultdict(list)\n",
        "  relations=defaultdict(list)\n",
        "  for i in df.iterrows():\n",
        "      s = i[1]['head']\n",
        "      t = i[1]['tail']\n",
        "      r = i[1]['relation']\n",
        "      pairs[(s,t)].append(r)\n",
        "      relations[r].append((s,t))\n",
        "\n",
        "  return relations"
      ],
      "execution_count": 24,
      "outputs": []
    },
    {
      "cell_type": "code",
      "metadata": {
        "id": "KZBmf9Ta6T1S"
      },
      "source": [
        "def compute_features(G,GUnd,GUndSimple,i,j,rel=None):\n",
        "  \"\"\"\n",
        "  Function to compute the features of the graph\n",
        "\n",
        "  :param G: MultiDiGraph\n",
        "  :param GUnd: MultiGraph (undirected)\n",
        "  :param GUndSimple: Simple undirected graph\n",
        "  :param i: head node\n",
        "  :param j: tail node\n",
        "  :param rel: relation\n",
        "\n",
        "  :return DataFrame with the features\n",
        "  \"\"\"\n",
        "  cn=aa=jc=ind_i = outd_i = ind_j = outd_j =0\n",
        "      \n",
        "  if ((i in GUnd) and (j in GUnd)):\n",
        "      cn = len(list(nx.common_neighbors(GUnd, i,j)))\n",
        "  if ((i in GUndSimple) and (j in GUndSimple)):\n",
        "      jc = [jc for u,v,jc in nx.jaccard_coefficient(GUndSimple, [(i,j)])][0]\n",
        "  if (i in G):\n",
        "      ind_i = G.in_degree(i)\n",
        "      outd_i = G.out_degree(i)\n",
        "  if (j in G):\n",
        "      ind_j = G.in_degree(j)\n",
        "      outd_j = G.out_degree(j)\n",
        "  \n",
        "  return cn,jc,ind_i,ind_j,outd_i,outd_j"
      ],
      "execution_count": 25,
      "outputs": []
    },
    {
      "cell_type": "code",
      "metadata": {
        "id": "TA4Ebja86TuQ"
      },
      "source": [
        "#Given a triple, compute some node features\n",
        "def compute_triples_features(G,GUnd,GUndSimple,rel,triple):\n",
        "    curr_triples_feature={}\n",
        "    curr_triples_feature['relation'] = rel\n",
        "    curr_triples_feature['head'] = triple[0]\n",
        "    curr_triples_feature['tail'] = triple[1]\n",
        "    for ix,feature in enumerate(compute_features(G,GUnd,GUndSimple,triple[0],triple[1],rel)):\n",
        "        curr_triples_feature['f'+str(ix)] = feature\n",
        "    return curr_triples_feature"
      ],
      "execution_count": 26,
      "outputs": []
    },
    {
      "cell_type": "code",
      "metadata": {
        "id": "F2BnKy986Thg"
      },
      "source": [
        "#Compute features for each positive and negative relation\n",
        "def generate_df_features(G, relations):\n",
        "    triples=[]\n",
        "    GUnd = G.to_undirected()\n",
        "    GUndSimple = nx.Graph(GUnd)\n",
        "    for rel in relations.keys():\n",
        "        for posTriple in relations[rel]:\n",
        "            triples.append(compute_triples_features(G,GUnd,GUndSimple,rel,posTriple))\n",
        "    df_rel = pd.DataFrame(triples)\n",
        "    return df_rel"
      ],
      "execution_count": 27,
      "outputs": []
    },
    {
      "cell_type": "code",
      "metadata": {
        "id": "ecIqurUp6TWp"
      },
      "source": [
        "# Generate CNN features, prediction and probability\n",
        "def get_CNN_pred(A, model):\n",
        "  \"\"\"\n",
        "  Function to get the predictions of the CNN\n",
        "\n",
        "  :param A: tensor [n_samples x embedding_len x 3]\n",
        "  :param model: pre-trained CNN\n",
        "\n",
        "  :return DataFrame with the predictions\n",
        "  \"\"\"\n",
        "  ypred = model.predict(A)\n",
        "\n",
        "  pred_classes = np.argmax(ypred, axis=1)\n",
        "  pred_probs = np.max(ypred, axis=1)\n",
        "  res = pd.DataFrame({'pred_class':pred_classes, 'pred_prob':pred_probs})\n",
        "\n",
        "  return res"
      ],
      "execution_count": 28,
      "outputs": []
    },
    {
      "cell_type": "code",
      "metadata": {
        "id": "ixjFua9m6boJ"
      },
      "source": [
        "# Generate data frame with all the new features\n",
        "def generate_new_data(G, data, A, model, test=False):\n",
        "  \"\"\"\n",
        "  Generate the new fetures for each {train, val, test} set.\n",
        "\n",
        "  :param G: graph\n",
        "  :param data: DataFrame\n",
        "  :param A: tensor of embeddings\n",
        "  :param model: CNN\n",
        "  :param test: boolean\n",
        "\n",
        "  :return DataFrame\n",
        "  \"\"\"\n",
        "\n",
        "  relations = get_relations(data)\n",
        "  features = generate_df_features(G, relations)\n",
        "  predictions_CNN = get_CNN_pred(A, model)\n",
        "  features[['pred_class', 'pred_prob']] = predictions_CNN[['pred_class', 'pred_prob']]\n",
        "  features['Id'] = data['Id']\n",
        "  if not test:\n",
        "    features['Label'] = data['Label']\n",
        "\n",
        "  return features"
      ],
      "execution_count": 29,
      "outputs": []
    },
    {
      "cell_type": "code",
      "metadata": {
        "id": "y4iHKqvs93jK"
      },
      "source": [
        "Gtrain=nx.from_pandas_edgelist(train_set, source='head', target='tail', edge_attr='relation', create_using=nx.MultiDiGraph)\n",
        "Gval = nx.from_pandas_edgelist(val_set, source='head', target='tail', edge_attr='relation', create_using=nx.MultiDiGraph)\n",
        "Gtest = nx.from_pandas_edgelist(test_set, source='head', target='tail', edge_attr='relation', create_using=nx.MultiDiGraph)"
      ],
      "execution_count": 30,
      "outputs": []
    },
    {
      "cell_type": "code",
      "metadata": {
        "id": "j-IqKy24-CDf"
      },
      "source": [
        "new_data_train = generate_new_data(Gtrain, train_set, A_train, model)\n",
        "new_data_val = generate_new_data(Gval, val_set, A_val, model)\n",
        "new_data_test = generate_new_data(Gtest, test_set, A_test, model, test=True)"
      ],
      "execution_count": 31,
      "outputs": []
    },
    {
      "cell_type": "code",
      "metadata": {
        "id": "Sy3FKqjjYYw2"
      },
      "source": [
        "# This part includes the reduced embedding features\n",
        "new_data_train = pd.concat((new_data_train, red_train_e1, \n",
        "                            red_train_r, red_train_e2), axis=1)\n",
        "new_data_test = pd.concat((new_data_test, red_test_e1, \n",
        "                            red_test_r, red_test_e2), axis=1)\n",
        "new_data_val = pd.concat((new_data_val, red_val_e1, \n",
        "                            red_val_r, red_val_e2), axis=1)"
      ],
      "execution_count": 32,
      "outputs": []
    },
    {
      "cell_type": "code",
      "metadata": {
        "id": "pjBsd_b0BzkX"
      },
      "source": [
        "path_to_data = '/content/gdrive/MyDrive/UniCredit/'\n",
        "\n",
        "new_data_train.to_csv(os.path.join(path_to_data, 'new_features_train.csv'), index=False)\n",
        "new_data_val.to_csv(os.path.join(path_to_data, 'new_features_val.csv'), index=False)\n",
        "new_data_test.to_csv(os.path.join(path_to_data, 'new_features_test.csv'), index=False)"
      ],
      "execution_count": 34,
      "outputs": []
    },
    {
      "cell_type": "code",
      "metadata": {
        "colab": {
          "base_uri": "https://localhost:8080/",
          "height": 224
        },
        "id": "Xy_YHHle-YFK",
        "outputId": "9747282f-37c6-4974-a5c8-a1bcdbe8db27"
      },
      "source": [
        "new_data_test.head()"
      ],
      "execution_count": 35,
      "outputs": [
        {
          "output_type": "execute_result",
          "data": {
            "text/html": [
              "<div>\n",
              "<style scoped>\n",
              "    .dataframe tbody tr th:only-of-type {\n",
              "        vertical-align: middle;\n",
              "    }\n",
              "\n",
              "    .dataframe tbody tr th {\n",
              "        vertical-align: top;\n",
              "    }\n",
              "\n",
              "    .dataframe thead th {\n",
              "        text-align: right;\n",
              "    }\n",
              "</style>\n",
              "<table border=\"1\" class=\"dataframe\">\n",
              "  <thead>\n",
              "    <tr style=\"text-align: right;\">\n",
              "      <th></th>\n",
              "      <th>relation</th>\n",
              "      <th>head</th>\n",
              "      <th>tail</th>\n",
              "      <th>f0</th>\n",
              "      <th>f1</th>\n",
              "      <th>f2</th>\n",
              "      <th>f3</th>\n",
              "      <th>f4</th>\n",
              "      <th>f5</th>\n",
              "      <th>pred_class</th>\n",
              "      <th>pred_prob</th>\n",
              "      <th>Id</th>\n",
              "      <th>f_red0</th>\n",
              "      <th>f_red1</th>\n",
              "      <th>f_red2</th>\n",
              "      <th>f_red3</th>\n",
              "      <th>f_red4</th>\n",
              "      <th>f_red5</th>\n",
              "      <th>f_red6</th>\n",
              "      <th>f_red7</th>\n",
              "      <th>f_red8</th>\n",
              "      <th>f_red9</th>\n",
              "      <th>f_red10</th>\n",
              "      <th>f_red11</th>\n",
              "      <th>f_red12</th>\n",
              "      <th>f_red13</th>\n",
              "      <th>f_red14</th>\n",
              "      <th>f_red15</th>\n",
              "      <th>f_red16</th>\n",
              "      <th>f_red17</th>\n",
              "      <th>f_red18</th>\n",
              "      <th>f_red19</th>\n",
              "      <th>f_red20</th>\n",
              "      <th>f_red21</th>\n",
              "      <th>f_red22</th>\n",
              "      <th>f_red23</th>\n",
              "      <th>f_red24</th>\n",
              "      <th>f_red25</th>\n",
              "      <th>f_red26</th>\n",
              "      <th>f_red27</th>\n",
              "      <th>f_red28</th>\n",
              "      <th>f_red29</th>\n",
              "      <th>f_red30</th>\n",
              "      <th>f_red31</th>\n",
              "      <th>f_red32</th>\n",
              "      <th>f_red33</th>\n",
              "      <th>f_red34</th>\n",
              "      <th>f_red35</th>\n",
              "      <th>f_red36</th>\n",
              "      <th>f_red37</th>\n",
              "      <th>f_red38</th>\n",
              "      <th>f_red39</th>\n",
              "      <th>f_red40</th>\n",
              "      <th>f_red41</th>\n",
              "      <th>f_red42</th>\n",
              "      <th>f_red43</th>\n",
              "      <th>f_red44</th>\n",
              "    </tr>\n",
              "  </thead>\n",
              "  <tbody>\n",
              "    <tr>\n",
              "      <th>0</th>\n",
              "      <td>operatingSystem</td>\n",
              "      <td>1322</td>\n",
              "      <td>14477</td>\n",
              "      <td>0</td>\n",
              "      <td>0.0</td>\n",
              "      <td>0</td>\n",
              "      <td>7</td>\n",
              "      <td>1</td>\n",
              "      <td>0</td>\n",
              "      <td>0</td>\n",
              "      <td>1.000000</td>\n",
              "      <td>114754</td>\n",
              "      <td>2.101868</td>\n",
              "      <td>-0.079553</td>\n",
              "      <td>-0.225531</td>\n",
              "      <td>-0.118636</td>\n",
              "      <td>0.161321</td>\n",
              "      <td>-0.557222</td>\n",
              "      <td>0.392360</td>\n",
              "      <td>-0.926571</td>\n",
              "      <td>0.057648</td>\n",
              "      <td>0.341015</td>\n",
              "      <td>-0.156376</td>\n",
              "      <td>0.146295</td>\n",
              "      <td>0.708701</td>\n",
              "      <td>-0.181633</td>\n",
              "      <td>0.441124</td>\n",
              "      <td>0.187251</td>\n",
              "      <td>-0.045465</td>\n",
              "      <td>-0.041646</td>\n",
              "      <td>-0.038462</td>\n",
              "      <td>0.004715</td>\n",
              "      <td>0.011998</td>\n",
              "      <td>-0.079375</td>\n",
              "      <td>-0.017312</td>\n",
              "      <td>-0.052402</td>\n",
              "      <td>-0.124753</td>\n",
              "      <td>0.035394</td>\n",
              "      <td>-0.079712</td>\n",
              "      <td>-0.074768</td>\n",
              "      <td>0.011556</td>\n",
              "      <td>-0.022874</td>\n",
              "      <td>1.259990</td>\n",
              "      <td>0.132757</td>\n",
              "      <td>-0.112237</td>\n",
              "      <td>-0.015321</td>\n",
              "      <td>0.050881</td>\n",
              "      <td>0.004012</td>\n",
              "      <td>0.034895</td>\n",
              "      <td>-0.033267</td>\n",
              "      <td>-0.039484</td>\n",
              "      <td>-0.147908</td>\n",
              "      <td>-0.012306</td>\n",
              "      <td>-0.012360</td>\n",
              "      <td>0.027332</td>\n",
              "      <td>-0.093663</td>\n",
              "      <td>-0.047677</td>\n",
              "    </tr>\n",
              "    <tr>\n",
              "      <th>1</th>\n",
              "      <td>operatingSystem</td>\n",
              "      <td>30750</td>\n",
              "      <td>3366</td>\n",
              "      <td>0</td>\n",
              "      <td>0.0</td>\n",
              "      <td>0</td>\n",
              "      <td>6</td>\n",
              "      <td>1</td>\n",
              "      <td>0</td>\n",
              "      <td>0</td>\n",
              "      <td>1.000000</td>\n",
              "      <td>114755</td>\n",
              "      <td>2.186363</td>\n",
              "      <td>0.015829</td>\n",
              "      <td>0.505996</td>\n",
              "      <td>0.682810</td>\n",
              "      <td>-0.134592</td>\n",
              "      <td>-0.600302</td>\n",
              "      <td>-0.018313</td>\n",
              "      <td>-0.044109</td>\n",
              "      <td>-0.161858</td>\n",
              "      <td>0.141601</td>\n",
              "      <td>0.394762</td>\n",
              "      <td>0.118372</td>\n",
              "      <td>0.168606</td>\n",
              "      <td>-0.038113</td>\n",
              "      <td>-0.394330</td>\n",
              "      <td>0.199325</td>\n",
              "      <td>-0.026873</td>\n",
              "      <td>-0.101813</td>\n",
              "      <td>-0.089457</td>\n",
              "      <td>-0.165613</td>\n",
              "      <td>0.073620</td>\n",
              "      <td>-0.055757</td>\n",
              "      <td>-0.031126</td>\n",
              "      <td>-0.000560</td>\n",
              "      <td>0.020684</td>\n",
              "      <td>-0.001004</td>\n",
              "      <td>-0.122088</td>\n",
              "      <td>-0.033235</td>\n",
              "      <td>0.012096</td>\n",
              "      <td>0.007523</td>\n",
              "      <td>0.995772</td>\n",
              "      <td>0.095329</td>\n",
              "      <td>-0.063124</td>\n",
              "      <td>-0.035066</td>\n",
              "      <td>-0.014856</td>\n",
              "      <td>0.000628</td>\n",
              "      <td>-0.003043</td>\n",
              "      <td>0.011868</td>\n",
              "      <td>-0.028059</td>\n",
              "      <td>-0.009441</td>\n",
              "      <td>-0.023481</td>\n",
              "      <td>0.018329</td>\n",
              "      <td>-0.024700</td>\n",
              "      <td>-0.005727</td>\n",
              "      <td>0.002150</td>\n",
              "    </tr>\n",
              "    <tr>\n",
              "      <th>2</th>\n",
              "      <td>operatingSystem</td>\n",
              "      <td>33045</td>\n",
              "      <td>932</td>\n",
              "      <td>0</td>\n",
              "      <td>0.0</td>\n",
              "      <td>0</td>\n",
              "      <td>1</td>\n",
              "      <td>6</td>\n",
              "      <td>0</td>\n",
              "      <td>0</td>\n",
              "      <td>0.943398</td>\n",
              "      <td>114756</td>\n",
              "      <td>1.077688</td>\n",
              "      <td>0.014126</td>\n",
              "      <td>0.017178</td>\n",
              "      <td>0.014746</td>\n",
              "      <td>0.011253</td>\n",
              "      <td>0.001753</td>\n",
              "      <td>0.076797</td>\n",
              "      <td>0.019125</td>\n",
              "      <td>0.017265</td>\n",
              "      <td>0.039135</td>\n",
              "      <td>-0.014828</td>\n",
              "      <td>0.038694</td>\n",
              "      <td>-0.027824</td>\n",
              "      <td>-0.033979</td>\n",
              "      <td>-0.020424</td>\n",
              "      <td>0.090825</td>\n",
              "      <td>-0.016433</td>\n",
              "      <td>-0.044762</td>\n",
              "      <td>-0.040702</td>\n",
              "      <td>-0.032906</td>\n",
              "      <td>0.001551</td>\n",
              "      <td>-0.013504</td>\n",
              "      <td>0.008466</td>\n",
              "      <td>0.017054</td>\n",
              "      <td>-0.008003</td>\n",
              "      <td>-0.006438</td>\n",
              "      <td>-0.015324</td>\n",
              "      <td>0.000127</td>\n",
              "      <td>0.007130</td>\n",
              "      <td>0.005139</td>\n",
              "      <td>1.031989</td>\n",
              "      <td>0.001647</td>\n",
              "      <td>0.009557</td>\n",
              "      <td>-0.066868</td>\n",
              "      <td>0.117456</td>\n",
              "      <td>0.067883</td>\n",
              "      <td>0.005624</td>\n",
              "      <td>0.083670</td>\n",
              "      <td>-0.041310</td>\n",
              "      <td>0.019223</td>\n",
              "      <td>0.058705</td>\n",
              "      <td>-0.080245</td>\n",
              "      <td>0.011256</td>\n",
              "      <td>-0.047343</td>\n",
              "      <td>0.007684</td>\n",
              "    </tr>\n",
              "    <tr>\n",
              "      <th>3</th>\n",
              "      <td>operatingSystem</td>\n",
              "      <td>42206</td>\n",
              "      <td>5554</td>\n",
              "      <td>0</td>\n",
              "      <td>0.0</td>\n",
              "      <td>0</td>\n",
              "      <td>1</td>\n",
              "      <td>3</td>\n",
              "      <td>0</td>\n",
              "      <td>1</td>\n",
              "      <td>0.647623</td>\n",
              "      <td>114757</td>\n",
              "      <td>0.967985</td>\n",
              "      <td>0.063208</td>\n",
              "      <td>0.022269</td>\n",
              "      <td>0.000841</td>\n",
              "      <td>-0.018002</td>\n",
              "      <td>0.019148</td>\n",
              "      <td>0.054580</td>\n",
              "      <td>-0.001534</td>\n",
              "      <td>-0.010605</td>\n",
              "      <td>-0.087606</td>\n",
              "      <td>0.026118</td>\n",
              "      <td>0.018361</td>\n",
              "      <td>0.032771</td>\n",
              "      <td>0.044465</td>\n",
              "      <td>-0.000250</td>\n",
              "      <td>0.132729</td>\n",
              "      <td>-0.006361</td>\n",
              "      <td>-0.035315</td>\n",
              "      <td>-0.037589</td>\n",
              "      <td>-0.031638</td>\n",
              "      <td>0.014176</td>\n",
              "      <td>-0.004402</td>\n",
              "      <td>0.019464</td>\n",
              "      <td>0.003981</td>\n",
              "      <td>0.012548</td>\n",
              "      <td>0.012355</td>\n",
              "      <td>-0.019893</td>\n",
              "      <td>-0.005656</td>\n",
              "      <td>0.011443</td>\n",
              "      <td>-0.003142</td>\n",
              "      <td>1.795733</td>\n",
              "      <td>0.205193</td>\n",
              "      <td>0.075002</td>\n",
              "      <td>-0.012218</td>\n",
              "      <td>0.002310</td>\n",
              "      <td>0.091902</td>\n",
              "      <td>-0.312525</td>\n",
              "      <td>-0.051197</td>\n",
              "      <td>-0.009161</td>\n",
              "      <td>-0.031660</td>\n",
              "      <td>0.082858</td>\n",
              "      <td>0.062917</td>\n",
              "      <td>0.044360</td>\n",
              "      <td>0.130582</td>\n",
              "      <td>0.046311</td>\n",
              "    </tr>\n",
              "    <tr>\n",
              "      <th>4</th>\n",
              "      <td>operatingSystem</td>\n",
              "      <td>38566</td>\n",
              "      <td>4745</td>\n",
              "      <td>0</td>\n",
              "      <td>0.0</td>\n",
              "      <td>0</td>\n",
              "      <td>2</td>\n",
              "      <td>2</td>\n",
              "      <td>0</td>\n",
              "      <td>1</td>\n",
              "      <td>0.786682</td>\n",
              "      <td>114758</td>\n",
              "      <td>1.318649</td>\n",
              "      <td>-0.217600</td>\n",
              "      <td>-0.202893</td>\n",
              "      <td>0.055080</td>\n",
              "      <td>-0.154152</td>\n",
              "      <td>0.001707</td>\n",
              "      <td>-0.009828</td>\n",
              "      <td>-0.049747</td>\n",
              "      <td>0.011008</td>\n",
              "      <td>-0.025078</td>\n",
              "      <td>0.046389</td>\n",
              "      <td>-0.041461</td>\n",
              "      <td>-0.056684</td>\n",
              "      <td>0.073555</td>\n",
              "      <td>0.026354</td>\n",
              "      <td>0.414417</td>\n",
              "      <td>-0.149934</td>\n",
              "      <td>0.014160</td>\n",
              "      <td>-0.102621</td>\n",
              "      <td>0.059356</td>\n",
              "      <td>0.016070</td>\n",
              "      <td>-0.035764</td>\n",
              "      <td>0.023693</td>\n",
              "      <td>-0.071696</td>\n",
              "      <td>0.033463</td>\n",
              "      <td>0.042936</td>\n",
              "      <td>0.022403</td>\n",
              "      <td>0.003367</td>\n",
              "      <td>0.027534</td>\n",
              "      <td>0.007439</td>\n",
              "      <td>4.725959</td>\n",
              "      <td>-1.370295</td>\n",
              "      <td>0.848810</td>\n",
              "      <td>-0.877565</td>\n",
              "      <td>0.598260</td>\n",
              "      <td>-0.486537</td>\n",
              "      <td>-0.885893</td>\n",
              "      <td>0.399028</td>\n",
              "      <td>1.154598</td>\n",
              "      <td>1.389623</td>\n",
              "      <td>1.660212</td>\n",
              "      <td>0.405414</td>\n",
              "      <td>-1.478132</td>\n",
              "      <td>0.633046</td>\n",
              "      <td>-0.178540</td>\n",
              "    </tr>\n",
              "  </tbody>\n",
              "</table>\n",
              "</div>"
            ],
            "text/plain": [
              "          relation   head   tail  f0  ...   f_red41   f_red42   f_red43   f_red44\n",
              "0  operatingSystem   1322  14477   0  ... -0.012360  0.027332 -0.093663 -0.047677\n",
              "1  operatingSystem  30750   3366   0  ...  0.018329 -0.024700 -0.005727  0.002150\n",
              "2  operatingSystem  33045    932   0  ... -0.080245  0.011256 -0.047343  0.007684\n",
              "3  operatingSystem  42206   5554   0  ...  0.062917  0.044360  0.130582  0.046311\n",
              "4  operatingSystem  38566   4745   0  ...  0.405414 -1.478132  0.633046 -0.178540\n",
              "\n",
              "[5 rows x 57 columns]"
            ]
          },
          "metadata": {
            "tags": []
          },
          "execution_count": 35
        }
      ]
    },
    {
      "cell_type": "markdown",
      "metadata": {
        "id": "0M8XA1aZu6a7"
      },
      "source": [
        "## Ensemble Method\n",
        "\n",
        "We will apply 5 different models and choose the prediction label that gets the highest number of votes"
      ]
    },
    {
      "cell_type": "code",
      "metadata": {
        "id": "1O4yKZKrwwXd"
      },
      "source": [
        "train_df = pd.read_csv('/content/gdrive/MyDrive/UniCredit/new_features_train.csv')\n",
        "val_df = pd.read_csv('/content/gdrive/MyDrive/UniCredit/new_features_val.csv')\n",
        "test_df = pd.read_csv('/content/gdrive/MyDrive/UniCredit/new_features_test.csv')"
      ],
      "execution_count": 3,
      "outputs": []
    },
    {
      "cell_type": "code",
      "metadata": {
        "id": "61UyAsABu8Rj"
      },
      "source": [
        "# Random Forest\n",
        "def train_model_parameter_RF(df_train,df_validation,param, \n",
        "                             features=['f0','f1','f2','f3','f4','f5'], test=False):\n",
        "    y_train = df_train['Label']\n",
        "    X_train = df_train[features]\n",
        "    if not test:\n",
        "        y_validation = df_validation['Label']\n",
        "    X_validation = df_validation[features]\n",
        "    model = RandomForestClassifier(**param, random_state=42)\n",
        "    model.fit(X_train, y_train)\n",
        "    pred_validation = model.predict_proba(X_validation)\n",
        "    pred_class_validation = model.predict(X_validation)\n",
        "    if not test:\n",
        "        fpr, tpr, thresholds = metrics.roc_curve(y_validation, pred_validation[:,0], pos_label=1)\n",
        "        tn, fp, fn, tp = metrics.confusion_matrix(y_validation,pred_class_validation).ravel()\n",
        "    if not test:\n",
        "        return {'train':y_train.shape[0],'test':y_validation.shape[0],\n",
        "                'tn':tn,'fp':fp,'fn':fn,'tp':tp,\n",
        "                'AUC':metrics.auc(fpr, tpr),'precision':metrics.precision_score(y_validation,pred_class_validation),\n",
        "                'recall':metrics.recall_score(y_validation,pred_class_validation),\n",
        "                'accuracy':metrics.accuracy_score(y_validation,pred_class_validation),\n",
        "                'F1':metrics.f1_score(y_validation,pred_class_validation),\n",
        "                'Prediction':pred_class_validation}\n",
        "    else:\n",
        "        return {'Prediction':pred_class_validation}"
      ],
      "execution_count": 4,
      "outputs": []
    },
    {
      "cell_type": "code",
      "metadata": {
        "id": "bIt3UPh9yIv8"
      },
      "source": [
        "# Random Forest Parameter Grid\n",
        "param_grid_RF = {\n",
        "    'max_depth': [10, 20, 30],\n",
        "    'n_estimators': [100, 150, 200]\n",
        "}\n",
        "param_grid_RF_list = list(ParameterGrid(param_grid_RF))"
      ],
      "execution_count": 5,
      "outputs": []
    },
    {
      "cell_type": "code",
      "metadata": {
        "id": "9GaoUexuvgnV"
      },
      "source": [
        "# SVM\n",
        "def train_model_parameter_SV(df_train,df_validation,param, \n",
        "                             features=['f0','f1','f2','f3','f4','f5'], \n",
        "                             max_iter=5000, test=False):\n",
        "    y_train = df_train['Label']\n",
        "    X_train = df_train[features]\n",
        "    y_validation = df_validation['Label']\n",
        "    X_validation = df_validation[features]\n",
        "    model = SVC(**param, random_state=42, max_iter=max_iter)\n",
        "    model.fit(X_train, y_train)\n",
        "    pred_validation = model.predict_proba(X_validation)\n",
        "    pred_class_validation = model.predict(X_validation)\n",
        "    fpr, tpr, thresholds = metrics.roc_curve(y_validation, pred_validation[:,0], pos_label=1)\n",
        "    tn, fp, fn, tp = metrics.confusion_matrix(y_validation,pred_class_validation).ravel()\n",
        "    return {'train':y_train.shape[0],'test':y_validation.shape[0],\n",
        "            'tn':tn,'fp':fp,'fn':fn,'tp':tp,\n",
        "            'AUC':metrics.auc(fpr, tpr),'precision':metrics.precision_score(y_validation,pred_class_validation),\n",
        "            'recall':metrics.recall_score(y_validation,pred_class_validation),\n",
        "            'accuracy':metrics.accuracy_score(y_validation,pred_class_validation),\n",
        "            'F1':metrics.f1_score(y_validation,pred_class_validation),\n",
        "            'Prediction':pred_class_validation}"
      ],
      "execution_count": 6,
      "outputs": []
    },
    {
      "cell_type": "code",
      "metadata": {
        "id": "UAhHQPBJvheW"
      },
      "source": [
        "# SVM Parameter Grid\n",
        "param_grid_SV = {\n",
        "    'kernel': ['linear', 'poly', 'rbf', 'sigmoid', 'precomputed']\n",
        "}\n",
        "param_grid_SV_list = list(ParameterGrid(param_grid_SV))"
      ],
      "execution_count": 7,
      "outputs": []
    },
    {
      "cell_type": "code",
      "metadata": {
        "id": "Nsi1O75lvhRy"
      },
      "source": [
        "# Linear SVM\n",
        "def train_model_parameter_LS(df_train,df_validation,param, \n",
        "                                 features=['f0','f1','f2','f3','f4','f5'], test=False):\n",
        "    y_train = df_train['Label']\n",
        "    X_train = df_train[features]\n",
        "    if not test:\n",
        "        y_validation = df_validation['Label']\n",
        "    X_validation = df_validation[features]\n",
        "    model = LinearSVC(**param, random_state=42)\n",
        "    model.fit(X_train, y_train)\n",
        "    #pred_validation = model.predict_proba(X_validation)\n",
        "    pred_class_validation = model.predict(X_validation)\n",
        "    if not test:\n",
        "        #fpr, tpr, thresholds = metrics.roc_curve(y_validation, pred_validation[:,0], pos_label=1)\n",
        "        tn, fp, fn, tp = metrics.confusion_matrix(y_validation,pred_class_validation).ravel()\n",
        "    if not test:\n",
        "        return {'train':y_train.shape[0],'test':y_validation.shape[0],\n",
        "                'tn':tn,'fp':fp,'fn':fn,'tp':tp,\n",
        "                #'AUC':metrics.auc(fpr, tpr),\n",
        "                'precision':metrics.precision_score(y_validation,pred_class_validation),\n",
        "                'recall':metrics.recall_score(y_validation,pred_class_validation),\n",
        "                'accuracy':metrics.accuracy_score(y_validation,pred_class_validation),\n",
        "                'F1':metrics.f1_score(y_validation,pred_class_validation),\n",
        "                'Prediction':pred_class_validation}\n",
        "    else:\n",
        "        return {'Prediction':pred_class_validation}"
      ],
      "execution_count": 8,
      "outputs": []
    },
    {
      "cell_type": "code",
      "metadata": {
        "id": "CGAsqAcCzcLs"
      },
      "source": [
        "# Linear SVM Parameter Grid\n",
        "param_grid_LS = {\n",
        "    'penalty': ['l1', 'l2'],\n",
        "    'loss': ['hinge', 'squared_hinge'],\n",
        "    'C': [0.001, .1, 5],\n",
        "}\n",
        "param_grid_LS_list = list(ParameterGrid(param_grid_LS))"
      ],
      "execution_count": 9,
      "outputs": []
    },
    {
      "cell_type": "code",
      "metadata": {
        "id": "2GDYEE7vzz_L"
      },
      "source": [
        "# XGBoost\n",
        "def train_model_parameter_XG(df_train,df_validation,param, \n",
        "                                 features=['f0','f1','f2','f3','f4','f5'], test=False):\n",
        "    y_train = df_train['Label']\n",
        "    X_train = df_train[features]\n",
        "    if not test:\n",
        "        y_validation = df_validation['Label']\n",
        "    X_validation = df_validation[features]\n",
        "    model = XGBClassifier(**param, random_state = 42)\n",
        "    model.fit(X_train, y_train)\n",
        "    pred_validation = model.predict_proba(X_validation)\n",
        "    pred_class_validation = model.predict(X_validation)\n",
        "    if not test:\n",
        "        fpr, tpr, thresholds = metrics.roc_curve(y_validation, pred_validation[:,0], pos_label=1)\n",
        "        tn, fp, fn, tp = metrics.confusion_matrix(y_validation,pred_class_validation).ravel()\n",
        "    if not test:\n",
        "        return {'train':y_train.shape[0],'test':y_validation.shape[0],\n",
        "                'tn':tn,'fp':fp,'fn':fn,'tp':tp,\n",
        "                'AUC':metrics.auc(fpr, tpr),'precision':metrics.precision_score(y_validation,pred_class_validation),\n",
        "                'recall':metrics.recall_score(y_validation,pred_class_validation),\n",
        "                'accuracy':metrics.accuracy_score(y_validation,pred_class_validation),\n",
        "                'F1':metrics.f1_score(y_validation,pred_class_validation),\n",
        "                'Prediction':pred_class_validation}\n",
        "    else:\n",
        "        return {'Prediction':pred_class_validation}"
      ],
      "execution_count": 10,
      "outputs": []
    },
    {
      "cell_type": "code",
      "metadata": {
        "id": "sCtziOeL1EGb"
      },
      "source": [
        "# XGBoost Parameter Grid\n",
        "param_grid_XG = {'max_depth':[3, 6, 9],\n",
        "              'min_child_weight':[1, 6],\n",
        "              'learning_rate': [0.0001, 0.1]}\n",
        "param_grid_XG_list = list(ParameterGrid(param_grid_XG))"
      ],
      "execution_count": 11,
      "outputs": []
    },
    {
      "cell_type": "code",
      "metadata": {
        "id": "r4dKzRoE1NOf"
      },
      "source": [
        "# Logistic Regression\n",
        "def train_model_parameter_LR(df_train, df_validation, param, \n",
        "                             features=['f0','f1','f2','f3','f4','f5'], test=False):\n",
        "    y_train = df_train['Label']\n",
        "    X_train = df_train[features]\n",
        "    if not test:\n",
        "        y_validation = df_validation['Label']\n",
        "    X_validation = df_validation[features]\n",
        "    model = LogisticRegression(**param, random_state = 42)\n",
        "    model.fit(X_train, y_train)\n",
        "    pred_validation = model.predict_proba(X_validation)\n",
        "    pred_class_validation = model.predict(X_validation)\n",
        "    if not test:\n",
        "        fpr, tpr, thresholds = metrics.roc_curve(y_validation, pred_validation[:,0], pos_label=1)\n",
        "        tn, fp, fn, tp = metrics.confusion_matrix(y_validation,pred_class_validation).ravel()\n",
        "    if not test:\n",
        "        return {'train':y_train.shape[0],'test':y_validation.shape[0],\n",
        "                'tn':tn,'fp':fp,'fn':fn,'tp':tp,\n",
        "                'AUC':metrics.auc(fpr, tpr),\n",
        "                'precision':metrics.precision_score(y_validation,pred_class_validation),\n",
        "                'recall':metrics.recall_score(y_validation,pred_class_validation),\n",
        "                'accuracy':metrics.accuracy_score(y_validation,pred_class_validation),\n",
        "                'F1':metrics.f1_score(y_validation,pred_class_validation),\n",
        "                'Prediction':pred_class_validation}\n",
        "    else:\n",
        "        return {'Prediction':pred_class_validation}"
      ],
      "execution_count": 12,
      "outputs": []
    },
    {
      "cell_type": "code",
      "metadata": {
        "id": "Fq94MR_S2dOr"
      },
      "source": [
        "# Logistic Regression Parameter Grid\n",
        "param_grid_LR = {'penalty':['l1', 'l2', 'elasticnet', 'none'],\n",
        "              'C':[0.01, 0.5, 1],\n",
        "              'solver': ['saga'],\n",
        "              'max_iter': [5000]}\n",
        "param_grid_LR_list = list(ParameterGrid(param_grid_LR))\n",
        "\n"
      ],
      "execution_count": 13,
      "outputs": []
    },
    {
      "cell_type": "code",
      "metadata": {
        "id": "WNbWpbjj2zC5"
      },
      "source": [
        "params = {'LR':param_grid_LR_list, \n",
        "          'XG':param_grid_XG_list, \n",
        "          'LS':param_grid_LS_list, \n",
        "          'SV':param_grid_SV_list,\n",
        "          'RF':param_grid_RF_list}"
      ],
      "execution_count": null,
      "outputs": []
    },
    {
      "cell_type": "code",
      "metadata": {
        "colab": {
          "base_uri": "https://localhost:8080/"
        },
        "id": "DasjV_nm3Z8g",
        "outputId": "286e7453-6456-402f-cf0b-f37e20bbe204"
      },
      "source": [
        "# Hyper-parametrization of all models\n",
        "features = ['f0', 'f1', 'f2', 'f3', 'f4', 'f5'] + ['f_red'+ str(i) for i in range(15*3)]\n",
        "X_train = train_df\n",
        "X_test = val_df\n",
        "score_param = []\n",
        "for model_param in params:\n",
        "    print('============')\n",
        "    print('New Model:', model_param)\n",
        "    print('============')\n",
        "    for i in params[model_param]:\n",
        "        print(i)\n",
        "        if model_param == 'LR':\n",
        "            try:\n",
        "                res = train_model_parameter_LR(df_train=X_train, \n",
        "                                                df_validation=X_test,\n",
        "                                                param=i,\n",
        "                                                features=features)\n",
        "            except:\n",
        "                print('Something went wrong')\n",
        "                continue\n",
        "        if model_param == 'XG':\n",
        "            try:\n",
        "                res = train_model_parameter_XG(df_train=X_train, \n",
        "                                                df_validation=X_test,\n",
        "                                                param=i,\n",
        "                                                features=features)\n",
        "            except:\n",
        "                print('Something went wrong')\n",
        "                continue\n",
        "        if model_param == 'LS':\n",
        "            try:\n",
        "                res = train_model_parameter_LS(df_train=X_train, \n",
        "                                                df_validation=X_test,\n",
        "                                                param=i,\n",
        "                                                features=features)\n",
        "            except:\n",
        "                print('Something went wrong')\n",
        "                continue\n",
        "        if model_param == 'SV':\n",
        "            try:\n",
        "                res = train_model_parameter_SV(df_train=X_train, \n",
        "                                                df_validation=X_test,\n",
        "                                                param=i,\n",
        "                                                features=features, \n",
        "                                                max_iter=100000)\n",
        "            except:\n",
        "                print('Something went wrong')\n",
        "                continue\n",
        "        if model_param == 'RF':\n",
        "            try:\n",
        "                res = train_model_parameter_RF(df_train=X_train, \n",
        "                                                df_validation=X_test,\n",
        "                                                param=i,\n",
        "                                                features=features)\n",
        "            except:\n",
        "                print('Something went wrong')\n",
        "                continue\n",
        "        score_param.append((model_param, i, res['F1']))"
      ],
      "execution_count": null,
      "outputs": [
        {
          "output_type": "stream",
          "text": [
            "============\n",
            "New Model: LR\n",
            "============\n",
            "{'C': 0.01, 'max_iter': 5000, 'penalty': 'l1', 'solver': 'saga'}\n",
            "{'C': 0.01, 'max_iter': 5000, 'penalty': 'l2', 'solver': 'saga'}\n",
            "{'C': 0.01, 'max_iter': 5000, 'penalty': 'elasticnet', 'solver': 'saga'}\n",
            "Something went wrong\n",
            "{'C': 0.01, 'max_iter': 5000, 'penalty': 'none', 'solver': 'saga'}\n"
          ],
          "name": "stdout"
        },
        {
          "output_type": "stream",
          "text": [
            "/usr/local/lib/python3.7/dist-packages/sklearn/linear_model/_logistic.py:1505: UserWarning: Setting penalty='none' will ignore the C and l1_ratio parameters\n",
            "  \"Setting penalty='none' will ignore the C and l1_ratio \"\n"
          ],
          "name": "stderr"
        },
        {
          "output_type": "stream",
          "text": [
            "{'C': 0.5, 'max_iter': 5000, 'penalty': 'l1', 'solver': 'saga'}\n",
            "{'C': 0.5, 'max_iter': 5000, 'penalty': 'l2', 'solver': 'saga'}\n",
            "{'C': 0.5, 'max_iter': 5000, 'penalty': 'elasticnet', 'solver': 'saga'}\n",
            "Something went wrong\n",
            "{'C': 0.5, 'max_iter': 5000, 'penalty': 'none', 'solver': 'saga'}\n"
          ],
          "name": "stdout"
        },
        {
          "output_type": "stream",
          "text": [
            "/usr/local/lib/python3.7/dist-packages/sklearn/linear_model/_logistic.py:1505: UserWarning: Setting penalty='none' will ignore the C and l1_ratio parameters\n",
            "  \"Setting penalty='none' will ignore the C and l1_ratio \"\n"
          ],
          "name": "stderr"
        },
        {
          "output_type": "stream",
          "text": [
            "{'C': 1, 'max_iter': 5000, 'penalty': 'l1', 'solver': 'saga'}\n",
            "{'C': 1, 'max_iter': 5000, 'penalty': 'l2', 'solver': 'saga'}\n",
            "{'C': 1, 'max_iter': 5000, 'penalty': 'elasticnet', 'solver': 'saga'}\n",
            "Something went wrong\n",
            "{'C': 1, 'max_iter': 5000, 'penalty': 'none', 'solver': 'saga'}\n",
            "============\n",
            "New Model: XG\n",
            "============\n",
            "{'learning_rate': 0.0001, 'max_depth': 3, 'min_child_weight': 1}\n",
            "{'learning_rate': 0.0001, 'max_depth': 3, 'min_child_weight': 6}\n",
            "{'learning_rate': 0.0001, 'max_depth': 6, 'min_child_weight': 1}\n",
            "{'learning_rate': 0.0001, 'max_depth': 6, 'min_child_weight': 6}\n",
            "{'learning_rate': 0.0001, 'max_depth': 9, 'min_child_weight': 1}\n",
            "{'learning_rate': 0.0001, 'max_depth': 9, 'min_child_weight': 6}\n",
            "{'learning_rate': 0.1, 'max_depth': 3, 'min_child_weight': 1}\n",
            "{'learning_rate': 0.1, 'max_depth': 3, 'min_child_weight': 6}\n",
            "{'learning_rate': 0.1, 'max_depth': 6, 'min_child_weight': 1}\n",
            "{'learning_rate': 0.1, 'max_depth': 6, 'min_child_weight': 6}\n",
            "{'learning_rate': 0.1, 'max_depth': 9, 'min_child_weight': 1}\n",
            "{'learning_rate': 0.1, 'max_depth': 9, 'min_child_weight': 6}\n",
            "============\n",
            "New Model: LS\n",
            "============\n",
            "{'C': 0.001, 'loss': 'hinge', 'penalty': 'l1'}\n",
            "Something went wrong\n",
            "{'C': 0.001, 'loss': 'hinge', 'penalty': 'l2'}\n"
          ],
          "name": "stdout"
        },
        {
          "output_type": "stream",
          "text": [
            "/usr/local/lib/python3.7/dist-packages/sklearn/svm/_base.py:947: ConvergenceWarning: Liblinear failed to converge, increase the number of iterations.\n",
            "  \"the number of iterations.\", ConvergenceWarning)\n"
          ],
          "name": "stderr"
        },
        {
          "output_type": "stream",
          "text": [
            "{'C': 0.001, 'loss': 'squared_hinge', 'penalty': 'l1'}\n",
            "Something went wrong\n",
            "{'C': 0.001, 'loss': 'squared_hinge', 'penalty': 'l2'}\n",
            "{'C': 0.1, 'loss': 'hinge', 'penalty': 'l1'}\n",
            "Something went wrong\n",
            "{'C': 0.1, 'loss': 'hinge', 'penalty': 'l2'}\n"
          ],
          "name": "stdout"
        },
        {
          "output_type": "stream",
          "text": [
            "/usr/local/lib/python3.7/dist-packages/sklearn/svm/_base.py:947: ConvergenceWarning: Liblinear failed to converge, increase the number of iterations.\n",
            "  \"the number of iterations.\", ConvergenceWarning)\n"
          ],
          "name": "stderr"
        },
        {
          "output_type": "stream",
          "text": [
            "{'C': 0.1, 'loss': 'squared_hinge', 'penalty': 'l1'}\n",
            "Something went wrong\n",
            "{'C': 0.1, 'loss': 'squared_hinge', 'penalty': 'l2'}\n"
          ],
          "name": "stdout"
        },
        {
          "output_type": "stream",
          "text": [
            "/usr/local/lib/python3.7/dist-packages/sklearn/svm/_base.py:947: ConvergenceWarning: Liblinear failed to converge, increase the number of iterations.\n",
            "  \"the number of iterations.\", ConvergenceWarning)\n"
          ],
          "name": "stderr"
        },
        {
          "output_type": "stream",
          "text": [
            "{'C': 5, 'loss': 'hinge', 'penalty': 'l1'}\n",
            "Something went wrong\n",
            "{'C': 5, 'loss': 'hinge', 'penalty': 'l2'}\n"
          ],
          "name": "stdout"
        },
        {
          "output_type": "stream",
          "text": [
            "/usr/local/lib/python3.7/dist-packages/sklearn/svm/_base.py:947: ConvergenceWarning: Liblinear failed to converge, increase the number of iterations.\n",
            "  \"the number of iterations.\", ConvergenceWarning)\n"
          ],
          "name": "stderr"
        },
        {
          "output_type": "stream",
          "text": [
            "{'C': 5, 'loss': 'squared_hinge', 'penalty': 'l1'}\n",
            "Something went wrong\n",
            "{'C': 5, 'loss': 'squared_hinge', 'penalty': 'l2'}\n"
          ],
          "name": "stdout"
        },
        {
          "output_type": "stream",
          "text": [
            "/usr/local/lib/python3.7/dist-packages/sklearn/svm/_base.py:947: ConvergenceWarning: Liblinear failed to converge, increase the number of iterations.\n",
            "  \"the number of iterations.\", ConvergenceWarning)\n"
          ],
          "name": "stderr"
        },
        {
          "output_type": "stream",
          "text": [
            "============\n",
            "New Model: RF\n",
            "============\n",
            "{'max_depth': 10, 'n_estimators': 100}\n",
            "{'max_depth': 10, 'n_estimators': 150}\n",
            "{'max_depth': 10, 'n_estimators': 200}\n",
            "{'max_depth': 20, 'n_estimators': 100}\n",
            "{'max_depth': 20, 'n_estimators': 150}\n",
            "{'max_depth': 20, 'n_estimators': 200}\n",
            "{'max_depth': 30, 'n_estimators': 100}\n",
            "{'max_depth': 30, 'n_estimators': 150}\n",
            "{'max_depth': 30, 'n_estimators': 200}\n"
          ],
          "name": "stdout"
        }
      ]
    },
    {
      "cell_type": "code",
      "metadata": {
        "id": "zF62woV88r0c"
      },
      "source": [
        "score_df = pd.DataFrame(score_param, columns=['Model', 'Params', 'F1'])"
      ],
      "execution_count": null,
      "outputs": []
    },
    {
      "cell_type": "code",
      "metadata": {
        "colab": {
          "base_uri": "https://localhost:8080/",
          "height": 1000
        },
        "id": "8H4GVCuWn1rA",
        "outputId": "8efc2706-9afa-44bb-ff4b-a4b14d35131a"
      },
      "source": [
        "score_df"
      ],
      "execution_count": null,
      "outputs": [
        {
          "output_type": "execute_result",
          "data": {
            "text/html": [
              "<div>\n",
              "<style scoped>\n",
              "    .dataframe tbody tr th:only-of-type {\n",
              "        vertical-align: middle;\n",
              "    }\n",
              "\n",
              "    .dataframe tbody tr th {\n",
              "        vertical-align: top;\n",
              "    }\n",
              "\n",
              "    .dataframe thead th {\n",
              "        text-align: right;\n",
              "    }\n",
              "</style>\n",
              "<table border=\"1\" class=\"dataframe\">\n",
              "  <thead>\n",
              "    <tr style=\"text-align: right;\">\n",
              "      <th></th>\n",
              "      <th>Model</th>\n",
              "      <th>Params</th>\n",
              "      <th>F1</th>\n",
              "    </tr>\n",
              "  </thead>\n",
              "  <tbody>\n",
              "    <tr>\n",
              "      <th>0</th>\n",
              "      <td>LR</td>\n",
              "      <td>{'C': 0.01, 'max_iter': 5000, 'penalty': 'l1',...</td>\n",
              "      <td>0.659672</td>\n",
              "    </tr>\n",
              "    <tr>\n",
              "      <th>1</th>\n",
              "      <td>LR</td>\n",
              "      <td>{'C': 0.01, 'max_iter': 5000, 'penalty': 'l2',...</td>\n",
              "      <td>0.659995</td>\n",
              "    </tr>\n",
              "    <tr>\n",
              "      <th>2</th>\n",
              "      <td>LR</td>\n",
              "      <td>{'C': 0.01, 'max_iter': 5000, 'penalty': 'none...</td>\n",
              "      <td>0.587129</td>\n",
              "    </tr>\n",
              "    <tr>\n",
              "      <th>3</th>\n",
              "      <td>LR</td>\n",
              "      <td>{'C': 0.5, 'max_iter': 5000, 'penalty': 'l1', ...</td>\n",
              "      <td>0.598032</td>\n",
              "    </tr>\n",
              "    <tr>\n",
              "      <th>4</th>\n",
              "      <td>LR</td>\n",
              "      <td>{'C': 0.5, 'max_iter': 5000, 'penalty': 'l2', ...</td>\n",
              "      <td>0.595990</td>\n",
              "    </tr>\n",
              "    <tr>\n",
              "      <th>5</th>\n",
              "      <td>LR</td>\n",
              "      <td>{'C': 0.5, 'max_iter': 5000, 'penalty': 'none'...</td>\n",
              "      <td>0.587129</td>\n",
              "    </tr>\n",
              "    <tr>\n",
              "      <th>6</th>\n",
              "      <td>LR</td>\n",
              "      <td>{'C': 1, 'max_iter': 5000, 'penalty': 'l1', 's...</td>\n",
              "      <td>0.592129</td>\n",
              "    </tr>\n",
              "    <tr>\n",
              "      <th>7</th>\n",
              "      <td>LR</td>\n",
              "      <td>{'C': 1, 'max_iter': 5000, 'penalty': 'l2', 's...</td>\n",
              "      <td>0.592383</td>\n",
              "    </tr>\n",
              "    <tr>\n",
              "      <th>8</th>\n",
              "      <td>LR</td>\n",
              "      <td>{'C': 1, 'max_iter': 5000, 'penalty': 'none', ...</td>\n",
              "      <td>0.587129</td>\n",
              "    </tr>\n",
              "    <tr>\n",
              "      <th>9</th>\n",
              "      <td>XG</td>\n",
              "      <td>{'learning_rate': 0.0001, 'max_depth': 3, 'min...</td>\n",
              "      <td>0.740223</td>\n",
              "    </tr>\n",
              "    <tr>\n",
              "      <th>10</th>\n",
              "      <td>XG</td>\n",
              "      <td>{'learning_rate': 0.0001, 'max_depth': 3, 'min...</td>\n",
              "      <td>0.740223</td>\n",
              "    </tr>\n",
              "    <tr>\n",
              "      <th>11</th>\n",
              "      <td>XG</td>\n",
              "      <td>{'learning_rate': 0.0001, 'max_depth': 6, 'min...</td>\n",
              "      <td>0.702425</td>\n",
              "    </tr>\n",
              "    <tr>\n",
              "      <th>12</th>\n",
              "      <td>XG</td>\n",
              "      <td>{'learning_rate': 0.0001, 'max_depth': 6, 'min...</td>\n",
              "      <td>0.702363</td>\n",
              "    </tr>\n",
              "    <tr>\n",
              "      <th>13</th>\n",
              "      <td>XG</td>\n",
              "      <td>{'learning_rate': 0.0001, 'max_depth': 9, 'min...</td>\n",
              "      <td>0.675136</td>\n",
              "    </tr>\n",
              "    <tr>\n",
              "      <th>14</th>\n",
              "      <td>XG</td>\n",
              "      <td>{'learning_rate': 0.0001, 'max_depth': 9, 'min...</td>\n",
              "      <td>0.670247</td>\n",
              "    </tr>\n",
              "    <tr>\n",
              "      <th>15</th>\n",
              "      <td>XG</td>\n",
              "      <td>{'learning_rate': 0.1, 'max_depth': 3, 'min_ch...</td>\n",
              "      <td>0.752871</td>\n",
              "    </tr>\n",
              "    <tr>\n",
              "      <th>16</th>\n",
              "      <td>XG</td>\n",
              "      <td>{'learning_rate': 0.1, 'max_depth': 3, 'min_ch...</td>\n",
              "      <td>0.754118</td>\n",
              "    </tr>\n",
              "    <tr>\n",
              "      <th>17</th>\n",
              "      <td>XG</td>\n",
              "      <td>{'learning_rate': 0.1, 'max_depth': 6, 'min_ch...</td>\n",
              "      <td>0.674723</td>\n",
              "    </tr>\n",
              "    <tr>\n",
              "      <th>18</th>\n",
              "      <td>XG</td>\n",
              "      <td>{'learning_rate': 0.1, 'max_depth': 6, 'min_ch...</td>\n",
              "      <td>0.692030</td>\n",
              "    </tr>\n",
              "    <tr>\n",
              "      <th>19</th>\n",
              "      <td>XG</td>\n",
              "      <td>{'learning_rate': 0.1, 'max_depth': 9, 'min_ch...</td>\n",
              "      <td>0.616501</td>\n",
              "    </tr>\n",
              "    <tr>\n",
              "      <th>20</th>\n",
              "      <td>XG</td>\n",
              "      <td>{'learning_rate': 0.1, 'max_depth': 9, 'min_ch...</td>\n",
              "      <td>0.628208</td>\n",
              "    </tr>\n",
              "    <tr>\n",
              "      <th>21</th>\n",
              "      <td>LS</td>\n",
              "      <td>{'C': 0.001, 'loss': 'hinge', 'penalty': 'l2'}</td>\n",
              "      <td>0.605689</td>\n",
              "    </tr>\n",
              "    <tr>\n",
              "      <th>22</th>\n",
              "      <td>LS</td>\n",
              "      <td>{'C': 0.001, 'loss': 'squared_hinge', 'penalty...</td>\n",
              "      <td>0.658059</td>\n",
              "    </tr>\n",
              "    <tr>\n",
              "      <th>23</th>\n",
              "      <td>LS</td>\n",
              "      <td>{'C': 0.1, 'loss': 'hinge', 'penalty': 'l2'}</td>\n",
              "      <td>0.530960</td>\n",
              "    </tr>\n",
              "    <tr>\n",
              "      <th>24</th>\n",
              "      <td>LS</td>\n",
              "      <td>{'C': 0.1, 'loss': 'squared_hinge', 'penalty':...</td>\n",
              "      <td>0.541219</td>\n",
              "    </tr>\n",
              "    <tr>\n",
              "      <th>25</th>\n",
              "      <td>LS</td>\n",
              "      <td>{'C': 5, 'loss': 'hinge', 'penalty': 'l2'}</td>\n",
              "      <td>0.535158</td>\n",
              "    </tr>\n",
              "    <tr>\n",
              "      <th>26</th>\n",
              "      <td>LS</td>\n",
              "      <td>{'C': 5, 'loss': 'squared_hinge', 'penalty': '...</td>\n",
              "      <td>0.593547</td>\n",
              "    </tr>\n",
              "    <tr>\n",
              "      <th>27</th>\n",
              "      <td>RF</td>\n",
              "      <td>{'max_depth': 10, 'n_estimators': 100}</td>\n",
              "      <td>0.680567</td>\n",
              "    </tr>\n",
              "    <tr>\n",
              "      <th>28</th>\n",
              "      <td>RF</td>\n",
              "      <td>{'max_depth': 10, 'n_estimators': 150}</td>\n",
              "      <td>0.688646</td>\n",
              "    </tr>\n",
              "    <tr>\n",
              "      <th>29</th>\n",
              "      <td>RF</td>\n",
              "      <td>{'max_depth': 10, 'n_estimators': 200}</td>\n",
              "      <td>0.678888</td>\n",
              "    </tr>\n",
              "    <tr>\n",
              "      <th>30</th>\n",
              "      <td>RF</td>\n",
              "      <td>{'max_depth': 20, 'n_estimators': 100}</td>\n",
              "      <td>0.646736</td>\n",
              "    </tr>\n",
              "    <tr>\n",
              "      <th>31</th>\n",
              "      <td>RF</td>\n",
              "      <td>{'max_depth': 20, 'n_estimators': 150}</td>\n",
              "      <td>0.647681</td>\n",
              "    </tr>\n",
              "    <tr>\n",
              "      <th>32</th>\n",
              "      <td>RF</td>\n",
              "      <td>{'max_depth': 20, 'n_estimators': 200}</td>\n",
              "      <td>0.650063</td>\n",
              "    </tr>\n",
              "    <tr>\n",
              "      <th>33</th>\n",
              "      <td>RF</td>\n",
              "      <td>{'max_depth': 30, 'n_estimators': 100}</td>\n",
              "      <td>0.624913</td>\n",
              "    </tr>\n",
              "    <tr>\n",
              "      <th>34</th>\n",
              "      <td>RF</td>\n",
              "      <td>{'max_depth': 30, 'n_estimators': 150}</td>\n",
              "      <td>0.631971</td>\n",
              "    </tr>\n",
              "    <tr>\n",
              "      <th>35</th>\n",
              "      <td>RF</td>\n",
              "      <td>{'max_depth': 30, 'n_estimators': 200}</td>\n",
              "      <td>0.637627</td>\n",
              "    </tr>\n",
              "  </tbody>\n",
              "</table>\n",
              "</div>"
            ],
            "text/plain": [
              "   Model                                             Params        F1\n",
              "0     LR  {'C': 0.01, 'max_iter': 5000, 'penalty': 'l1',...  0.659672\n",
              "1     LR  {'C': 0.01, 'max_iter': 5000, 'penalty': 'l2',...  0.659995\n",
              "2     LR  {'C': 0.01, 'max_iter': 5000, 'penalty': 'none...  0.587129\n",
              "3     LR  {'C': 0.5, 'max_iter': 5000, 'penalty': 'l1', ...  0.598032\n",
              "4     LR  {'C': 0.5, 'max_iter': 5000, 'penalty': 'l2', ...  0.595990\n",
              "5     LR  {'C': 0.5, 'max_iter': 5000, 'penalty': 'none'...  0.587129\n",
              "6     LR  {'C': 1, 'max_iter': 5000, 'penalty': 'l1', 's...  0.592129\n",
              "7     LR  {'C': 1, 'max_iter': 5000, 'penalty': 'l2', 's...  0.592383\n",
              "8     LR  {'C': 1, 'max_iter': 5000, 'penalty': 'none', ...  0.587129\n",
              "9     XG  {'learning_rate': 0.0001, 'max_depth': 3, 'min...  0.740223\n",
              "10    XG  {'learning_rate': 0.0001, 'max_depth': 3, 'min...  0.740223\n",
              "11    XG  {'learning_rate': 0.0001, 'max_depth': 6, 'min...  0.702425\n",
              "12    XG  {'learning_rate': 0.0001, 'max_depth': 6, 'min...  0.702363\n",
              "13    XG  {'learning_rate': 0.0001, 'max_depth': 9, 'min...  0.675136\n",
              "14    XG  {'learning_rate': 0.0001, 'max_depth': 9, 'min...  0.670247\n",
              "15    XG  {'learning_rate': 0.1, 'max_depth': 3, 'min_ch...  0.752871\n",
              "16    XG  {'learning_rate': 0.1, 'max_depth': 3, 'min_ch...  0.754118\n",
              "17    XG  {'learning_rate': 0.1, 'max_depth': 6, 'min_ch...  0.674723\n",
              "18    XG  {'learning_rate': 0.1, 'max_depth': 6, 'min_ch...  0.692030\n",
              "19    XG  {'learning_rate': 0.1, 'max_depth': 9, 'min_ch...  0.616501\n",
              "20    XG  {'learning_rate': 0.1, 'max_depth': 9, 'min_ch...  0.628208\n",
              "21    LS     {'C': 0.001, 'loss': 'hinge', 'penalty': 'l2'}  0.605689\n",
              "22    LS  {'C': 0.001, 'loss': 'squared_hinge', 'penalty...  0.658059\n",
              "23    LS       {'C': 0.1, 'loss': 'hinge', 'penalty': 'l2'}  0.530960\n",
              "24    LS  {'C': 0.1, 'loss': 'squared_hinge', 'penalty':...  0.541219\n",
              "25    LS         {'C': 5, 'loss': 'hinge', 'penalty': 'l2'}  0.535158\n",
              "26    LS  {'C': 5, 'loss': 'squared_hinge', 'penalty': '...  0.593547\n",
              "27    RF             {'max_depth': 10, 'n_estimators': 100}  0.680567\n",
              "28    RF             {'max_depth': 10, 'n_estimators': 150}  0.688646\n",
              "29    RF             {'max_depth': 10, 'n_estimators': 200}  0.678888\n",
              "30    RF             {'max_depth': 20, 'n_estimators': 100}  0.646736\n",
              "31    RF             {'max_depth': 20, 'n_estimators': 150}  0.647681\n",
              "32    RF             {'max_depth': 20, 'n_estimators': 200}  0.650063\n",
              "33    RF             {'max_depth': 30, 'n_estimators': 100}  0.624913\n",
              "34    RF             {'max_depth': 30, 'n_estimators': 150}  0.631971\n",
              "35    RF             {'max_depth': 30, 'n_estimators': 200}  0.637627"
            ]
          },
          "metadata": {
            "tags": []
          },
          "execution_count": 17
        }
      ]
    },
    {
      "cell_type": "code",
      "metadata": {
        "colab": {
          "base_uri": "https://localhost:8080/",
          "height": 173
        },
        "id": "-a-z-Eg68rvp",
        "outputId": "4ccd8f7b-dd27-4af4-8c02-8b05483a7a82"
      },
      "source": [
        "score_df.loc[score_df.groupby(\"Model\")[\"F1\"].idxmax()][['Model', 'Params']]"
      ],
      "execution_count": null,
      "outputs": [
        {
          "output_type": "execute_result",
          "data": {
            "text/html": [
              "<div>\n",
              "<style scoped>\n",
              "    .dataframe tbody tr th:only-of-type {\n",
              "        vertical-align: middle;\n",
              "    }\n",
              "\n",
              "    .dataframe tbody tr th {\n",
              "        vertical-align: top;\n",
              "    }\n",
              "\n",
              "    .dataframe thead th {\n",
              "        text-align: right;\n",
              "    }\n",
              "</style>\n",
              "<table border=\"1\" class=\"dataframe\">\n",
              "  <thead>\n",
              "    <tr style=\"text-align: right;\">\n",
              "      <th></th>\n",
              "      <th>Model</th>\n",
              "      <th>Params</th>\n",
              "    </tr>\n",
              "  </thead>\n",
              "  <tbody>\n",
              "    <tr>\n",
              "      <th>1</th>\n",
              "      <td>LR</td>\n",
              "      <td>{'C': 0.01, 'max_iter': 5000, 'penalty': 'l2',...</td>\n",
              "    </tr>\n",
              "    <tr>\n",
              "      <th>22</th>\n",
              "      <td>LS</td>\n",
              "      <td>{'C': 0.001, 'loss': 'squared_hinge', 'penalty...</td>\n",
              "    </tr>\n",
              "    <tr>\n",
              "      <th>28</th>\n",
              "      <td>RF</td>\n",
              "      <td>{'max_depth': 10, 'n_estimators': 150}</td>\n",
              "    </tr>\n",
              "    <tr>\n",
              "      <th>16</th>\n",
              "      <td>XG</td>\n",
              "      <td>{'learning_rate': 0.1, 'max_depth': 3, 'min_ch...</td>\n",
              "    </tr>\n",
              "  </tbody>\n",
              "</table>\n",
              "</div>"
            ],
            "text/plain": [
              "   Model                                             Params\n",
              "1     LR  {'C': 0.01, 'max_iter': 5000, 'penalty': 'l2',...\n",
              "22    LS  {'C': 0.001, 'loss': 'squared_hinge', 'penalty...\n",
              "28    RF             {'max_depth': 10, 'n_estimators': 150}\n",
              "16    XG  {'learning_rate': 0.1, 'max_depth': 3, 'min_ch..."
            ]
          },
          "metadata": {
            "tags": []
          },
          "execution_count": 18
        }
      ]
    },
    {
      "cell_type": "code",
      "metadata": {
        "id": "X1-Omzh625ZF"
      },
      "source": [
        "X_train = train_df\n",
        "X_test = test_df\n",
        "pred_dict = {}\n",
        "features = ['f0', 'f1', 'f2', 'f3', \n",
        "            'f4', 'f5', \n",
        "            'pred_class', \n",
        "            'pred_prob'] + ['f_red'+ str(i) for i in range(15*3)]\n",
        "\n",
        "for model_param, i in temp:\n",
        "\n",
        "    print(i)\n",
        "    print(model_param)\n",
        "\n",
        "    if model_param == 'LR':\n",
        "        try:\n",
        "            res = train_model_parameter_LR(df_train=X_train, \n",
        "                                            df_validation=X_test,\n",
        "                                            param=i,\n",
        "                                            features=features, test=True)\n",
        "        except:\n",
        "            print('Something went wrong')\n",
        "            continue\n",
        "    if model_param == 'XG':\n",
        "        try:\n",
        "            res = train_model_parameter_XG(df_train=X_train, \n",
        "                                            df_validation=X_test,\n",
        "                                            param=i,\n",
        "                                            features=features, test=True)\n",
        "        except:\n",
        "            print('Something went wrong')\n",
        "            continue\n",
        "    if model_param == 'LS':\n",
        "        try:\n",
        "            res = train_model_parameter_LS(df_train=X_train, \n",
        "                                            df_validation=X_test,\n",
        "                                            param=i,\n",
        "                                            features=features, test=True)\n",
        "        except:\n",
        "            print('Something went wrong')\n",
        "            continue\n",
        "    if model_param == 'SV':\n",
        "        try:\n",
        "            res = train_model_parameter_SV(df_train=X_train, \n",
        "                                            df_validation=X_test,\n",
        "                                            param=i,\n",
        "                                            features=features, \n",
        "                                            max_iter=100000, test=True)\n",
        "        except:\n",
        "            print('Something went wrong')\n",
        "            continue\n",
        "    if model_param == 'RF':\n",
        "        try:\n",
        "            res = train_model_parameter_RF(df_train=X_train, \n",
        "                                            df_validation=X_test,\n",
        "                                            param=i,\n",
        "                                            features=features, test=True)\n",
        "        except:\n",
        "            print('Something went wrong')\n",
        "            continue\n",
        "    pred_dict[model_param] = res['Prediction']\n",
        "\n"
      ],
      "execution_count": null,
      "outputs": []
    },
    {
      "cell_type": "code",
      "metadata": {
        "id": "yo7NIObykGwm"
      },
      "source": [
        "pred_df = pd.DataFrame(pred_dict)"
      ],
      "execution_count": 70,
      "outputs": []
    },
    {
      "cell_type": "code",
      "metadata": {
        "id": "KKVxhgzUkLoS",
        "colab": {
          "base_uri": "https://localhost:8080/"
        },
        "outputId": "f93360da-b2d3-4c13-a5d6-fe307923d4f5"
      },
      "source": [
        "pred_df.shape"
      ],
      "execution_count": 71,
      "outputs": [
        {
          "output_type": "execute_result",
          "data": {
            "text/plain": [
              "(28690, 4)"
            ]
          },
          "metadata": {
            "tags": []
          },
          "execution_count": 71
        }
      ]
    },
    {
      "cell_type": "code",
      "metadata": {
        "colab": {
          "base_uri": "https://localhost:8080/",
          "height": 204
        },
        "id": "qYA23hePoHGO",
        "outputId": "1614dd8b-7140-498f-d73e-0d736b104f13"
      },
      "source": [
        "pred_df.head()"
      ],
      "execution_count": 27,
      "outputs": [
        {
          "output_type": "execute_result",
          "data": {
            "text/html": [
              "<div>\n",
              "<style scoped>\n",
              "    .dataframe tbody tr th:only-of-type {\n",
              "        vertical-align: middle;\n",
              "    }\n",
              "\n",
              "    .dataframe tbody tr th {\n",
              "        vertical-align: top;\n",
              "    }\n",
              "\n",
              "    .dataframe thead th {\n",
              "        text-align: right;\n",
              "    }\n",
              "</style>\n",
              "<table border=\"1\" class=\"dataframe\">\n",
              "  <thead>\n",
              "    <tr style=\"text-align: right;\">\n",
              "      <th></th>\n",
              "      <th>LR</th>\n",
              "      <th>LS</th>\n",
              "      <th>RF</th>\n",
              "      <th>XG</th>\n",
              "    </tr>\n",
              "  </thead>\n",
              "  <tbody>\n",
              "    <tr>\n",
              "      <th>0</th>\n",
              "      <td>1</td>\n",
              "      <td>1</td>\n",
              "      <td>0</td>\n",
              "      <td>1</td>\n",
              "    </tr>\n",
              "    <tr>\n",
              "      <th>1</th>\n",
              "      <td>1</td>\n",
              "      <td>1</td>\n",
              "      <td>0</td>\n",
              "      <td>0</td>\n",
              "    </tr>\n",
              "    <tr>\n",
              "      <th>2</th>\n",
              "      <td>1</td>\n",
              "      <td>0</td>\n",
              "      <td>1</td>\n",
              "      <td>1</td>\n",
              "    </tr>\n",
              "    <tr>\n",
              "      <th>3</th>\n",
              "      <td>1</td>\n",
              "      <td>1</td>\n",
              "      <td>0</td>\n",
              "      <td>0</td>\n",
              "    </tr>\n",
              "    <tr>\n",
              "      <th>4</th>\n",
              "      <td>0</td>\n",
              "      <td>0</td>\n",
              "      <td>0</td>\n",
              "      <td>0</td>\n",
              "    </tr>\n",
              "  </tbody>\n",
              "</table>\n",
              "</div>"
            ],
            "text/plain": [
              "   LR  LS  RF  XG\n",
              "0   1   1   0   1\n",
              "1   1   1   0   0\n",
              "2   1   0   1   1\n",
              "3   1   1   0   0\n",
              "4   0   0   0   0"
            ]
          },
          "metadata": {
            "tags": []
          },
          "execution_count": 27
        }
      ]
    },
    {
      "cell_type": "code",
      "metadata": {
        "id": "CgkJzu1VnKtL"
      },
      "source": [
        "merged_df = pd.concat((test_df, pred_df), axis=1)"
      ],
      "execution_count": 62,
      "outputs": []
    },
    {
      "cell_type": "code",
      "metadata": {
        "id": "coKjjxxRCAGE"
      },
      "source": [
        "merged_df['Predicted'] = merged_df.apply(lambda x: int(sum([x['RF'], x['XG'], x['pred_class']]) >= 2), axis=1)"
      ],
      "execution_count": 72,
      "outputs": []
    },
    {
      "cell_type": "code",
      "metadata": {
        "id": "uvaiAEhfpNOV"
      },
      "source": [
        "final_prediction = merged_df"
      ],
      "execution_count": 65,
      "outputs": []
    },
    {
      "cell_type": "markdown",
      "metadata": {
        "id": "-5apuhr1gXGu"
      },
      "source": [
        "## Save final prediction"
      ]
    },
    {
      "cell_type": "code",
      "metadata": {
        "id": "qVpLUUyZpxSK"
      },
      "source": [
        "final_prediction[['Id', 'Predicted']].to_csv('final_pred.csv', index=False)"
      ],
      "execution_count": 73,
      "outputs": []
    },
    {
      "cell_type": "code",
      "metadata": {
        "colab": {
          "base_uri": "https://localhost:8080/"
        },
        "id": "yVC9EVYGtTxH",
        "outputId": "d7857d81-8321-4a41-c717-64f6171c2576"
      },
      "source": [
        "final_prediction.shape"
      ],
      "execution_count": 74,
      "outputs": [
        {
          "output_type": "execute_result",
          "data": {
            "text/plain": [
              "(28690, 63)"
            ]
          },
          "metadata": {
            "tags": []
          },
          "execution_count": 74
        }
      ]
    },
    {
      "cell_type": "code",
      "metadata": {
        "id": "0F1ufsfYtf-d"
      },
      "source": [
        ""
      ],
      "execution_count": null,
      "outputs": []
    }
  ]
}